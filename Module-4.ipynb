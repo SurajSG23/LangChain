{
 "cells": [
  {
   "cell_type": "markdown",
   "id": "b142d79c-3972-4d49-9e57-23f9175f946b",
   "metadata": {},
   "source": [
    "# LangChain Expression Language\n",
    "\n",
    "### What is LCEL?\n",
    "\n",
    "* A declarative way to build AI pipelines in LangChain.\n",
    "* Instead of long Python code, you connect components in a chain-like style.\n",
    "\n",
    "---\n",
    "\n",
    "### Why LCEL?\n",
    "\n",
    "* Shorter and cleaner code.\n",
    "* Easier to read and maintain.\n",
    "* Works the same for synchronous, asynchronous, batch, and streaming execution.\n",
    "* Good for debugging and reusing components.\n",
    "\n",
    "---\n",
    "\n",
    "### Basic Example\n",
    "\n",
    "Without LCEL:\n",
    "\n",
    "```python\n",
    "prompt = PromptTemplate.from_template(\"Tell me a joke about {topic}\")\n",
    "chain = LLMChain(llm=ChatOpenAI(), prompt=prompt)\n",
    "result = chain.run(\"cats\")\n",
    "```\n",
    "\n",
    "With LCEL:\n",
    "\n",
    "```python\n",
    "chain = prompt | ChatOpenAI() | StrOutputParser()\n",
    "result = chain.invoke({\"topic\": \"cats\"})\n",
    "```\n",
    "**prompt, ChatOpenAI(), StrOutputParser() are called runnables**\n",
    "\n",
    "---\n",
    "\n",
    "## LCEL Operators\n",
    "\n",
    "* `|` → Pipe operator, connects steps.\n",
    "* `.invoke()` → Run once with input.\n",
    "* `.batch()` → Run for multiple inputs.\n",
    "* `.stream()` → Get outputs step by step (streaming responses).\n",
    "\n",
    "---\n",
    "\n",
    "## Key Features\n",
    "\n",
    "1. Composable – you can plug and play different parts.\n",
    "2. Parallel and sequential execution supported.\n",
    "3. Unified API – works the same for sync, async, batch, and streaming.\n",
    "4. Production-ready – optimized for speed and scalability.\n",
    "\n",
    "---\n",
    "\n",
    "## Simple Summary\n",
    "\n",
    "* LCEL is a short and readable way to connect LangChain components.\n",
    "* It works like piping data through different steps.\n",
    "* Use `|` to chain steps.\n",
    "* The same code works for real-time, async, or batch calls.\n",
    "\n",
    "---\n"
   ]
  },
  {
   "cell_type": "markdown",
   "id": "1943da09-e209-47bd-91ee-5dba9306f6ff",
   "metadata": {},
   "source": [
    "# ➡️Piping a prompt, model, and an output parser"
   ]
  },
  {
   "cell_type": "code",
   "execution_count": 19,
   "id": "46bb950f-0685-4b2b-b7ba-2150ef6e40e0",
   "metadata": {},
   "outputs": [],
   "source": [
    "from langchain_google_genai import ChatGoogleGenerativeAI\n",
    "from langchain_core.prompts import ChatPromptTemplate\n",
    "from langchain_core.output_parsers import CommaSeparatedListOutputParser, StrOutputParser\n",
    "from langchain_core.runnables import RunnablePassthrough\n",
    "import config"
   ]
  },
  {
   "cell_type": "code",
   "execution_count": 7,
   "id": "2d5ce49c-da69-46b2-8713-9b5d2efc542d",
   "metadata": {},
   "outputs": [
    {
     "data": {
      "text/plain": [
       "'Your response should be a list of comma separated values, eg: `foo, bar, baz` or `foo,bar,baz`'"
      ]
     },
     "execution_count": 7,
     "metadata": {},
     "output_type": "execute_result"
    }
   ],
   "source": [
    "list_instructions = CommaSeparatedListOutputParser().get_format_instructions()\n",
    "\n",
    "list_instructions"
   ]
  },
  {
   "cell_type": "code",
   "execution_count": 8,
   "id": "b17085af-9b8a-4777-8452-b14ef76040a5",
   "metadata": {},
   "outputs": [
    {
     "name": "stdout",
     "output_type": "stream",
     "text": [
      "I've recently adopted a {pet}. Could you suggest three {pet} names? \n",
      "Your response should be a list of comma separated values, eg: `foo, bar, baz` or `foo,bar,baz`\n"
     ]
    }
   ],
   "source": [
    "# Chat Template\n",
    "\n",
    "chat_template = ChatPromptTemplate.from_messages([\n",
    "    ('human', \"I've recently adopted a {pet}. Could you suggest three {pet} names? \\n\" + list_instructions)\n",
    "])\n",
    "\n",
    "print(chat_template.messages[0].prompt.template)"
   ]
  },
  {
   "cell_type": "code",
   "execution_count": 3,
   "id": "95e0401b-e7a5-4669-acbd-140186f1d58c",
   "metadata": {},
   "outputs": [],
   "source": [
    "# Chat Model\n",
    "\n",
    "def AskGeminiAI(question):\n",
    "    llm = ChatGoogleGenerativeAI(\n",
    "        model=\"gemini-2.0-flash\",\n",
    "        google_api_key=config.gemini_api_key,\n",
    "        temperature=0.7,\n",
    "        max_tokens=250,\n",
    "        model_kwargs={\"seed\": 42}\n",
    "    )\n",
    "    response = llm.invoke(question)\n",
    "    return response.content"
   ]
  },
  {
   "cell_type": "code",
   "execution_count": 18,
   "id": "adda5920-af39-493f-bf36-9bf98d75bfd2",
   "metadata": {},
   "outputs": [],
   "source": [
    "# Output parser\n",
    "\n",
    "list_output_parser = CommaSeparatedListOutputParser()"
   ]
  },
  {
   "cell_type": "code",
   "execution_count": 28,
   "id": "e97fcdfe-14bd-4890-b5e6-089517573149",
   "metadata": {},
   "outputs": [
    {
     "data": {
      "text/plain": [
       "['Buddy', 'Luna', 'Charlie']"
      ]
     },
     "execution_count": 28,
     "metadata": {},
     "output_type": "execute_result"
    }
   ],
   "source": [
    "# 3 step\n",
    "\n",
    "chat_template_result = chat_template.invoke({'pet':'dog'})\n",
    "\n",
    "chat_result = AskGeminiAI(chat_template_result)\n",
    "\n",
    "list_output_parser.invoke(chat_result)"
   ]
  },
  {
   "cell_type": "code",
   "execution_count": 29,
   "id": "815f422c-cd7b-4f7e-8ba5-a860b1ad2201",
   "metadata": {},
   "outputs": [
    {
     "data": {
      "text/plain": [
       "['Buddy', 'Luna', 'Charlie']"
      ]
     },
     "execution_count": 29,
     "metadata": {},
     "output_type": "execute_result"
    }
   ],
   "source": [
    "# Single line\n",
    "\n",
    "chain = chat_template | AskGeminiAI | list_output_parser\n",
    "\n",
    "chain.invoke({'pet':'dog'})"
   ]
  },
  {
   "cell_type": "markdown",
   "id": "b2f1fa9b-9b60-49a9-a7fb-d57c6e2950d3",
   "metadata": {},
   "source": [
    "# ➡️Batching"
   ]
  },
  {
   "cell_type": "code",
   "execution_count": 30,
   "id": "e9ba2333-e83d-419a-bb0c-d95d500035b3",
   "metadata": {},
   "outputs": [],
   "source": [
    "chat_template = ChatPromptTemplate.from_messages([\n",
    "    ('human', \n",
    "     \"I've recently adopted a {pet} which is a {breed}. Could you suggest several training tips?\")\n",
    "])"
   ]
  },
  {
   "cell_type": "code",
   "execution_count": 31,
   "id": "aca9088e-e47a-4667-a8f8-3645963bc055",
   "metadata": {},
   "outputs": [],
   "source": [
    "chain = chat_template | AskGeminiAI"
   ]
  },
  {
   "cell_type": "code",
   "execution_count": 32,
   "id": "11253f37-b372-4348-bb44-c75491ff1fcb",
   "metadata": {},
   "outputs": [
    {
     "data": {
      "text/plain": [
       "'Congratulations on adopting a Shepherd! They are intelligent and loyal dogs, but can also be energetic and require consistent training. Here are some training tips tailored to Shepherds:\\n\\n**1. Establish Yourself as the Leader (Positive Reinforcement Focus):**\\n\\n*   **Consistency is Key:** Shepherds thrive on structure and routine. Be consistent with your commands, rules, and expectations. Everyone in the household should use the same commands and enforce the same rules.\\n*   **Positive Reinforcement:** Shepherds respond very well to positive reinforcement. Use treats, praise, toys, and affection to reward desired behaviors.  Avoid punishment-based methods, as they can damage your relationship and lead to anxiety or aggression.\\n*   **Clear Communication:** Use clear and concise commands. Avoid long sentences or confusing jargon. Keep your tone consistent and confident.\\n\\n**2. Basic Obedience Training:**\\n\\n*   **Start Early:** Begin training as soon as possible, even if your Shepherd is an adult.  Adult dogs can learn new tricks!\\n*   **\"Sit,\" \"Stay,\" \"Come,\" \"Down,\" \"Leave It\":** These are essential commands for all dogs, but especially important for Shepherds due to their herding instincts and'"
      ]
     },
     "execution_count": 32,
     "metadata": {},
     "output_type": "execute_result"
    }
   ],
   "source": [
    "chain.invoke({'pet':'dog', 'breed':'shepherd'})"
   ]
  },
  {
   "cell_type": "code",
   "execution_count": 37,
   "id": "8cf514fb-6b42-425c-8e9e-da3f0131f6ca",
   "metadata": {},
   "outputs": [
    {
     "name": "stdout",
     "output_type": "stream",
     "text": [
      "CPU times: total: 109 ms\n",
      "Wall time: 3.03 s\n"
     ]
    },
    {
     "data": {
      "text/plain": [
       "[\"Congratulations on adopting a Shepherd! They are intelligent and eager to please, but also need consistent training and mental stimulation. Here are some training tips specifically geared towards Shepherds:\\n\\n**1. Early Socialization is Key:**\\n\\n*   **Expose your Shepherd to a variety of sights, sounds, people, and other dogs.**  Do this in a controlled and positive manner.  Think puppy classes, walks in different environments, and meeting friendly, well-behaved dogs.\\n*   **Socialization window:**  The critical socialization period is between 8 and 16 weeks of age.  While it's ideal to start during this time, socialization is important throughout their life.\\n*   **Positive Reinforcement:**  Use treats, praise, and toys to reward positive interactions.  Never force an interaction if your dog is scared or uncomfortable.\\n\\n**2. Basic Obedience is Essential:**\\n\\n*   **Start with the basics:**  Sit, stay, come, down, leave it, and heel.  Use positive reinforcement methods.\\n*   **Consistency is crucial:**  Use the same commands and hand signals every time.  Practice in short, frequent sessions (5-10 minutes) several times a day\",\n",
       " 'Congratulations on adopting a Night Fury! They\\'re incredibly intelligent and loyal creatures, but they also require a specific approach to training. Here are some training tips, keeping in mind their unique personality and abilities:\\n\\n**1. Build Trust and Bond:**\\n\\n*   **Patience is Key:** Night Furies are cautious and need to trust you completely before they\\'ll cooperate. Don\\'t rush the process. Spend time simply being around them, letting them get used to your presence and scent.\\n*   **Positive Reinforcement:** Forget punishment! Night Furies respond best to positive reinforcement. Use praise, gentle scratches (especially under the chin!), and rewards (see \"Food Rewards\" below) when they do something right.\\n*   **Understanding Body Language:** Learn to read your Night Fury\\'s body language.  A relaxed posture, soft eyes, and purring indicate comfort and trust.  Pinning ears, dilated pupils, and hissing are signs of fear or discomfort. Backing away, or giving them space if they are uncomfortable is important.\\n*   **Respect Boundaries:** Don\\'t force interaction. Let your Night Fury come to you. If they back away or show signs of discomfort, respect their boundaries and']"
      ]
     },
     "execution_count": 37,
     "metadata": {},
     "output_type": "execute_result"
    }
   ],
   "source": [
    "%%time\n",
    "chain.batch([{'pet':'dog', 'breed':'shepherd'}, \n",
    "             {'pet':'dragon', 'breed':'night fury'}])"
   ]
  },
  {
   "cell_type": "code",
   "execution_count": 38,
   "id": "d037aa20-0036-46dd-80c6-9d7f0d34ca44",
   "metadata": {},
   "outputs": [
    {
     "name": "stdout",
     "output_type": "stream",
     "text": [
      "CPU times: total: 62.5 ms\n",
      "Wall time: 2.63 s\n"
     ]
    },
    {
     "data": {
      "text/plain": [
       "'Congratulations on adopting a shepherd! They\\'re intelligent and eager to please, but also need consistent training and mental stimulation. Here are some training tips specific to shepherds:\\n\\n**1. Focus on Positive Reinforcement:**\\n\\n*   **Treats, Praise, and Toys:** Shepherds respond very well to positive reinforcement. Use high-value treats (small, smelly, and irresistible!), enthusiastic praise, and favorite toys as rewards for good behavior.\\n*   **Avoid Punishment:** Punishment can damage your bond and lead to fear-based aggression. Focus on rewarding the behaviors you want to see.\\n*   **Clicker Training:** Consider using a clicker. It\\'s a great way to mark the exact moment your dog performs the desired behavior, followed by a reward.\\n\\n**2. Start Early and Be Consistent:**\\n\\n*   **Basic Obedience:** Teach basic commands like \"sit,\" \"stay,\" \"down,\" \"come,\" and \"leave it.\" Start in a quiet environment and gradually introduce distractions.\\n*   **Consistency is Key:** Everyone in the household should use the same commands and training methods. This will avoid confusion for your dog.\\n*   **Short Sessions:** Keep training sessions short and fun (5-'"
      ]
     },
     "execution_count": 38,
     "metadata": {},
     "output_type": "execute_result"
    }
   ],
   "source": [
    "%%time\n",
    "chain.invoke({'pet':'dog', 'breed':'shepherd'})"
   ]
  },
  {
   "cell_type": "code",
   "execution_count": 39,
   "id": "7f74f5bc-f377-4844-be61-9df1785b0e3c",
   "metadata": {},
   "outputs": [
    {
     "name": "stdout",
     "output_type": "stream",
     "text": [
      "CPU times: total: 78.1 ms\n",
      "Wall time: 3.86 s\n"
     ]
    },
    {
     "data": {
      "text/plain": [
       "\"Congratulations on adopting a Night Fury! They are incredibly intelligent, loyal, and powerful dragons, but also require a special approach to training. Here are some training tips, keeping in mind their unique personality:\\n\\n**Building Trust and Connection (Crucial for Night Furies):**\\n\\n*   **Patience and Understanding:** This is paramount. Night Furies are naturally wary and independent. Rushing the process will only push them away. Go slow, be gentle, and respect their boundaries.\\n*   **Positive Reinforcement:** Absolutely essential. Forget punishment. Focus on rewarding desired behaviors with praise, affection (scratches under the chin are often appreciated!), and treats (more on that later).\\n*   **Non-Verbal Communication:** Pay close attention to your Night Fury's body language. Learn to read their ear positions, tail movements, and vocalizations. They are excellent communicators, but you need to listen.\\n*   **Bonding Time:** Spend quality time with your Night Fury without demanding anything in return. Simply be present, talk to them in a soothing voice, and offer gentle physical contact if they allow it. Flying together is a fantastic bonding experience.\\n*   **Consistency:** Be consistent with your commands\""
      ]
     },
     "execution_count": 39,
     "metadata": {},
     "output_type": "execute_result"
    }
   ],
   "source": [
    "%%time\n",
    "chain.invoke({'pet':'dragon', 'breed':'night fury'})"
   ]
  },
  {
   "cell_type": "markdown",
   "id": "a1a0eee2-3597-466a-9a89-03669da70e73",
   "metadata": {},
   "source": [
    "### 1. **CPU time**\n",
    "\n",
    "* The amount of time the CPU actually spent executing your code.\n",
    "* Includes user + system CPU usage.\n",
    "* If your code runs in **parallel** across multiple cores, CPU time can be **greater than wall time** (because it sums across cores).\n",
    "\n",
    "---\n",
    "\n",
    "### 2. **Wall time**\n",
    "\n",
    "* The real-world elapsed time (like looking at a stopwatch).\n",
    "* Starts when the cell begins execution, stops when it ends.\n",
    "* Includes waiting, I/O delays, and any time the process was idle.\n",
    "\n",
    "---"
   ]
  },
  {
   "cell_type": "markdown",
   "id": "d4ae5486-8cf9-4118-adbb-8273ba7d11a7",
   "metadata": {},
   "source": [
    "# ➡️Streaming"
   ]
  },
  {
   "cell_type": "code",
   "execution_count": 41,
   "id": "a75c4fe6-792f-440b-80c1-4bab2c32fa54",
   "metadata": {},
   "outputs": [],
   "source": [
    "chat_template = ChatPromptTemplate.from_messages([\n",
    "    ('human', \n",
    "     \"I've recently adopted a {pet} which is a {breed}. Could you suggest several training tips?\")\n",
    "])"
   ]
  },
  {
   "cell_type": "code",
   "execution_count": 4,
   "id": "cf3163e4-10ed-4695-9e12-b603c9aae132",
   "metadata": {},
   "outputs": [],
   "source": [
    "llm = ChatGoogleGenerativeAI(\n",
    "        model=\"gemini-2.0-flash\",\n",
    "        google_api_key=config.gemini_api_key,\n",
    "        temperature=0.7,\n",
    "        max_tokens=250,\n",
    "        model_kwargs={\"seed\": 42}\n",
    "    )"
   ]
  },
  {
   "cell_type": "code",
   "execution_count": 51,
   "id": "8ac22a87-95fa-46ac-b7a0-15362db8362c",
   "metadata": {},
   "outputs": [],
   "source": [
    "chain = chat_template | llm"
   ]
  },
  {
   "cell_type": "code",
   "execution_count": 52,
   "id": "b8b1b7fc-3e8f-4008-afae-4a482efd91f3",
   "metadata": {},
   "outputs": [
    {
     "name": "stdout",
     "output_type": "stream",
     "text": [
      "CPU times: total: 15.6 ms\n",
      "Wall time: 2.6 s\n"
     ]
    },
    {
     "data": {
      "text/plain": [
       "AIMessage(content=\"Congratulations on adopting a shepherd! They're intelligent and eager to please, which makes them generally very trainable. Here are some training tips, broken down into categories, to get you started:\\n\\n**1. Understanding Your Shepherd's Breed:**\\n\\n*   **High Energy & Intelligence:** Shepherds need a job. They were bred to herd and work, so they need mental and physical stimulation to prevent boredom and destructive behaviors.\\n*   **Herding Instincts:** Be aware of their herding instincts. They may try to herd children, other pets, or even cars. Training will help manage this.\\n*   **Loyalty & Protectiveness:** Shepherds are loyal and protective of their families. Socialization is crucial to ensure they are friendly and confident around strangers.\\n\\n**2. Basic Obedience Training:**\\n\\n*   **Start Early:** Even if your dog is an adult, start training immediately. Reinforce good behaviors.\\n*   **Positive Reinforcement:** Use positive reinforcement methods like treats, praise, and toys.  Avoid punishment, which can create fear and anxiety.\\n*   **Consistency is Key:** Everyone in the household should use the same commands and training methods.\\n*   **Short & Frequent Sessions\", additional_kwargs={}, response_metadata={'prompt_feedback': {'block_reason': 0, 'safety_ratings': []}, 'finish_reason': 'MAX_TOKENS', 'model_name': 'gemini-2.0-flash', 'safety_ratings': []}, id='run--7da0a732-45a9-4a64-9c07-c106e984726a-0', usage_metadata={'input_tokens': 19, 'output_tokens': 247, 'total_tokens': 266, 'input_token_details': {'cache_read': 0}})"
      ]
     },
     "execution_count": 52,
     "metadata": {},
     "output_type": "execute_result"
    }
   ],
   "source": [
    "%%time\n",
    "chain.invoke({'pet':'dog', 'breed':'shepherd'})"
   ]
  },
  {
   "cell_type": "code",
   "execution_count": 53,
   "id": "74fbdd48-0345-4b4b-b85f-03775036a4eb",
   "metadata": {},
   "outputs": [
    {
     "name": "stdout",
     "output_type": "stream",
     "text": [
      "CPU times: total: 78.1 ms\n",
      "Wall time: 3.65 s\n"
     ]
    },
    {
     "data": {
      "text/plain": [
       "[AIMessage(content=\"Congratulations on adopting a shepherd! They are intelligent, loyal, and eager to please, which makes them generally good candidates for training. However, their intelligence and energy also mean they need consistent and engaging training. Here are some training tips tailored for shepherds:\\n\\n**1. Start Early and Be Consistent:**\\n\\n*   **Begin training as soon as possible.** Even if your dog is older, you can start right away.\\n*   **Consistency is key.** Use the same commands and hand signals every time. Everyone in the household should use the same cues.\\n*   **Keep training sessions short and frequent.** Focus on 5-10 minute sessions several times a day rather than one long, drawn-out session. This helps maintain your dog's focus.\\n\\n**2. Positive Reinforcement is Your Best Friend:**\\n\\n*   **Use treats, praise, and toys as rewards.**  Find what motivates your dog the most. High-value treats (small pieces of cheese, cooked meat, etc.) can be especially effective for challenging commands.\\n*   **Avoid punishment.** Punishment can create fear and anxiety, which can hinder learning and damage your bond with your dog.  Focus on rewarding desired behaviors.\\n*   **\", additional_kwargs={}, response_metadata={'prompt_feedback': {'block_reason': 0, 'safety_ratings': []}, 'finish_reason': 'MAX_TOKENS', 'model_name': 'gemini-2.0-flash', 'safety_ratings': []}, id='run--d5b086b8-4156-4b24-8a4f-63955d160f7e-0', usage_metadata={'input_tokens': 19, 'output_tokens': 249, 'total_tokens': 268, 'input_token_details': {'cache_read': 0}}),\n",
       " AIMessage(content=\"Congratulations on adopting a Night Fury! They are incredibly intelligent and powerful creatures, but also very loyal and sensitive. Training one requires patience, understanding, and a strong bond built on trust. Here are some training tips tailored for a Night Fury:\\n\\n**1. Building Trust and Connection (The Foundation):**\\n\\n*   **Patience is Key:** Night Furies are wary of humans initially. Don't rush the process. Let your Night Fury come to you. Offer a hand outstretched, palm up, as a sign of peace.\\n*   **Positive Reinforcement, Always:** Night Furies respond best to positive reinforcement. Scolding or punishment will only damage your bond and make them distrustful.\\n*   **Understand Their Body Language:** Learn to read your Night Fury's body language. A relaxed posture, purring (yes, they purr!), and curious nudges are good signs. Flattened ears, hissing, and a tucked tail indicate fear or discomfort.\\n*   **Bonding Activities:** Spend time with your Night Fury doing things they enjoy. This could be flying, exploring, or simply relaxing together.\\n*   **Communicate Clearly:** Use a calm, soothing voice when interacting with your Night Fury\", additional_kwargs={}, response_metadata={'prompt_feedback': {'block_reason': 0, 'safety_ratings': []}, 'finish_reason': 'MAX_TOKENS', 'model_name': 'gemini-2.0-flash', 'safety_ratings': []}, id='run--3326ddf5-7004-4be3-933b-f3e24beb607d-0', usage_metadata={'input_tokens': 20, 'output_tokens': 248, 'total_tokens': 268, 'input_token_details': {'cache_read': 0}})]"
      ]
     },
     "execution_count": 53,
     "metadata": {},
     "output_type": "execute_result"
    }
   ],
   "source": [
    "%%time\n",
    "chain.batch([{'pet':'dog', 'breed':'shepherd'}, \n",
    "             {'pet':'dragon', 'breed':'night fury'}])"
   ]
  },
  {
   "cell_type": "code",
   "execution_count": 61,
   "id": "392a26fa-3b29-4371-af89-1516a9ff366a",
   "metadata": {},
   "outputs": [
    {
     "name": "stdout",
     "output_type": "stream",
     "text": [
      "Congratulations on adopting a Night Fury! They are incredibly intelligent, loyal, and powerful dragons, but also require a specific approach to training. Here are some training tips, keeping in mind that building trust and understanding is key:\n",
      "\n",
      "**1. Building Trust and Bonding:**\n",
      "\n",
      "*   **Patience is paramount:** Night Furies are initially wary of humans, so don't rush the process. Let your dragon come to you.\n",
      "*   **Positive Reinforcement:** Forget punishment! Focus on rewarding desired behaviors with treats, praise, and affection. Fish is their favorite, especially salmon and tuna. Learn your dragon's preferences!\n",
      "*   **Gentle Approach:** Avoid loud noises, sudden movements, or anything that might startle your dragon. Speak in a calm, soothing voice.\n",
      "*   **Understand Body Language:** Pay close attention to your Night Fury's body language. Learn to recognize signs of fear, stress, happiness, and curiosity. Dilated pupils, flattened ears, and a tucked tail indicate fear or discomfort. Purring, nuzzling, and playful movements show affection and trust.\n",
      "*   **Spend Quality Time:** Simply being present, even if you're just sitting quietly nearby, helps your dragon get"
     ]
    }
   ],
   "source": [
    "response = chain.stream({'pet':'dragon', 'breed':'night fury'})\n",
    "\n",
    "# next(response) \n",
    "# Helps to retrieve the first chunk of output generated by the model.\n",
    "\n",
    "for i in response:\n",
    "    print(i.content, end = '')"
   ]
  },
  {
   "cell_type": "markdown",
   "id": "2c1f142b-7d27-4df0-8ac0-ef646fc2ac8a",
   "metadata": {},
   "source": [
    "### 1. `chain.stream(...)`\n",
    "\n",
    "* Runs the LCEL chain in **streaming mode**.\n",
    "* Instead of waiting for the **full response**, it returns an **iterator (generator)**.\n",
    "* Each `yield` gives you a partial output (token or chunk).\n",
    "\n",
    "---\n",
    "\n",
    "### 2. `next(response)`\n",
    "\n",
    "* The first call gets the very first chunk from the model’s output.\n",
    "* This is often needed to “start” the stream before looping.\n",
    "* Sometimes developers use it to **inspect metadata** or headers before reading the actual content.\n",
    "\n",
    "---\n",
    "\n",
    "### 3. `for i in response:`\n",
    "\n",
    "* Iterates through the rest of the streamed chunks.\n",
    "* Each `i` is usually a `ChatGenerationChunk` or a token-like object.\n",
    "\n",
    "---\n",
    "\n",
    "### 4. `print(i.content, end='')`\n",
    "\n",
    "* Prints the text as it streams in, without adding new lines.\n",
    "* This makes the output look like the model is typing word by word.\n",
    "\n",
    "---\n",
    "\n",
    "### Example Flow\n",
    "\n",
    "If the model response is:\n",
    "\n",
    "```\n",
    "\"Night Furies are rare dragons known for their speed.\"\n",
    "```\n",
    "\n",
    "Streaming loop prints:\n",
    "\n",
    "```\n",
    "Night Furies are rare dragons known for their speed.\n",
    "```\n",
    "\n",
    "…but in reality, it arrives piece by piece:\n",
    "\n",
    "* `Night`\n",
    "* ` Furies`\n",
    "* ` are`\n",
    "* ` rare`\n",
    "* …and so on.\n",
    "\n",
    "---\n"
   ]
  },
  {
   "cell_type": "markdown",
   "id": "85404f62-748e-41d0-b65d-b0f2af9c6ba3",
   "metadata": {},
   "source": [
    "# ➡️The Runnable and RunnableSequence classes"
   ]
  },
  {
   "cell_type": "code",
   "execution_count": 9,
   "id": "2d6c8e22-13cd-47cc-9c6c-2bdb6c593abe",
   "metadata": {},
   "outputs": [],
   "source": [
    "chain = chat_template | llm"
   ]
  },
  {
   "cell_type": "code",
   "execution_count": 11,
   "id": "e6d75e18-7758-4c69-ac60-e63d55773e7e",
   "metadata": {},
   "outputs": [
    {
     "data": {
      "text/plain": [
       "langchain_core.runnables.base.RunnableSequence"
      ]
     },
     "execution_count": 11,
     "metadata": {},
     "output_type": "execute_result"
    }
   ],
   "source": [
    "type(chain)"
   ]
  },
  {
   "cell_type": "code",
   "execution_count": 12,
   "id": "7e9a257a-7bc9-452c-b4b1-e899c080e2b2",
   "metadata": {},
   "outputs": [
    {
     "data": {
      "text/plain": [
       "langchain_core.prompts.chat.ChatPromptTemplate"
      ]
     },
     "execution_count": 12,
     "metadata": {},
     "output_type": "execute_result"
    }
   ],
   "source": [
    "type(chat_template)"
   ]
  },
  {
   "cell_type": "markdown",
   "id": "8ae8b29e-bc72-4752-897c-bb065dbe3c75",
   "metadata": {},
   "source": [
    "### Runnable in LangChain\n",
    "\n",
    "* A **Runnable** is just something that can be “run” with input and gives output.\n",
    "* Examples:\n",
    "\n",
    "  * A prompt template (`PromptTemplate`)\n",
    "  * An LLM (`ChatOpenAI`, `Gemini`)\n",
    "  * An output parser\n",
    "\n",
    "All of them share the same interface: `.invoke(input)`\n",
    "\n",
    "---\n",
    "\n",
    "### RunnableSequence\n",
    "\n",
    "* A **`RunnableSequence`** is a chain of Runnables connected together.\n",
    "* Think of it as a **pipeline**:\n",
    "\n",
    "  * Output of one step → becomes input to the next step.\n",
    "* It is created when you use the **pipe operator (`|`)**.\n",
    "\n",
    "---"
   ]
  },
  {
   "cell_type": "markdown",
   "id": "3ce26fa6-e17e-488b-b305-daf1e36742da",
   "metadata": {},
   "source": [
    "# ➡️Piping chains and the RunnablePassthrough class"
   ]
  },
  {
   "cell_type": "code",
   "execution_count": 15,
   "id": "f80bca50-b57f-49f3-be1e-664a4d399f0b",
   "metadata": {},
   "outputs": [
    {
     "data": {
      "text/plain": [
       "[1, 2, 3]"
      ]
     },
     "execution_count": 15,
     "metadata": {},
     "output_type": "execute_result"
    }
   ],
   "source": [
    "RunnablePassthrough().invoke([1, 2, 3])"
   ]
  },
  {
   "cell_type": "markdown",
   "id": "9c8d8792-e3a4-4405-bd4e-60b2534e300f",
   "metadata": {},
   "source": [
    "### What is `RunnablePassthrough`?\n",
    "\n",
    "* It’s a special kind of **Runnable** in LangChain.\n",
    "* **Whatever input you give it, it returns the same thing as output.**\n",
    "* No changes, no processing — just passes the data through.\n",
    "\n",
    "---\n",
    "\n",
    "### Why is it useful?\n",
    "\n",
    "* Sometimes you want to **keep the original input** available in a chain.\n",
    "* Example: You build a chain where one branch transforms the input, but another branch just needs the raw input.\n",
    "* `RunnablePassthrough` helps in those cases.\n",
    "\n",
    "---\n"
   ]
  },
  {
   "cell_type": "code",
   "execution_count": 35,
   "id": "7225f6cf-cfad-40de-a2c8-c43d4c85aa01",
   "metadata": {},
   "outputs": [],
   "source": [
    "chat_template_tools = ChatPromptTemplate.from_template('''\n",
    "What are the five most important tools a {job title} needs?\n",
    "Answer only by listing the tools.\n",
    "''')\n",
    "\n",
    "chat_template_strategy = ChatPromptTemplate.from_template('''\n",
    "Considering the tools provided, develop a strategy for effectively learning and mastering them:\n",
    "{tools}\n",
    "''')"
   ]
  },
  {
   "cell_type": "code",
   "execution_count": 20,
   "id": "435f2c94-b9bd-4b8f-aa16-3d6babc6c3e1",
   "metadata": {},
   "outputs": [],
   "source": [
    "string_parser = StrOutputParser()"
   ]
  },
  {
   "cell_type": "code",
   "execution_count": 21,
   "id": "aa6fdd29-73dd-4de2-a2f8-8985576baecc",
   "metadata": {},
   "outputs": [],
   "source": [
    "llm = ChatGoogleGenerativeAI(\n",
    "        model=\"gemini-2.0-flash\",\n",
    "        google_api_key=config.gemini_api_key,\n",
    "        temperature=0.7,\n",
    "        max_tokens=250,\n",
    "        model_kwargs={\"seed\": 42}\n",
    "    )"
   ]
  },
  {
   "cell_type": "code",
   "execution_count": 40,
   "id": "bafae5b2-3041-4150-acd6-f218653ae779",
   "metadata": {},
   "outputs": [],
   "source": [
    "# A chain that lists the most essential tools for a given prodession\n",
    "chain_tools = chat_template_tools | llm | string_parser\n",
    "\n",
    "# A chain that suggests effective strategies for mastering these tools\n",
    "chain_strategy = chat_template_strategy | llm | string_parser"
   ]
  },
  {
   "cell_type": "code",
   "execution_count": 41,
   "id": "55de6af4-62ad-431d-8eaf-93c957866a3f",
   "metadata": {
    "scrolled": true
   },
   "outputs": [
    {
     "name": "stdout",
     "output_type": "stream",
     "text": [
      "1.  Python\n",
      "2.  SQL\n",
      "3.  R\n",
      "4.  Cloud Computing (e.g., AWS, Azure, GCP)\n",
      "5.  Machine Learning Frameworks (e.g., TensorFlow, PyTorch, scikit-learn)\n"
     ]
    }
   ],
   "source": [
    "print(chain_tools.invoke({'job title':'data scientist'}))"
   ]
  },
  {
   "cell_type": "code",
   "execution_count": 42,
   "id": "4db5e7d1-9e5d-4537-b09a-448b47510850",
   "metadata": {
    "scrolled": true
   },
   "outputs": [
    {
     "name": "stdout",
     "output_type": "stream",
     "text": [
      "Okay, here's a comprehensive strategy for effectively learning and mastering the listed tools, focusing on a practical, project-based approach with continuous reinforcement and adaptation:\n",
      "\n",
      "**Overall Learning Philosophy:**\n",
      "\n",
      "*   **Project-Based Learning:** The most effective way to learn these tools is by applying them to real-world projects.  Start small, iterate, and gradually increase complexity.\n",
      "*   **Active Learning:**  Don't just passively read documentation or watch videos. Code along, experiment, and try to break things.  Actively engage with the material.\n",
      "*   **Consistent Practice:**  Even short, regular practice sessions (e.g., 30-60 minutes daily) are more effective than long, infrequent sessions.\n",
      "*   **Community Engagement:**  Join online forums, communities, and attend meetups.  Ask questions, share your knowledge, and learn from others.\n",
      "*   **Documentation is Your Friend:**  Learn to navigate and utilize the official documentation for each tool. It's the most reliable source of information.\n",
      "*   **Embrace Error Messages:** Error messages are your debugging guides. Learn to read and understand them.  Google is your best friend in this process.\n",
      "*\n"
     ]
    }
   ],
   "source": [
    "print(chain_strategy.invoke({'tools':'''\n",
    "1.  Python\n",
    "2.  SQL\n",
    "3.  R\n",
    "4.  Cloud Computing (e.g., AWS, Azure, GCP)\n",
    "5.  Machine Learning Frameworks (e.g., TensorFlow, PyTorch, scikit-learn)\n",
    "'''}))"
   ]
  },
  {
   "cell_type": "code",
   "execution_count": 45,
   "id": "7ac2af2f-0189-4a7a-ab24-31363006953c",
   "metadata": {},
   "outputs": [],
   "source": [
    "# Combining two chains\n",
    "\n",
    "chain_tools = chat_template_tools | llm | string_parser | {'tools':RunnablePassthrough()}\n",
    "# The output of {'tools':RunnablePassthrough()} is dictionary in the format:\n",
    "# {'tools':'''\n",
    "# 1.  Python\n",
    "# 2.  SQL\n",
    "# 3.  R\n",
    "# 4.  Cloud Computing (e.g., AWS, Azure, GCP)\n",
    "# 5.  Machine Learning Frameworks (e.g., TensorFlow, PyTorch, scikit-learn)\n",
    "# '''}\n",
    "\n",
    "chain_strategy = chat_template_strategy | llm | string_parser\n",
    "\n",
    "chain_combined = chain_tools | chain_strategy"
   ]
  },
  {
   "cell_type": "code",
   "execution_count": 44,
   "id": "beba6802-32c7-49dc-a998-a39401279d92",
   "metadata": {},
   "outputs": [
    {
     "name": "stdout",
     "output_type": "stream",
     "text": [
      "Okay, here's a structured strategy for effectively learning and mastering Python, SQL, R, Cloud Computing, and Machine Learning Frameworks.  This is designed to be practical and actionable, focusing on building a solid foundation and then specializing.\n",
      "\n",
      "**Overall Learning Philosophy:**\n",
      "\n",
      "*   **Project-Based Learning:**  The most effective way to learn is by doing.  Focus on building small, tangible projects that utilize the tools.\n",
      "*   **Iterative Approach:** Don't try to learn everything at once.  Start with the basics, build a simple project, then expand your knowledge based on the project's needs.  This is much more engaging and effective than passively reading documentation.\n",
      "*   **Consistent Practice:**  Even 30 minutes of focused practice each day is better than a marathon session once a week.\n",
      "*   **Community Engagement:**  Join online communities, forums, and attend meetups.  Asking questions, sharing your work, and learning from others is invaluable.\n",
      "*   **Documentation is Your Friend:** Learn to navigate and understand the official documentation for each tool.  It's the most accurate and up-to-date source of information.\n",
      "*   **Embrace Failure:**  \n"
     ]
    }
   ],
   "source": [
    "print(chain_combined.invoke({'job title':'data scientist'}))"
   ]
  },
  {
   "cell_type": "code",
   "execution_count": 28,
   "id": "fc8e8bf1-5776-4b87-b69e-d31d4930c112",
   "metadata": {},
   "outputs": [],
   "source": [
    "chain_long = (chat_template_tools | llm | string_parser | {'tools':RunnablePassthrough()} | \n",
    "              chat_template_strategy | llm | string_parser)"
   ]
  },
  {
   "cell_type": "code",
   "execution_count": null,
   "id": "fc44fc1a-bfe0-4f5d-901d-1ff930afd9ff",
   "metadata": {},
   "outputs": [],
   "source": []
  }
 ],
 "metadata": {
  "kernelspec": {
   "display_name": "Python 3 (ipykernel)",
   "language": "python",
   "name": "python3"
  },
  "language_info": {
   "codemirror_mode": {
    "name": "ipython",
    "version": 3
   },
   "file_extension": ".py",
   "mimetype": "text/x-python",
   "name": "python",
   "nbconvert_exporter": "python",
   "pygments_lexer": "ipython3",
   "version": "3.11.13"
  }
 },
 "nbformat": 4,
 "nbformat_minor": 5
}
