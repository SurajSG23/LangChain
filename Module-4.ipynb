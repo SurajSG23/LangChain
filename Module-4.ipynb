{
 "cells": [
  {
   "cell_type": "markdown",
   "id": "b142d79c-3972-4d49-9e57-23f9175f946b",
   "metadata": {},
   "source": [
    "# LangChain Expression Language\n",
    "\n",
    "### What is LCEL?\n",
    "\n",
    "* A declarative way to build AI pipelines in LangChain.\n",
    "* Instead of long Python code, you connect components in a chain-like style.\n",
    "\n",
    "---\n",
    "\n",
    "### Why LCEL?\n",
    "\n",
    "* Shorter and cleaner code.\n",
    "* Easier to read and maintain.\n",
    "* Works the same for synchronous, asynchronous, batch, and streaming execution.\n",
    "* Good for debugging and reusing components.\n",
    "\n",
    "---\n",
    "\n",
    "### Basic Example\n",
    "\n",
    "Without LCEL:\n",
    "\n",
    "```python\n",
    "prompt = PromptTemplate.from_template(\"Tell me a joke about {topic}\")\n",
    "chain = LLMChain(llm=ChatOpenAI(), prompt=prompt)\n",
    "result = chain.run(\"cats\")\n",
    "```\n",
    "\n",
    "With LCEL:\n",
    "\n",
    "```python\n",
    "chain = prompt | ChatOpenAI() | StrOutputParser()\n",
    "result = chain.invoke({\"topic\": \"cats\"})\n",
    "```\n",
    "**prompt, ChatOpenAI(), StrOutputParser() are called runnables**\n",
    "\n",
    "---\n",
    "\n",
    "## LCEL Operators\n",
    "\n",
    "* `|` → Pipe operator, connects steps.\n",
    "* `.invoke()` → Run once with input.\n",
    "* `.batch()` → Run for multiple inputs.\n",
    "* `.stream()` → Get outputs step by step (streaming responses).\n",
    "\n",
    "---\n",
    "\n",
    "## Key Features\n",
    "\n",
    "1. Composable – you can plug and play different parts.\n",
    "2. Parallel and sequential execution supported.\n",
    "3. Unified API – works the same for sync, async, batch, and streaming.\n",
    "4. Production-ready – optimized for speed and scalability.\n",
    "\n",
    "---\n",
    "\n",
    "## Simple Summary\n",
    "\n",
    "* LCEL is a short and readable way to connect LangChain components.\n",
    "* It works like piping data through different steps.\n",
    "* Use `|` to chain steps.\n",
    "* The same code works for real-time, async, or batch calls.\n",
    "\n",
    "---\n"
   ]
  },
  {
   "cell_type": "markdown",
   "id": "1943da09-e209-47bd-91ee-5dba9306f6ff",
   "metadata": {},
   "source": [
    "# ➡️Piping a prompt, model, and an output parser"
   ]
  },
  {
   "cell_type": "code",
   "execution_count": 49,
   "id": "46bb950f-0685-4b2b-b7ba-2150ef6e40e0",
   "metadata": {},
   "outputs": [],
   "source": [
    "from langchain_google_genai import ChatGoogleGenerativeAI\n",
    "from langchain_core.prompts import ChatPromptTemplate\n",
    "from langchain_core.output_parsers import CommaSeparatedListOutputParser, StrOutputParser\n",
    "from langchain_core.runnables import RunnablePassthrough, RunnableParallel, RunnableLambda, chain\n",
    "import config"
   ]
  },
  {
   "cell_type": "code",
   "execution_count": 2,
   "id": "2d5ce49c-da69-46b2-8713-9b5d2efc542d",
   "metadata": {},
   "outputs": [
    {
     "data": {
      "text/plain": [
       "'Your response should be a list of comma separated values, eg: `foo, bar, baz` or `foo,bar,baz`'"
      ]
     },
     "execution_count": 2,
     "metadata": {},
     "output_type": "execute_result"
    }
   ],
   "source": [
    "list_instructions = CommaSeparatedListOutputParser().get_format_instructions()\n",
    "\n",
    "list_instructions"
   ]
  },
  {
   "cell_type": "code",
   "execution_count": 3,
   "id": "b17085af-9b8a-4777-8452-b14ef76040a5",
   "metadata": {},
   "outputs": [
    {
     "name": "stdout",
     "output_type": "stream",
     "text": [
      "I've recently adopted a {pet}. Could you suggest three {pet} names? \n",
      "Your response should be a list of comma separated values, eg: `foo, bar, baz` or `foo,bar,baz`\n"
     ]
    }
   ],
   "source": [
    "# Chat Template\n",
    "\n",
    "chat_template = ChatPromptTemplate.from_messages([\n",
    "    ('human', \"I've recently adopted a {pet}. Could you suggest three {pet} names? \\n\" + list_instructions)\n",
    "])\n",
    "\n",
    "print(chat_template.messages[0].prompt.template)"
   ]
  },
  {
   "cell_type": "code",
   "execution_count": 4,
   "id": "95e0401b-e7a5-4669-acbd-140186f1d58c",
   "metadata": {},
   "outputs": [],
   "source": [
    "# Chat Model\n",
    "\n",
    "def AskGeminiAI(question):\n",
    "    llm = ChatGoogleGenerativeAI(\n",
    "        model=\"gemini-2.0-flash\",\n",
    "        google_api_key=config.gemini_api_key,\n",
    "        temperature=0.7,\n",
    "        max_tokens=250,\n",
    "        model_kwargs={\"seed\": 42}\n",
    "    )\n",
    "    response = llm.invoke(question)\n",
    "    return response.content"
   ]
  },
  {
   "cell_type": "code",
   "execution_count": 5,
   "id": "adda5920-af39-493f-bf36-9bf98d75bfd2",
   "metadata": {},
   "outputs": [],
   "source": [
    "# Output parser\n",
    "\n",
    "list_output_parser = CommaSeparatedListOutputParser()"
   ]
  },
  {
   "cell_type": "code",
   "execution_count": 6,
   "id": "e97fcdfe-14bd-4890-b5e6-089517573149",
   "metadata": {},
   "outputs": [
    {
     "data": {
      "text/plain": [
       "['Luna', 'Cooper', 'Bella']"
      ]
     },
     "execution_count": 6,
     "metadata": {},
     "output_type": "execute_result"
    }
   ],
   "source": [
    "# 3 step\n",
    "\n",
    "chat_template_result = chat_template.invoke({'pet':'dog'})\n",
    "\n",
    "chat_result = AskGeminiAI(chat_template_result)\n",
    "\n",
    "list_output_parser.invoke(chat_result)"
   ]
  },
  {
   "cell_type": "code",
   "execution_count": 7,
   "id": "815f422c-cd7b-4f7e-8ba5-a860b1ad2201",
   "metadata": {},
   "outputs": [
    {
     "data": {
      "text/plain": [
       "['Buddy', 'Luna', 'Charlie']"
      ]
     },
     "execution_count": 7,
     "metadata": {},
     "output_type": "execute_result"
    }
   ],
   "source": [
    "# Single line\n",
    "\n",
    "chain = chat_template | AskGeminiAI | list_output_parser\n",
    "\n",
    "chain.invoke({'pet':'dog'})"
   ]
  },
  {
   "cell_type": "markdown",
   "id": "b2f1fa9b-9b60-49a9-a7fb-d57c6e2950d3",
   "metadata": {},
   "source": [
    "# ➡️Batching"
   ]
  },
  {
   "cell_type": "code",
   "execution_count": 8,
   "id": "e9ba2333-e83d-419a-bb0c-d95d500035b3",
   "metadata": {},
   "outputs": [],
   "source": [
    "chat_template = ChatPromptTemplate.from_messages([\n",
    "    ('human', \n",
    "     \"I've recently adopted a {pet} which is a {breed}. Could you suggest several training tips?\")\n",
    "])"
   ]
  },
  {
   "cell_type": "code",
   "execution_count": 9,
   "id": "aca9088e-e47a-4667-a8f8-3645963bc055",
   "metadata": {},
   "outputs": [],
   "source": [
    "chain = chat_template | AskGeminiAI"
   ]
  },
  {
   "cell_type": "code",
   "execution_count": 10,
   "id": "11253f37-b372-4348-bb44-c75491ff1fcb",
   "metadata": {},
   "outputs": [
    {
     "data": {
      "text/plain": [
       "\"Congratulations on adopting your Shepherd! They're intelligent and trainable dogs, but they do require consistent and positive training. Here are some training tips tailored to Shepherds:\\n\\n**1. Understand Your Shepherd's Breed Characteristics:**\\n\\n*   **Intelligence:** Shepherds are highly intelligent and eager to please. This makes them quick learners, but also means they can get bored easily. Keep training sessions short, engaging, and varied.\\n*   **Herding Instinct:** Many Shepherds retain a strong herding instinct. This can manifest as nipping at heels, chasing cars, or rounding up children. Training should focus on redirecting this instinct into more appropriate behaviors.\\n*   **Protectiveness:** They are naturally protective of their family and territory. Early socialization is crucial to prevent over-protectiveness and aggression towards strangers or other animals.\\n*   **High Energy:** Shepherds need a lot of exercise and mental stimulation to thrive. A bored Shepherd can become destructive.\\n\\n**2. Focus on Positive Reinforcement:**\\n\\n*   **Reward-Based Training:** Use positive reinforcement like treats, praise, toys, or petting to reward desired behaviors. This is far more effective than punishment, which can damage your bond and create fear.\""
      ]
     },
     "execution_count": 10,
     "metadata": {},
     "output_type": "execute_result"
    }
   ],
   "source": [
    "chain.invoke({'pet':'dog', 'breed':'shepherd'})"
   ]
  },
  {
   "cell_type": "code",
   "execution_count": 11,
   "id": "8cf514fb-6b42-425c-8e9e-da3f0131f6ca",
   "metadata": {},
   "outputs": [
    {
     "name": "stdout",
     "output_type": "stream",
     "text": [
      "CPU times: total: 78.1 ms\n",
      "Wall time: 3.98 s\n"
     ]
    },
    {
     "data": {
      "text/plain": [
       "[\"Congratulations on adopting a shepherd! They are intelligent, energetic, and loyal dogs, but they do require consistent training and socialization. Here are some training tips specifically geared towards shepherds:\\n\\n**1. Start Early and Be Consistent:**\\n\\n*   **Puppyhood is Key:** If you have a shepherd puppy, start training and socialization immediately. Even short, positive training sessions can make a big difference.\\n*   **Consistency is Crucial:** Everyone in the household needs to use the same commands and training techniques. This prevents confusion for your dog.\\n*   **Establish Yourself as the Leader:** Shepherds are herding dogs, and they need a strong, consistent leader. This doesn't mean being harsh, but it does mean being clear, fair, and confident.\\n\\n**2. Focus on Basic Obedience:**\\n\\n*   **Sit, Stay, Come, Down, Leave It:** These are the foundational commands. Master these first. Use positive reinforcement (treats, praise, toys) when your dog performs the desired behavior.\\n*   **Leash Training:** Shepherds can be prone to pulling on the leash. Teach loose-leash walking from the start. Use a comfortable harness or a front-clip leash to\",\n",
       " \"Congratulations on adopting a Night Fury! They're incredibly intelligent and loyal, but also possess a unique set of needs and challenges. Here's a breakdown of training tips, focusing on building trust and a strong bond:\\n\\n**I. Building Trust and Rapport (Foundation First!)**\\n\\n*   **Patience is Paramount:** Night Furies are sensitive and wary. Don't rush the process. Let them come to you. Forced interaction will be counterproductive.\\n*   **Understand Their Body Language:** Observe your dragon closely.  Pay attention to ear movements, pupil dilation, tail position, and vocalizations.  Learn what indicates comfort, fear, or curiosity. This is crucial for understanding their needs and avoiding pushing them too far.\\n*   **Positive Reinforcement (The Key):**  Night Furies respond exceptionally well to positive reinforcement.  Use *lots* of praise, gentle physical affection (once they're comfortable), and *especially* treats.  Find out what they love!  Fish is a classic, but experiment with different types.  Some might prefer specific textures or even other foods.\\n*   **Create a Safe Space:**  Designate a specific area where your Night Fury can retreat and feel\"]"
      ]
     },
     "execution_count": 11,
     "metadata": {},
     "output_type": "execute_result"
    }
   ],
   "source": [
    "%%time\n",
    "chain.batch([{'pet':'dog', 'breed':'shepherd'}, \n",
    "             {'pet':'dragon', 'breed':'night fury'}])"
   ]
  },
  {
   "cell_type": "code",
   "execution_count": 12,
   "id": "d037aa20-0036-46dd-80c6-9d7f0d34ca44",
   "metadata": {},
   "outputs": [
    {
     "name": "stdout",
     "output_type": "stream",
     "text": [
      "CPU times: total: 15.6 ms\n",
      "Wall time: 2.75 s\n"
     ]
    },
    {
     "data": {
      "text/plain": [
       "'Congratulations on adopting a Shepherd! They are intelligent and eager to please, but also need consistent training and a job to do. Here are some training tips tailored for Shepherds:\\n\\n**1. Start Early and Be Consistent:**\\n\\n*   **Begin Immediately:** Even if your dog is an adult, start training right away. Reinforce good behaviors and discourage unwanted ones.\\n*   **Consistency is Key:** Everyone in the household needs to use the same commands and training methods. This avoids confusion and helps your dog learn faster.\\n*   **Short, Frequent Sessions:** Shepherds have good attention spans, but short, focused training sessions (5-10 minutes, several times a day) are more effective than long, drawn-out ones.\\n\\n**2. Focus on Basic Obedience:**\\n\\n*   **Sit, Stay, Down, Come:** These are the foundation of all training. Use positive reinforcement (treats, praise, toys) when your dog performs the command correctly.\\n*   **Leash Training:** Shepherds can be prone to pulling on the leash. Use a comfortable harness and practice loose-leash walking techniques. Reward your dog for walking nicely by your side.\\n*   **Leave It/Drop'"
      ]
     },
     "execution_count": 12,
     "metadata": {},
     "output_type": "execute_result"
    }
   ],
   "source": [
    "%%time\n",
    "chain.invoke({'pet':'dog', 'breed':'shepherd'})"
   ]
  },
  {
   "cell_type": "code",
   "execution_count": 13,
   "id": "7f74f5bc-f377-4844-be61-9df1785b0e3c",
   "metadata": {},
   "outputs": [
    {
     "name": "stdout",
     "output_type": "stream",
     "text": [
      "CPU times: total: 62.5 ms\n",
      "Wall time: 4.18 s\n"
     ]
    },
    {
     "data": {
      "text/plain": [
       "'Congratulations on adopting a Night Fury! They are incredibly intelligent, loyal, and powerful dragons. Training one takes patience, understanding, and a strong bond. Here are some training tips, keeping in mind that Night Furies are sensitive and respond best to positive reinforcement:\\n\\n**1. Bonding and Trust are Paramount:**\\n\\n*   **Earn their trust:** Night Furies are naturally wary of humans. Start by offering them food, preferably fish (they love it!), and let them approach you. Avoid sudden movements or loud noises that might scare them.\\n*   **Spend quality time:** Just being around your Night Fury, even without actively training, builds trust. Read to them, groom them (they enjoy having their scales scratched around their chin and neck), or simply sit near them.\\n*   **Understand their body language:** Pay close attention to their ears, eyes, and posture. A relaxed Night Fury will have relaxed posture, soft eyes, and slightly drooped ears. Tense posture, narrowed eyes, and flattened ears indicate fear or discomfort.\\n*   **Learn their personality:** Each Night Fury is an individual. Some are playful, others are more serious. Tailor your training methods to suit their personality.\\n\\n**2. Positive'"
      ]
     },
     "execution_count": 13,
     "metadata": {},
     "output_type": "execute_result"
    }
   ],
   "source": [
    "%%time\n",
    "chain.invoke({'pet':'dragon', 'breed':'night fury'})"
   ]
  },
  {
   "cell_type": "markdown",
   "id": "a1a0eee2-3597-466a-9a89-03669da70e73",
   "metadata": {},
   "source": [
    "### 1. **CPU time**\n",
    "\n",
    "* The amount of time the CPU actually spent executing your code.\n",
    "* Includes user + system CPU usage.\n",
    "* If your code runs in **parallel** across multiple cores, CPU time can be **greater than wall time** (because it sums across cores).\n",
    "\n",
    "---\n",
    "\n",
    "### 2. **Wall time**\n",
    "\n",
    "* The real-world elapsed time (like looking at a stopwatch).\n",
    "* Starts when the cell begins execution, stops when it ends.\n",
    "* Includes waiting, I/O delays, and any time the process was idle.\n",
    "\n",
    "---"
   ]
  },
  {
   "cell_type": "markdown",
   "id": "d4ae5486-8cf9-4118-adbb-8273ba7d11a7",
   "metadata": {},
   "source": [
    "# ➡️Streaming"
   ]
  },
  {
   "cell_type": "code",
   "execution_count": 14,
   "id": "a75c4fe6-792f-440b-80c1-4bab2c32fa54",
   "metadata": {},
   "outputs": [],
   "source": [
    "chat_template = ChatPromptTemplate.from_messages([\n",
    "    ('human', \n",
    "     \"I've recently adopted a {pet} which is a {breed}. Could you suggest several training tips?\")\n",
    "])"
   ]
  },
  {
   "cell_type": "code",
   "execution_count": 15,
   "id": "cf3163e4-10ed-4695-9e12-b603c9aae132",
   "metadata": {},
   "outputs": [],
   "source": [
    "llm = ChatGoogleGenerativeAI(\n",
    "        model=\"gemini-2.0-flash\",\n",
    "        google_api_key=config.gemini_api_key,\n",
    "        temperature=0.7,\n",
    "        max_tokens=250,\n",
    "        model_kwargs={\"seed\": 42}\n",
    "    )"
   ]
  },
  {
   "cell_type": "code",
   "execution_count": 16,
   "id": "8ac22a87-95fa-46ac-b7a0-15362db8362c",
   "metadata": {},
   "outputs": [],
   "source": [
    "chain = chat_template | llm"
   ]
  },
  {
   "cell_type": "code",
   "execution_count": 17,
   "id": "b8b1b7fc-3e8f-4008-afae-4a482efd91f3",
   "metadata": {},
   "outputs": [
    {
     "name": "stdout",
     "output_type": "stream",
     "text": [
      "CPU times: total: 93.8 ms\n",
      "Wall time: 2.67 s\n"
     ]
    },
    {
     "data": {
      "text/plain": [
       "AIMessage(content='Congratulations on adopting a shepherd! They are intelligent and eager to please, but also need consistent training. Here are some training tips, broken down by category:\\n\\n**1. Understanding Your Shepherd\\'s Breed Traits:**\\n\\n*   **High Energy:** Shepherds were bred to work all day. Be prepared for a dog that needs a lot of physical and mental stimulation.\\n*   **Intelligence:** They learn quickly, but can also get bored easily. Keep training sessions short, engaging, and varied.\\n*   **Herding Instincts:** They may try to \"herd\" children, other pets, or even cars. This is a natural instinct, not aggression. Redirect this behavior with appropriate training.\\n*   **Protective:** Shepherds are naturally protective of their family and territory. Early socialization is crucial to prevent over-protectiveness or aggression.\\n*   **Loyal & Bonded:** They form strong bonds with their owners and thrive on positive interaction.\\n\\n**2. Basic Obedience Training:**\\n\\n*   **Start Early:** Begin training as soon as possible, even if your dog is an adult. It\\'s never too late to teach new tricks!\\n*   **Positive Reinforcement:** Use positive reinforcement techniques', additional_kwargs={}, response_metadata={'prompt_feedback': {'block_reason': 0, 'safety_ratings': []}, 'finish_reason': 'MAX_TOKENS', 'model_name': 'gemini-2.0-flash', 'safety_ratings': []}, id='run--87fcd51e-fa4d-44bd-8289-d6872d57b147-0', usage_metadata={'input_tokens': 19, 'output_tokens': 246, 'total_tokens': 265, 'input_token_details': {'cache_read': 0}})"
      ]
     },
     "execution_count": 17,
     "metadata": {},
     "output_type": "execute_result"
    }
   ],
   "source": [
    "%%time\n",
    "chain.invoke({'pet':'dog', 'breed':'shepherd'})"
   ]
  },
  {
   "cell_type": "code",
   "execution_count": 18,
   "id": "74fbdd48-0345-4b4b-b85f-03775036a4eb",
   "metadata": {},
   "outputs": [
    {
     "name": "stdout",
     "output_type": "stream",
     "text": [
      "CPU times: total: 0 ns\n",
      "Wall time: 3.87 s\n"
     ]
    },
    {
     "data": {
      "text/plain": [
       "[AIMessage(content='Congratulations on adopting a Shepherd! They\\'re intelligent and eager to please, but require consistent training and clear leadership. Here are several training tips, broken down into categories:\\n\\n**1. Establishing Yourself as the Leader (Essential for Shepherds):**\\n\\n*   **Consistency is Key:** Shepherds thrive on routine and clear rules. Be consistent with commands, boundaries, and expectations. If you say \"sit,\" always mean \"sit.\"\\n*   **Positive Reinforcement:** Focus on rewarding good behavior with treats, praise, and toys. Avoid punishment, which can lead to fear and anxiety in Shepherds.\\n*   **Clear and Firm Commands:** Use a clear, confident tone of voice when giving commands. Avoid yelling, which can be counterproductive.\\n*   **Be Patient:** Training takes time and patience. Don\\'t get discouraged by setbacks. Celebrate small victories.\\n*   **Mental Stimulation:** Shepherds are working dogs. They need mental challenges to prevent boredom and destructive behaviors. Puzzle toys, training games, and obedience exercises are great.\\n*   **Body Language:** Dogs communicate through body language. Be aware of your own posture and signals. Stand tall and confident. Avoid slouching or appearing nervous.\\n\\n**', additional_kwargs={}, response_metadata={'prompt_feedback': {'block_reason': 0, 'safety_ratings': []}, 'finish_reason': 'MAX_TOKENS', 'model_name': 'gemini-2.0-flash', 'safety_ratings': []}, id='run--0f10e2e2-70fa-4f85-b7a8-def72bed19c0-0', usage_metadata={'input_tokens': 19, 'output_tokens': 245, 'total_tokens': 264, 'input_token_details': {'cache_read': 0}}),\n",
       " AIMessage(content=\"Congratulations on adopting a Night Fury! They are incredibly intelligent and loyal companions, but require a specific approach to training. Here are some tips tailored for training your Night Fury:\\n\\n**Understanding Your Night Fury:**\\n\\n*   **Empathy and Trust:** Night Furies are highly sensitive and bond deeply with their riders. Building trust is paramount. Spend time simply being near them, talking to them in a calm voice, and observing their behavior.\\n*   **Intelligence and Curiosity:** They are incredibly smart and get bored easily. Training sessions should be short, engaging, and filled with variety.\\n*   **Playfulness:** Night Furies love to play! Incorporate games into your training to keep them motivated and build a stronger bond.\\n*   **No Harshness:** Never use punishment or force. This will destroy their trust and make training impossible. Positive reinforcement is key.\\n*   **Individual Personality:** Remember that each dragon, even within the same species, has their own unique personality. Tailor your training to your dragon's specific quirks and preferences.\\n\\n**Training Techniques:**\\n\\n1.  **Start with Basic Commands (Hand Signals & Vocal Cues):**\\n\\n    *   **Come:** Use a distinct whistle or\", additional_kwargs={}, response_metadata={'prompt_feedback': {'block_reason': 0, 'safety_ratings': []}, 'finish_reason': 'MAX_TOKENS', 'model_name': 'gemini-2.0-flash', 'safety_ratings': []}, id='run--0e4a0080-2b4f-449d-9c6b-8f1cbf1277df-0', usage_metadata={'input_tokens': 20, 'output_tokens': 249, 'total_tokens': 269, 'input_token_details': {'cache_read': 0}})]"
      ]
     },
     "execution_count": 18,
     "metadata": {},
     "output_type": "execute_result"
    }
   ],
   "source": [
    "%%time\n",
    "chain.batch([{'pet':'dog', 'breed':'shepherd'}, \n",
    "             {'pet':'dragon', 'breed':'night fury'}])"
   ]
  },
  {
   "cell_type": "code",
   "execution_count": 19,
   "id": "392a26fa-3b29-4371-af89-1516a9ff366a",
   "metadata": {},
   "outputs": [
    {
     "name": "stdout",
     "output_type": "stream",
     "text": [
      "Congratulations on adopting a Night Fury! They're incredibly intelligent and loyal creatures, but require a specific approach to training. Here's a breakdown of training tips, focusing on building trust and understanding:\n",
      "\n",
      "**I. Building a Strong Foundation (Trust & Respect):**\n",
      "\n",
      "*   **Patience is Key:** Night Furies are sensitive and intelligent. Rushing the process will only damage your bond. Start slow and celebrate small victories.\n",
      "*   **Positive Reinforcement:** Forget punishment! Night Furies respond best to rewards. Use fish (their favorite!), praise, and gentle scratches under the chin.\n",
      "*   **Observation is Crucial:**  Pay close attention to your dragon's body language.  Learn to recognize signs of fear, stress, excitement, and contentment.  A relaxed Night Fury is a receptive one.\n",
      "*   **Establish Yourself as a Leader (Not a Master):**  Leadership is earned, not demanded.  Be consistent, fair, and predictable.  Provide a safe and secure environment.  Your dragon needs to trust you implicitly.\n",
      "*   **Bonding Time:**  Spend quality time with your Night Fury outside of training.  Fly together (when ready), groom them, talk to them"
     ]
    }
   ],
   "source": [
    "response = chain.stream({'pet':'dragon', 'breed':'night fury'})\n",
    "\n",
    "# next(response) \n",
    "# Helps to retrieve the first chunk of output generated by the model.\n",
    "\n",
    "for i in response:\n",
    "    print(i.content, end = '')"
   ]
  },
  {
   "cell_type": "markdown",
   "id": "2c1f142b-7d27-4df0-8ac0-ef646fc2ac8a",
   "metadata": {},
   "source": [
    "### 1. `chain.stream(...)`\n",
    "\n",
    "* Runs the LCEL chain in **streaming mode**.\n",
    "* Instead of waiting for the **full response**, it returns an **iterator (generator)**.\n",
    "* Each `yield` gives you a partial output (token or chunk).\n",
    "\n",
    "---\n",
    "\n",
    "### 2. `next(response)`\n",
    "\n",
    "* The first call gets the very first chunk from the model’s output.\n",
    "* This is often needed to “start” the stream before looping.\n",
    "* Sometimes developers use it to **inspect metadata** or headers before reading the actual content.\n",
    "\n",
    "---\n",
    "\n",
    "### 3. `for i in response:`\n",
    "\n",
    "* Iterates through the rest of the streamed chunks.\n",
    "* Each `i` is usually a `ChatGenerationChunk` or a token-like object.\n",
    "\n",
    "---\n",
    "\n",
    "### 4. `print(i.content, end='')`\n",
    "\n",
    "* Prints the text as it streams in, without adding new lines.\n",
    "* This makes the output look like the model is typing word by word.\n",
    "\n",
    "---\n",
    "\n",
    "### Example Flow\n",
    "\n",
    "If the model response is:\n",
    "\n",
    "```\n",
    "\"Night Furies are rare dragons known for their speed.\"\n",
    "```\n",
    "\n",
    "Streaming loop prints:\n",
    "\n",
    "```\n",
    "Night Furies are rare dragons known for their speed.\n",
    "```\n",
    "\n",
    "…but in reality, it arrives piece by piece:\n",
    "\n",
    "* `Night`\n",
    "* ` Furies`\n",
    "* ` are`\n",
    "* ` rare`\n",
    "* …and so on.\n",
    "\n",
    "---\n"
   ]
  },
  {
   "cell_type": "markdown",
   "id": "85404f62-748e-41d0-b65d-b0f2af9c6ba3",
   "metadata": {},
   "source": [
    "# ➡️The Runnable and RunnableSequence classes"
   ]
  },
  {
   "cell_type": "code",
   "execution_count": 20,
   "id": "2d6c8e22-13cd-47cc-9c6c-2bdb6c593abe",
   "metadata": {},
   "outputs": [],
   "source": [
    "chain = chat_template | llm"
   ]
  },
  {
   "cell_type": "code",
   "execution_count": 21,
   "id": "e6d75e18-7758-4c69-ac60-e63d55773e7e",
   "metadata": {},
   "outputs": [
    {
     "data": {
      "text/plain": [
       "langchain_core.runnables.base.RunnableSequence"
      ]
     },
     "execution_count": 21,
     "metadata": {},
     "output_type": "execute_result"
    }
   ],
   "source": [
    "type(chain)"
   ]
  },
  {
   "cell_type": "code",
   "execution_count": 22,
   "id": "7e9a257a-7bc9-452c-b4b1-e899c080e2b2",
   "metadata": {},
   "outputs": [
    {
     "data": {
      "text/plain": [
       "langchain_core.prompts.chat.ChatPromptTemplate"
      ]
     },
     "execution_count": 22,
     "metadata": {},
     "output_type": "execute_result"
    }
   ],
   "source": [
    "type(chat_template)"
   ]
  },
  {
   "cell_type": "markdown",
   "id": "8ae8b29e-bc72-4752-897c-bb065dbe3c75",
   "metadata": {},
   "source": [
    "### Runnable in LangChain\n",
    "\n",
    "* A **Runnable** is just something that can be “run” with input and gives output.\n",
    "* Examples:\n",
    "\n",
    "  * A prompt template (`PromptTemplate`)\n",
    "  * An LLM (`ChatOpenAI`, `Gemini`)\n",
    "  * An output parser\n",
    "\n",
    "All of them share the same interface: `.invoke(input)`\n",
    "\n",
    "---\n",
    "\n",
    "### RunnableSequence\n",
    "\n",
    "* A **`RunnableSequence`** is a chain of Runnables connected together.\n",
    "* Think of it as a **pipeline**:\n",
    "\n",
    "  * Output of one step → becomes input to the next step.\n",
    "* It is created when you use the **pipe operator (`|`)**.\n",
    "\n",
    "---"
   ]
  },
  {
   "cell_type": "markdown",
   "id": "3ce26fa6-e17e-488b-b305-daf1e36742da",
   "metadata": {},
   "source": [
    "# ➡️Piping chains and the RunnablePassthrough class"
   ]
  },
  {
   "cell_type": "code",
   "execution_count": 23,
   "id": "f80bca50-b57f-49f3-be1e-664a4d399f0b",
   "metadata": {},
   "outputs": [
    {
     "data": {
      "text/plain": [
       "[1, 2, 3]"
      ]
     },
     "execution_count": 23,
     "metadata": {},
     "output_type": "execute_result"
    }
   ],
   "source": [
    "RunnablePassthrough().invoke([1, 2, 3])"
   ]
  },
  {
   "cell_type": "markdown",
   "id": "9c8d8792-e3a4-4405-bd4e-60b2534e300f",
   "metadata": {},
   "source": [
    "### What is `RunnablePassthrough`?\n",
    "\n",
    "* It’s a special kind of **Runnable** in LangChain.\n",
    "* **Whatever input you give it, it returns the same thing as output.**\n",
    "* No changes, no processing — just passes the data through.\n",
    "\n",
    "---\n",
    "\n",
    "### Why is it useful?\n",
    "\n",
    "* Sometimes you want to **keep the original input** available in a chain.\n",
    "* Example: You build a chain where one branch transforms the input, but another branch just needs the raw input.\n",
    "* `RunnablePassthrough` helps in those cases.\n",
    "\n",
    "---\n"
   ]
  },
  {
   "cell_type": "code",
   "execution_count": 3,
   "id": "7225f6cf-cfad-40de-a2c8-c43d4c85aa01",
   "metadata": {},
   "outputs": [],
   "source": [
    "chat_template_tools = ChatPromptTemplate.from_template('''\n",
    "What are the five most important tools a {job title} needs?\n",
    "Answer only by listing the tools.\n",
    "''')\n",
    "\n",
    "chat_template_strategy = ChatPromptTemplate.from_template('''\n",
    "Considering the tools provided, develop a strategy for effectively learning and mastering them:\n",
    "{tools}\n",
    "''')"
   ]
  },
  {
   "cell_type": "code",
   "execution_count": 4,
   "id": "435f2c94-b9bd-4b8f-aa16-3d6babc6c3e1",
   "metadata": {},
   "outputs": [],
   "source": [
    "string_parser = StrOutputParser()"
   ]
  },
  {
   "cell_type": "code",
   "execution_count": 5,
   "id": "aa6fdd29-73dd-4de2-a2f8-8985576baecc",
   "metadata": {},
   "outputs": [],
   "source": [
    "llm = ChatGoogleGenerativeAI(\n",
    "        model=\"gemini-2.0-flash\",\n",
    "        google_api_key=config.gemini_api_key,\n",
    "        temperature=0.7,\n",
    "        max_tokens=250,\n",
    "        model_kwargs={\"seed\": 42}\n",
    "    )"
   ]
  },
  {
   "cell_type": "code",
   "execution_count": 6,
   "id": "bafae5b2-3041-4150-acd6-f218653ae779",
   "metadata": {},
   "outputs": [],
   "source": [
    "# A chain that lists the most essential tools for a given prodession\n",
    "chain_tools = chat_template_tools | llm | string_parser\n",
    "\n",
    "# A chain that suggests effective strategies for mastering these tools\n",
    "chain_strategy = chat_template_strategy | llm | string_parser"
   ]
  },
  {
   "cell_type": "code",
   "execution_count": 28,
   "id": "55de6af4-62ad-431d-8eaf-93c957866a3f",
   "metadata": {
    "scrolled": true
   },
   "outputs": [
    {
     "name": "stdout",
     "output_type": "stream",
     "text": [
      "1.  Python\n",
      "2.  SQL\n",
      "3.  R\n",
      "4.  Machine Learning Frameworks (e.g., scikit-learn, TensorFlow, PyTorch)\n",
      "5.  Data Visualization Tools (e.g., Matplotlib, Seaborn, Tableau)\n"
     ]
    }
   ],
   "source": [
    "print(chain_tools.invoke({'job title':'data scientist'}))"
   ]
  },
  {
   "cell_type": "code",
   "execution_count": 29,
   "id": "4db5e7d1-9e5d-4537-b09a-448b47510850",
   "metadata": {
    "scrolled": true
   },
   "outputs": [
    {
     "name": "stdout",
     "output_type": "stream",
     "text": [
      "## Strategy for Learning and Mastering Python, SQL, R, Cloud Computing, and Machine Learning Frameworks\n",
      "\n",
      "This strategy focuses on a structured, hands-on approach, emphasizing practical application and continuous learning. It's broken down into phases and incorporates feedback loops for optimal progress.\n",
      "\n",
      "**Phase 1: Foundation Building (Weeks 1-4)**\n",
      "\n",
      "**Goal:** Establish a solid foundational understanding of each tool.  Focus on the core concepts and syntax.\n",
      "\n",
      "**Tools:**\n",
      "\n",
      "*   **Python:**\n",
      "    *   **Resources:**  \"Python Crash Course\" by Eric Matthes, Codecademy, freeCodeCamp.org.\n",
      "    *   **Focus:**  Data types, control flow (if/else, loops), functions, basic data structures (lists, dictionaries), file I/O, and fundamental libraries like `os` and `math`.\n",
      "    *   **Practice:**  Write simple scripts to automate tasks, solve basic coding challenges on platforms like HackerRank or LeetCode (easy difficulty).\n",
      "*   **SQL:**\n",
      "    *   **Resources:**  SQLZoo, Mode Analytics SQL Tutorial, freeCodeCamp.org.\n",
      "    *   **Focus:**  Understanding relational databases, writing `\n"
     ]
    }
   ],
   "source": [
    "print(chain_strategy.invoke({'tools':'''\n",
    "1.  Python\n",
    "2.  SQL\n",
    "3.  R\n",
    "4.  Cloud Computing (e.g., AWS, Azure, GCP)\n",
    "5.  Machine Learning Frameworks (e.g., TensorFlow, PyTorch, scikit-learn)\n",
    "'''}))"
   ]
  },
  {
   "cell_type": "code",
   "execution_count": 7,
   "id": "7ac2af2f-0189-4a7a-ab24-31363006953c",
   "metadata": {},
   "outputs": [],
   "source": [
    "# Combining two chains\n",
    "\n",
    "chain_tools = chat_template_tools | llm | string_parser | {'tools':RunnablePassthrough()}\n",
    "# The output of {'tools':RunnablePassthrough()} is dictionary in the format:\n",
    "# {'tools':'''\n",
    "# 1.  Python\n",
    "# 2.  SQL\n",
    "# 3.  R\n",
    "# 4.  Cloud Computing (e.g., AWS, Azure, GCP)\n",
    "# 5.  Machine Learning Frameworks (e.g., TensorFlow, PyTorch, scikit-learn)\n",
    "# '''}\n",
    "\n",
    "chain_strategy = chat_template_strategy | llm | string_parser\n",
    "\n",
    "chain_combined = chain_tools | chain_strategy"
   ]
  },
  {
   "cell_type": "code",
   "execution_count": 31,
   "id": "beba6802-32c7-49dc-a998-a39401279d92",
   "metadata": {},
   "outputs": [
    {
     "name": "stdout",
     "output_type": "stream",
     "text": [
      "Okay, here's a structured learning strategy for mastering Python, SQL, R, Cloud Computing, and Machine Learning Frameworks, designed to build a strong foundation and practical skills. This strategy emphasizes a hands-on, project-based approach, combining theoretical knowledge with real-world application.\n",
      "\n",
      "**I. Overall Learning Philosophy:**\n",
      "\n",
      "*   **Project-Based Learning:**  Focus on building projects that integrate multiple tools.  This is the most effective way to learn and retain knowledge.\n",
      "*   **Iterative Learning:**  Don't aim for perfection upfront. Start with the basics, build something simple, then iterate and improve as you learn more.\n",
      "*   **Consistent Practice:**  Dedicate regular time (e.g., 1-2 hours daily) to practice and work on projects. Consistency is key.\n",
      "*   **Community Engagement:**  Join online forums, attend meetups, and connect with other learners.  Learning from others and sharing your knowledge is invaluable.\n",
      "*   **Documentation is Your Friend:**  Learn to read and understand official documentation for each tool. It's the most reliable source of information.\n",
      "*   **Embrace Failure:**  Debugging and troubleshooting are essential parts of the learning\n"
     ]
    }
   ],
   "source": [
    "print(chain_combined.invoke({'job title':'data scientist'}))"
   ]
  },
  {
   "cell_type": "code",
   "execution_count": 8,
   "id": "fc8e8bf1-5776-4b87-b69e-d31d4930c112",
   "metadata": {},
   "outputs": [],
   "source": [
    "chain_long = (chat_template_tools | llm | string_parser | {'tools':RunnablePassthrough()} | \n",
    "              chat_template_strategy | llm | string_parser)"
   ]
  },
  {
   "cell_type": "markdown",
   "id": "2cef9812-9fdb-416b-83a5-2f9b05fda1e7",
   "metadata": {},
   "source": [
    "# ➡️Graphing Runnables"
   ]
  },
  {
   "cell_type": "code",
   "execution_count": 27,
   "id": "9fe8d711-7c72-4108-91b7-d39f0e9387e3",
   "metadata": {},
   "outputs": [
    {
     "name": "stdout",
     "output_type": "stream",
     "text": [
      "      +-------------+      \n",
      "      | PromptInput |      \n",
      "      +-------------+      \n",
      "             *             \n",
      "             *             \n",
      "             *             \n",
      "  +--------------------+   \n",
      "  | ChatPromptTemplate |   \n",
      "  +--------------------+   \n",
      "             *             \n",
      "             *             \n",
      "             *             \n",
      "+------------------------+ \n",
      "| ChatGoogleGenerativeAI | \n",
      "+------------------------+ \n",
      "             *             \n",
      "             *             \n",
      "             *             \n",
      "    +-----------------+    \n",
      "    | StrOutputParser |    \n",
      "    +-----------------+    \n",
      "             *             \n",
      "             *             \n",
      "             *             \n",
      "+-----------------------+  \n",
      "| StrOutputParserOutput |  \n",
      "+-----------------------+  \n",
      "             *             \n",
      "             *             \n",
      "             *             \n",
      "      +-------------+      \n",
      "      | Passthrough |      \n",
      "      +-------------+      \n",
      "             *             \n",
      "             *             \n",
      "             *             \n",
      "  +--------------------+   \n",
      "  | ChatPromptTemplate |   \n",
      "  +--------------------+   \n",
      "             *             \n",
      "             *             \n",
      "             *             \n",
      "+------------------------+ \n",
      "| ChatGoogleGenerativeAI | \n",
      "+------------------------+ \n",
      "             *             \n",
      "             *             \n",
      "             *             \n",
      "    +-----------------+    \n",
      "    | StrOutputParser |    \n",
      "    +-----------------+    \n",
      "             *             \n",
      "             *             \n",
      "             *             \n",
      "+-----------------------+  \n",
      "| StrOutputParserOutput |  \n",
      "+-----------------------+  \n"
     ]
    }
   ],
   "source": [
    "# pip install grandalf\n",
    "\n",
    "chain_long.get_graph().print_ascii()\n",
    "# An ASCII graph is simply a graph (diagram, chart, or plot) drawn using plain text characters (letters, numbers, dashes, pipes, etc.) \n",
    "# from the ASCII character set — instead of using images."
   ]
  },
  {
   "cell_type": "markdown",
   "id": "6eaadc20-a6d3-4f3a-af30-feb4f58b1453",
   "metadata": {},
   "source": [
    "# ➡️RunnableParallel"
   ]
  },
  {
   "cell_type": "code",
   "execution_count": 17,
   "id": "aa72ee7d-1158-453c-935b-24e15b8b2e8a",
   "metadata": {},
   "outputs": [],
   "source": [
    "chat_template_books = ChatPromptTemplate.from_template(\n",
    "    '''\n",
    "    Suggest three of the best intermediate-level {programming language} books. \n",
    "    Answer only by listing the books.\n",
    "    '''\n",
    ")\n",
    "\n",
    "chat_template_projects = ChatPromptTemplate.from_template(\n",
    "    '''\n",
    "    Suggest three interesting {programming language} projects suitable for intermediate-level programmers. \n",
    "    Answer only by listing the projects.\n",
    "    '''\n",
    ")"
   ]
  },
  {
   "cell_type": "code",
   "execution_count": 18,
   "id": "96728808-e054-419c-b1ee-2747047f13b5",
   "metadata": {},
   "outputs": [],
   "source": [
    "chain_books = chat_template_books | llm | string_parser\n",
    "\n",
    "chain_projects = chat_template_projects | llm | string_parser"
   ]
  },
  {
   "cell_type": "code",
   "execution_count": 19,
   "id": "ea2aec53-1377-4f47-b243-3285a708f559",
   "metadata": {},
   "outputs": [],
   "source": [
    "# Runnable Parallel Objest\n",
    "chain_parallel = RunnableParallel({'books':chain_books, 'projects':chain_projects}) # Key can be anything"
   ]
  },
  {
   "cell_type": "code",
   "execution_count": 22,
   "id": "6bae27b6-65fa-4c97-9629-027af1cfab86",
   "metadata": {},
   "outputs": [
    {
     "data": {
      "text/plain": [
       "{'books': '*   *Fluent Python* by Luciano Ramalho\\n*   *Python Cookbook* by David Beazley and Brian K. Jones\\n*   *Effective Python* by Brett Slatkin',\n",
       " 'projects': '*   **Web Scraper with Data Analysis and Visualization**\\n*   **Interactive Command-Line Application for Task Management**\\n*   **Simple Game with AI Opponent**'}"
      ]
     },
     "execution_count": 22,
     "metadata": {},
     "output_type": "execute_result"
    }
   ],
   "source": [
    "chain_parallel.invoke({'programming language':'Python'})"
   ]
  },
  {
   "cell_type": "code",
   "execution_count": 23,
   "id": "346add3f-b7c2-4a45-94d4-a124a809823d",
   "metadata": {},
   "outputs": [
    {
     "name": "stdout",
     "output_type": "stream",
     "text": [
      "                   +-------------------------------+                     \n",
      "                   | Parallel<books,projects>Input |                     \n",
      "                   +-------------------------------+                     \n",
      "                       ****                  ****                        \n",
      "                   ****                          ****                    \n",
      "                 **                                  **                  \n",
      "  +--------------------+                       +--------------------+    \n",
      "  | ChatPromptTemplate |                       | ChatPromptTemplate |    \n",
      "  +--------------------+                       +--------------------+    \n",
      "             *                                            *              \n",
      "             *                                            *              \n",
      "             *                                            *              \n",
      "+------------------------+                   +------------------------+  \n",
      "| ChatGoogleGenerativeAI |                   | ChatGoogleGenerativeAI |  \n",
      "+------------------------+                   +------------------------+  \n",
      "             *                                            *              \n",
      "             *                                            *              \n",
      "             *                                            *              \n",
      "    +-----------------+                         +-----------------+      \n",
      "    | StrOutputParser |                         | StrOutputParser |      \n",
      "    +-----------------+                         +-----------------+      \n",
      "                       ****                  ****                        \n",
      "                           ****          ****                            \n",
      "                               **      **                                \n",
      "                  +--------------------------------+                     \n",
      "                  | Parallel<books,projects>Output |                     \n",
      "                  +--------------------------------+                     \n"
     ]
    }
   ],
   "source": [
    "chain_parallel.get_graph().print_ascii()"
   ]
  },
  {
   "cell_type": "code",
   "execution_count": 24,
   "id": "e089b4a4-5504-4274-a2f2-45d01eb4a38c",
   "metadata": {},
   "outputs": [
    {
     "name": "stdout",
     "output_type": "stream",
     "text": [
      "CPU times: total: 15.6 ms\n",
      "Wall time: 1.55 s\n"
     ]
    },
    {
     "data": {
      "text/plain": [
       "'*   *Fluent Python* by Luciano Ramalho\\n*   *Python Cookbook* by David Beazley and Brian K. Jones\\n*   *Effective Python* by Brett Slatkin'"
      ]
     },
     "execution_count": 24,
     "metadata": {},
     "output_type": "execute_result"
    }
   ],
   "source": [
    "%%time\n",
    "chain_books.invoke({'programming language':'Python'})"
   ]
  },
  {
   "cell_type": "code",
   "execution_count": 25,
   "id": "67376167-46a1-46aa-9acc-82b3e5db03ab",
   "metadata": {},
   "outputs": [
    {
     "name": "stdout",
     "output_type": "stream",
     "text": [
      "CPU times: total: 15.6 ms\n",
      "Wall time: 1.21 s\n"
     ]
    },
    {
     "data": {
      "text/plain": [
       "'1.  **Web Scraper with Data Analysis and Visualization**\\n2.  **Interactive Command-Line Application with Database Integration**\\n3.  **Simple Game Engine using Pygame or similar library**'"
      ]
     },
     "execution_count": 25,
     "metadata": {},
     "output_type": "execute_result"
    }
   ],
   "source": [
    "%%time\n",
    "chain_projects.invoke({'programming language':'Python'})"
   ]
  },
  {
   "cell_type": "code",
   "execution_count": 26,
   "id": "4028b4e9-8bf7-49a7-9cd9-f21c0916196f",
   "metadata": {},
   "outputs": [
    {
     "name": "stdout",
     "output_type": "stream",
     "text": [
      "CPU times: total: 15.6 ms\n",
      "Wall time: 3.01 s\n"
     ]
    },
    {
     "data": {
      "text/plain": [
       "{'books': '*   *Fluent Python* by Luciano Ramalho\\n*   *Python Cookbook* by David Beazley and Brian K. Jones\\n*   *Effective Python* by Brett Slatkin',\n",
       " 'projects': '1.  Web Scraping and Data Analysis Tool\\n2.  Simple Game Engine with Pygame\\n3.  REST API with Flask or FastAPI'}"
      ]
     },
     "execution_count": 26,
     "metadata": {},
     "output_type": "execute_result"
    }
   ],
   "source": [
    "%%time\n",
    "chain_parallel.invoke({'programming language':'Python'})"
   ]
  },
  {
   "cell_type": "markdown",
   "id": "139713f6-84a5-4275-9a48-426c81d207f8",
   "metadata": {},
   "source": [
    "# ➡️Piping a RunnableParallel with other Runnables"
   ]
  },
  {
   "cell_type": "code",
   "execution_count": 28,
   "id": "f96beaf7-40d7-46e3-a10b-1d29bbf18ec2",
   "metadata": {},
   "outputs": [],
   "source": [
    "chat_template_books = ChatPromptTemplate.from_template(\n",
    "    '''\n",
    "    Suggest three of the best intermediate-level {programming language} books. \n",
    "    Answer only by listing the books.\n",
    "    '''\n",
    ")\n",
    "\n",
    "chat_template_projects = ChatPromptTemplate.from_template(\n",
    "    '''\n",
    "    Suggest three interesting {programming language} projects suitable for intermediate-level programmers. \n",
    "    Answer only by listing the projects.\n",
    "    '''\n",
    ")\n",
    "\n",
    "chat_template_time = ChatPromptTemplate.from_template(\n",
    "     '''\n",
    "     I'm an intermediate level programmer.\n",
    "     \n",
    "     Consider the following literature:\n",
    "     {books}\n",
    "     \n",
    "     Also, consider the following projects:\n",
    "     {projects}\n",
    "     \n",
    "     Roughly how much time would it take me to complete the literature and the projects?\n",
    "     \n",
    "     '''\n",
    ")"
   ]
  },
  {
   "cell_type": "code",
   "execution_count": 30,
   "id": "a3a05eed-8f1d-40cf-b5f3-e54862395401",
   "metadata": {},
   "outputs": [],
   "source": [
    "chain_books = chat_template_books | llm | string_parser\n",
    "\n",
    "chain_projects = chat_template_projects | llm | string_parser"
   ]
  },
  {
   "cell_type": "code",
   "execution_count": 31,
   "id": "7a9804d0-8785-43e0-8a28-ec546f36e58b",
   "metadata": {},
   "outputs": [],
   "source": [
    "chain_time1 = (RunnableParallel({'books':chain_books, \n",
    "                                'projects':chain_projects}) \n",
    "              | chat_template_time \n",
    "              | llm \n",
    "              | string_parser\n",
    "             )"
   ]
  },
  {
   "cell_type": "code",
   "execution_count": 33,
   "id": "6dacd8ba-517d-4d49-a2b8-5b34d4e3062b",
   "metadata": {},
   "outputs": [],
   "source": [
    "chain_time2 = ({'books':chain_books, \n",
    "                'projects':chain_projects}\n",
    "              | chat_template_time \n",
    "              | llm \n",
    "              | string_parser\n",
    "             )"
   ]
  },
  {
   "cell_type": "code",
   "execution_count": 36,
   "id": "8975d315-2929-4bbf-80b6-e965b754d9b7",
   "metadata": {},
   "outputs": [
    {
     "name": "stdout",
     "output_type": "stream",
     "text": [
      "Okay, let's break down the estimated time commitment for each book and project, considering your intermediate level and aiming for a good understanding rather than just skimming.\n",
      "\n",
      "**Literature:**\n",
      "\n",
      "*   **Fluent Python (Luciano Ramalho):** This is a deep dive into Python's more advanced features and idioms.  It's a substantial book.\n",
      "\n",
      "    *   **Estimated Time:** 80-120 hours.  This assumes you're reading actively, trying out examples, and taking notes.  It's a book to be absorbed, not just read.\n",
      "\n",
      "*   **Python Cookbook (David Beazley & Brian K. Jones):** This is a recipe-based book, meaning you can jump around to topics of interest.  You don't need to read it cover-to-cover.\n",
      "\n",
      "    *   **Estimated Time:** 40-80 hours.  This depends on how many recipes you want to explore in detail.  You'll likely be referencing this book throughout your projects.  Focus on sections relevant to your current needs.\n",
      "\n",
      "*   **Effective Python (Brett Slatkin):** This book is highly practical and filled with concrete advice.  It\n",
      "CPU times: total: 62.5 ms\n",
      "Wall time: 4.95 s\n"
     ]
    }
   ],
   "source": [
    "%%time\n",
    "print(chain_time1.invoke({'programming language':'Python'}))"
   ]
  },
  {
   "cell_type": "code",
   "execution_count": 37,
   "id": "4f792d1f-2e83-4f43-80bd-696adea2a068",
   "metadata": {},
   "outputs": [
    {
     "name": "stdout",
     "output_type": "stream",
     "text": [
      "Okay, let's break down the estimated time commitment for reading the books and completing the projects, considering you're at an intermediate programming level.  This is, of course, a *very rough* estimate, as individual learning speeds, existing knowledge, and time availability vary greatly.\n",
      "\n",
      "**Literature Time Estimates:**\n",
      "\n",
      "*   **Fluent Python (Luciano Ramalho):** This is a deep dive into Python's core features. It's not a quick read.  It's best absorbed by actively trying out the concepts and examples.\n",
      "    *   **Reading & Basic Understanding:** 60-80 hours.  This assumes you're dedicating focused time and actively engaging with the material (coding examples, taking notes).  If you're just passively reading, you won't retain as much.\n",
      "    *   **Applying & Internalizing:**  Another 40-60 hours.  This is where you truly cement the knowledge.  You'll want to revisit sections as needed when working on projects.  This time is interwoven with project work.\n",
      "    *   **Total (Effective Reading & Application):** 100-140 hours.  This is a\n",
      "CPU times: total: 109 ms\n",
      "Wall time: 4.8 s\n"
     ]
    }
   ],
   "source": [
    "%%time\n",
    "print(chain_time2.invoke({'programming language':'Python'}))"
   ]
  },
  {
   "cell_type": "code",
   "execution_count": 39,
   "id": "79c1e906-adf5-4eff-a3fb-2fd8e717131f",
   "metadata": {},
   "outputs": [
    {
     "name": "stdout",
     "output_type": "stream",
     "text": [
      "                   +-------------------------------+                     \n",
      "                   | Parallel<books,projects>Input |                     \n",
      "                   +-------------------------------+                     \n",
      "                       ****                  ****                        \n",
      "                   ****                          ****                    \n",
      "                 **                                  **                  \n",
      "  +--------------------+                       +--------------------+    \n",
      "  | ChatPromptTemplate |                       | ChatPromptTemplate |    \n",
      "  +--------------------+                       +--------------------+    \n",
      "             *                                            *              \n",
      "             *                                            *              \n",
      "             *                                            *              \n",
      "+------------------------+                   +------------------------+  \n",
      "| ChatGoogleGenerativeAI |                   | ChatGoogleGenerativeAI |  \n",
      "+------------------------+                   +------------------------+  \n",
      "             *                                            *              \n",
      "             *                                            *              \n",
      "             *                                            *              \n",
      "    +-----------------+                         +-----------------+      \n",
      "    | StrOutputParser |                         | StrOutputParser |      \n",
      "    +-----------------+                         +-----------------+      \n",
      "                       ****                  ****                        \n",
      "                           ****          ****                            \n",
      "                               **      **                                \n",
      "                  +--------------------------------+                     \n",
      "                  | Parallel<books,projects>Output |                     \n",
      "                  +--------------------------------+                     \n",
      "                                    *                                    \n",
      "                                    *                                    \n",
      "                                    *                                    \n",
      "                        +--------------------+                           \n",
      "                        | ChatPromptTemplate |                           \n",
      "                        +--------------------+                           \n",
      "                                    *                                    \n",
      "                                    *                                    \n",
      "                                    *                                    \n",
      "                      +------------------------+                         \n",
      "                      | ChatGoogleGenerativeAI |                         \n",
      "                      +------------------------+                         \n",
      "                                    *                                    \n",
      "                                    *                                    \n",
      "                                    *                                    \n",
      "                          +-----------------+                            \n",
      "                          | StrOutputParser |                            \n",
      "                          +-----------------+                            \n",
      "                                    *                                    \n",
      "                                    *                                    \n",
      "                                    *                                    \n",
      "                       +-----------------------+                         \n",
      "                       | StrOutputParserOutput |                         \n",
      "                       +-----------------------+                         \n"
     ]
    }
   ],
   "source": [
    "chain_time1.get_graph().print_ascii()"
   ]
  },
  {
   "cell_type": "markdown",
   "id": "978d5250-971a-4485-a14b-592cd7db296a",
   "metadata": {},
   "source": [
    "# ➡️RunnableLambda"
   ]
  },
  {
   "cell_type": "code",
   "execution_count": 41,
   "id": "23fe9a48-8950-45b5-93e8-0f61ef33c1d0",
   "metadata": {},
   "outputs": [
    {
     "data": {
      "text/plain": [
       "8"
      ]
     },
     "execution_count": 41,
     "metadata": {},
     "output_type": "execute_result"
    }
   ],
   "source": [
    "find_sum = lambda x: sum(x)\n",
    "\n",
    "find_sum([1, 2, 5])"
   ]
  },
  {
   "cell_type": "code",
   "execution_count": 42,
   "id": "ad13902c-1d06-4d74-9959-abb2b0a5e113",
   "metadata": {},
   "outputs": [
    {
     "data": {
      "text/plain": [
       "64"
      ]
     },
     "execution_count": 42,
     "metadata": {},
     "output_type": "execute_result"
    }
   ],
   "source": [
    "find_square = lambda x: x**2\n",
    "\n",
    "find_square(8)"
   ]
  },
  {
   "cell_type": "code",
   "execution_count": 45,
   "id": "df4e9909-2989-46c5-a94c-aa75cd667035",
   "metadata": {},
   "outputs": [
    {
     "data": {
      "text/plain": [
       "8"
      ]
     },
     "execution_count": 45,
     "metadata": {},
     "output_type": "execute_result"
    }
   ],
   "source": [
    "runnable_sum = RunnableLambda(lambda x: sum(x))\n",
    "\n",
    "runnable_sum.invoke([1, 2, 5])"
   ]
  },
  {
   "cell_type": "code",
   "execution_count": 46,
   "id": "1320bbc0-099b-4f86-a808-166800049206",
   "metadata": {},
   "outputs": [
    {
     "data": {
      "text/plain": [
       "64"
      ]
     },
     "execution_count": 46,
     "metadata": {},
     "output_type": "execute_result"
    }
   ],
   "source": [
    "runnable_square = RunnableLambda(lambda x: x**2)\n",
    "\n",
    "runnable_square.invoke(8)"
   ]
  },
  {
   "cell_type": "code",
   "execution_count": 47,
   "id": "1cf0b2e8-54b8-4113-b529-bd7dfda91652",
   "metadata": {},
   "outputs": [
    {
     "data": {
      "text/plain": [
       "64"
      ]
     },
     "execution_count": 47,
     "metadata": {},
     "output_type": "execute_result"
    }
   ],
   "source": [
    "chain = runnable_sum | runnable_square\n",
    "\n",
    "chain.invoke([1, 2, 5])"
   ]
  },
  {
   "cell_type": "code",
   "execution_count": 48,
   "id": "25ca38a4-7258-44cd-8762-927df37862db",
   "metadata": {},
   "outputs": [
    {
     "name": "stdout",
     "output_type": "stream",
     "text": [
      "+-------------+  \n",
      "| LambdaInput |  \n",
      "+-------------+  \n",
      "        *        \n",
      "        *        \n",
      "        *        \n",
      "   +--------+    \n",
      "   | Lambda |    \n",
      "   +--------+    \n",
      "        *        \n",
      "        *        \n",
      "        *        \n",
      "   +--------+    \n",
      "   | Lambda |    \n",
      "   +--------+    \n",
      "        *        \n",
      "        *        \n",
      "        *        \n",
      "+--------------+ \n",
      "| LambdaOutput | \n",
      "+--------------+ \n"
     ]
    }
   ],
   "source": [
    "chain.get_graph().print_ascii()"
   ]
  },
  {
   "cell_type": "markdown",
   "id": "900466a0-3015-4ec0-a83b-2727db828ecf",
   "metadata": {},
   "source": [
    "# ➡️The @chain decorator"
   ]
  },
  {
   "cell_type": "code",
   "execution_count": 50,
   "id": "3b37fe1d-7251-430c-9205-e5d4b8e58c4c",
   "metadata": {},
   "outputs": [],
   "source": [
    "def find_sum(x):\n",
    "    return sum(x)\n",
    "\n",
    "def find_square(x):\n",
    "    return x**2"
   ]
  },
  {
   "cell_type": "code",
   "execution_count": 51,
   "id": "b9d52cc2-5323-4517-b553-9388623ec44f",
   "metadata": {},
   "outputs": [
    {
     "data": {
      "text/plain": [
       "64"
      ]
     },
     "execution_count": 51,
     "metadata": {},
     "output_type": "execute_result"
    }
   ],
   "source": [
    "chain1 = RunnableLambda(find_sum) | RunnableLambda(find_square)\n",
    "\n",
    "chain1.invoke([1, 2, 5])"
   ]
  },
  {
   "cell_type": "code",
   "execution_count": 53,
   "id": "89e044be-6989-40aa-9ceb-4752845d4438",
   "metadata": {},
   "outputs": [],
   "source": [
    "# Chain Decorator - automatically converts the function into runnable lamnbda functions \n",
    "@chain\n",
    "def runnable_sum(x):\n",
    "    return sum(x)\n",
    "\n",
    "@chain\n",
    "def runnable_square(x):\n",
    "    return x**2"
   ]
  },
  {
   "cell_type": "code",
   "execution_count": 52,
   "id": "d142c0bf-ac96-483d-bcbe-3f9ad5001632",
   "metadata": {},
   "outputs": [
    {
     "data": {
      "text/plain": [
       "(langchain_core.runnables.base.RunnableLambda,\n",
       " langchain_core.runnables.base.RunnableLambda)"
      ]
     },
     "execution_count": 52,
     "metadata": {},
     "output_type": "execute_result"
    }
   ],
   "source": [
    "type(runnable_sum), type(runnable_square)"
   ]
  },
  {
   "cell_type": "code",
   "execution_count": 55,
   "id": "f019382a-7358-475f-ad2f-8bb25773f83e",
   "metadata": {},
   "outputs": [
    {
     "data": {
      "text/plain": [
       "64"
      ]
     },
     "execution_count": 55,
     "metadata": {},
     "output_type": "execute_result"
    }
   ],
   "source": [
    "chain2 = runnable_sum | runnable_square\n",
    "\n",
    "chain2.invoke([1, 2, 5])"
   ]
  }
 ],
 "metadata": {
  "kernelspec": {
   "display_name": "Python (llms_course_env)",
   "language": "python",
   "name": "llms_course_env"
  },
  "language_info": {
   "codemirror_mode": {
    "name": "ipython",
    "version": 3
   },
   "file_extension": ".py",
   "mimetype": "text/x-python",
   "name": "python",
   "nbconvert_exporter": "python",
   "pygments_lexer": "ipython3",
   "version": "3.11.13"
  }
 },
 "nbformat": 4,
 "nbformat_minor": 5
}
