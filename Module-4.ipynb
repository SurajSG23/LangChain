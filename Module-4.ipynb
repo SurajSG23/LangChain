{
 "cells": [
  {
   "cell_type": "markdown",
   "id": "b142d79c-3972-4d49-9e57-23f9175f946b",
   "metadata": {},
   "source": [
    "# LangChain Expression Language\n",
    "\n",
    "### What is LCEL?\n",
    "\n",
    "* A declarative way to build AI pipelines in LangChain.\n",
    "* Instead of long Python code, you connect components in a chain-like style.\n",
    "\n",
    "---\n",
    "\n",
    "### Why LCEL?\n",
    "\n",
    "* Shorter and cleaner code.\n",
    "* Easier to read and maintain.\n",
    "* Works the same for synchronous, asynchronous, batch, and streaming execution.\n",
    "* Good for debugging and reusing components.\n",
    "\n",
    "---\n",
    "\n",
    "### Basic Example\n",
    "\n",
    "Without LCEL:\n",
    "\n",
    "```python\n",
    "prompt = PromptTemplate.from_template(\"Tell me a joke about {topic}\")\n",
    "chain = LLMChain(llm=ChatOpenAI(), prompt=prompt)\n",
    "result = chain.run(\"cats\")\n",
    "```\n",
    "\n",
    "With LCEL:\n",
    "\n",
    "```python\n",
    "chain = prompt | ChatOpenAI() | StrOutputParser()\n",
    "result = chain.invoke({\"topic\": \"cats\"})\n",
    "```\n",
    "**prompt, ChatOpenAI(), StrOutputParser() are called runnables**\n",
    "\n",
    "---\n",
    "\n",
    "## LCEL Operators\n",
    "\n",
    "* `|` → Pipe operator, connects steps.\n",
    "* `.invoke()` → Run once with input.\n",
    "* `.batch()` → Run for multiple inputs.\n",
    "* `.stream()` → Get outputs step by step (streaming responses).\n",
    "\n",
    "---\n",
    "\n",
    "## Key Features\n",
    "\n",
    "1. Composable – you can plug and play different parts.\n",
    "2. Parallel and sequential execution supported.\n",
    "3. Unified API – works the same for sync, async, batch, and streaming.\n",
    "4. Production-ready – optimized for speed and scalability.\n",
    "\n",
    "---\n",
    "\n",
    "## Simple Summary\n",
    "\n",
    "* LCEL is a short and readable way to connect LangChain components.\n",
    "* It works like piping data through different steps.\n",
    "* Use `|` to chain steps.\n",
    "* The same code works for real-time, async, or batch calls.\n",
    "\n",
    "---\n"
   ]
  },
  {
   "cell_type": "markdown",
   "id": "1943da09-e209-47bd-91ee-5dba9306f6ff",
   "metadata": {},
   "source": [
    "## Piping a prompt, model, and an output parser"
   ]
  },
  {
   "cell_type": "code",
   "execution_count": 2,
   "id": "46bb950f-0685-4b2b-b7ba-2150ef6e40e0",
   "metadata": {},
   "outputs": [],
   "source": [
    "from langchain_google_genai import ChatGoogleGenerativeAI\n",
    "from langchain_core.prompts import ChatPromptTemplate\n",
    "from langchain_core.output_parsers import CommaSeparatedListOutputParser\n",
    "import config"
   ]
  },
  {
   "cell_type": "code",
   "execution_count": 3,
   "id": "2d5ce49c-da69-46b2-8713-9b5d2efc542d",
   "metadata": {},
   "outputs": [
    {
     "data": {
      "text/plain": [
       "'Your response should be a list of comma separated values, eg: `foo, bar, baz` or `foo,bar,baz`'"
      ]
     },
     "execution_count": 3,
     "metadata": {},
     "output_type": "execute_result"
    }
   ],
   "source": [
    "list_instructions = CommaSeparatedListOutputParser().get_format_instructions()\n",
    "\n",
    "list_instructions"
   ]
  },
  {
   "cell_type": "code",
   "execution_count": 16,
   "id": "b17085af-9b8a-4777-8452-b14ef76040a5",
   "metadata": {},
   "outputs": [
    {
     "name": "stdout",
     "output_type": "stream",
     "text": [
      "I've recently adopted a {pet}. Could you suggest three {pet} names? \n",
      "Your response should be a list of comma separated values, eg: `foo, bar, baz` or `foo,bar,baz`\n"
     ]
    }
   ],
   "source": [
    "# Chat Template\n",
    "\n",
    "chat_template = ChatPromptTemplate.from_messages([\n",
    "    ('human', \"I've recently adopted a {pet}. Could you suggest three {pet} names? \\n\" + list_instructions)\n",
    "])\n",
    "\n",
    "print(chat_template.messages[0].prompt.template)"
   ]
  },
  {
   "cell_type": "code",
   "execution_count": 17,
   "id": "95e0401b-e7a5-4669-acbd-140186f1d58c",
   "metadata": {},
   "outputs": [],
   "source": [
    "# Chat Model\n",
    "\n",
    "def AskGeminiAI(question):\n",
    "    llm = ChatGoogleGenerativeAI(\n",
    "        model=\"gemini-2.0-flash\",\n",
    "        google_api_key=config.gemini_api_key,\n",
    "        temperature=0.7,\n",
    "        max_tokens=250,\n",
    "        model_kwargs={\"seed\": 42}\n",
    "    )\n",
    "    response = llm.invoke(question)\n",
    "    return response.content"
   ]
  },
  {
   "cell_type": "code",
   "execution_count": 18,
   "id": "adda5920-af39-493f-bf36-9bf98d75bfd2",
   "metadata": {},
   "outputs": [],
   "source": [
    "# Output parser\n",
    "\n",
    "list_output_parser = CommaSeparatedListOutputParser()"
   ]
  },
  {
   "cell_type": "code",
   "execution_count": 28,
   "id": "e97fcdfe-14bd-4890-b5e6-089517573149",
   "metadata": {},
   "outputs": [
    {
     "data": {
      "text/plain": [
       "['Buddy', 'Luna', 'Charlie']"
      ]
     },
     "execution_count": 28,
     "metadata": {},
     "output_type": "execute_result"
    }
   ],
   "source": [
    "# 3 step\n",
    "\n",
    "chat_template_result = chat_template.invoke({'pet':'dog'})\n",
    "\n",
    "chat_result = AskGeminiAI(chat_template_result)\n",
    "\n",
    "list_output_parser.invoke(chat_result)"
   ]
  },
  {
   "cell_type": "code",
   "execution_count": 29,
   "id": "815f422c-cd7b-4f7e-8ba5-a860b1ad2201",
   "metadata": {},
   "outputs": [
    {
     "data": {
      "text/plain": [
       "['Buddy', 'Luna', 'Charlie']"
      ]
     },
     "execution_count": 29,
     "metadata": {},
     "output_type": "execute_result"
    }
   ],
   "source": [
    "# Single line\n",
    "\n",
    "chain = chat_template | AskGeminiAI | list_output_parser\n",
    "\n",
    "chain.invoke({'pet':'dog'})"
   ]
  },
  {
   "cell_type": "markdown",
   "id": "b2f1fa9b-9b60-49a9-a7fb-d57c6e2950d3",
   "metadata": {},
   "source": [
    "## Batching"
   ]
  },
  {
   "cell_type": "code",
   "execution_count": 30,
   "id": "e9ba2333-e83d-419a-bb0c-d95d500035b3",
   "metadata": {},
   "outputs": [],
   "source": [
    "chat_template = ChatPromptTemplate.from_messages([\n",
    "    ('human', \n",
    "     \"I've recently adopted a {pet} which is a {breed}. Could you suggest several training tips?\")\n",
    "])"
   ]
  },
  {
   "cell_type": "code",
   "execution_count": 31,
   "id": "aca9088e-e47a-4667-a8f8-3645963bc055",
   "metadata": {},
   "outputs": [],
   "source": [
    "chain = chat_template | AskGeminiAI"
   ]
  },
  {
   "cell_type": "code",
   "execution_count": 32,
   "id": "11253f37-b372-4348-bb44-c75491ff1fcb",
   "metadata": {},
   "outputs": [
    {
     "data": {
      "text/plain": [
       "'Congratulations on adopting a Shepherd! They are intelligent and loyal dogs, but can also be energetic and require consistent training. Here are some training tips tailored to Shepherds:\\n\\n**1. Establish Yourself as the Leader (Positive Reinforcement Focus):**\\n\\n*   **Consistency is Key:** Shepherds thrive on structure and routine. Be consistent with your commands, rules, and expectations. Everyone in the household should use the same commands and enforce the same rules.\\n*   **Positive Reinforcement:** Shepherds respond very well to positive reinforcement. Use treats, praise, toys, and affection to reward desired behaviors.  Avoid punishment-based methods, as they can damage your relationship and lead to anxiety or aggression.\\n*   **Clear Communication:** Use clear and concise commands. Avoid long sentences or confusing jargon. Keep your tone consistent and confident.\\n\\n**2. Basic Obedience Training:**\\n\\n*   **Start Early:** Begin training as soon as possible, even if your Shepherd is an adult.  Adult dogs can learn new tricks!\\n*   **\"Sit,\" \"Stay,\" \"Come,\" \"Down,\" \"Leave It\":** These are essential commands for all dogs, but especially important for Shepherds due to their herding instincts and'"
      ]
     },
     "execution_count": 32,
     "metadata": {},
     "output_type": "execute_result"
    }
   ],
   "source": [
    "chain.invoke({'pet':'dog', 'breed':'shepherd'})"
   ]
  },
  {
   "cell_type": "code",
   "execution_count": 37,
   "id": "8cf514fb-6b42-425c-8e9e-da3f0131f6ca",
   "metadata": {},
   "outputs": [
    {
     "name": "stdout",
     "output_type": "stream",
     "text": [
      "CPU times: total: 109 ms\n",
      "Wall time: 3.03 s\n"
     ]
    },
    {
     "data": {
      "text/plain": [
       "[\"Congratulations on adopting a Shepherd! They are intelligent and eager to please, but also need consistent training and mental stimulation. Here are some training tips specifically geared towards Shepherds:\\n\\n**1. Early Socialization is Key:**\\n\\n*   **Expose your Shepherd to a variety of sights, sounds, people, and other dogs.**  Do this in a controlled and positive manner.  Think puppy classes, walks in different environments, and meeting friendly, well-behaved dogs.\\n*   **Socialization window:**  The critical socialization period is between 8 and 16 weeks of age.  While it's ideal to start during this time, socialization is important throughout their life.\\n*   **Positive Reinforcement:**  Use treats, praise, and toys to reward positive interactions.  Never force an interaction if your dog is scared or uncomfortable.\\n\\n**2. Basic Obedience is Essential:**\\n\\n*   **Start with the basics:**  Sit, stay, come, down, leave it, and heel.  Use positive reinforcement methods.\\n*   **Consistency is crucial:**  Use the same commands and hand signals every time.  Practice in short, frequent sessions (5-10 minutes) several times a day\",\n",
       " 'Congratulations on adopting a Night Fury! They\\'re incredibly intelligent and loyal creatures, but they also require a specific approach to training. Here are some training tips, keeping in mind their unique personality and abilities:\\n\\n**1. Build Trust and Bond:**\\n\\n*   **Patience is Key:** Night Furies are cautious and need to trust you completely before they\\'ll cooperate. Don\\'t rush the process. Spend time simply being around them, letting them get used to your presence and scent.\\n*   **Positive Reinforcement:** Forget punishment! Night Furies respond best to positive reinforcement. Use praise, gentle scratches (especially under the chin!), and rewards (see \"Food Rewards\" below) when they do something right.\\n*   **Understanding Body Language:** Learn to read your Night Fury\\'s body language.  A relaxed posture, soft eyes, and purring indicate comfort and trust.  Pinning ears, dilated pupils, and hissing are signs of fear or discomfort. Backing away, or giving them space if they are uncomfortable is important.\\n*   **Respect Boundaries:** Don\\'t force interaction. Let your Night Fury come to you. If they back away or show signs of discomfort, respect their boundaries and']"
      ]
     },
     "execution_count": 37,
     "metadata": {},
     "output_type": "execute_result"
    }
   ],
   "source": [
    "%%time\n",
    "chain.batch([{'pet':'dog', 'breed':'shepherd'}, \n",
    "             {'pet':'dragon', 'breed':'night fury'}])"
   ]
  },
  {
   "cell_type": "code",
   "execution_count": 38,
   "id": "d037aa20-0036-46dd-80c6-9d7f0d34ca44",
   "metadata": {},
   "outputs": [
    {
     "name": "stdout",
     "output_type": "stream",
     "text": [
      "CPU times: total: 62.5 ms\n",
      "Wall time: 2.63 s\n"
     ]
    },
    {
     "data": {
      "text/plain": [
       "'Congratulations on adopting a shepherd! They\\'re intelligent and eager to please, but also need consistent training and mental stimulation. Here are some training tips specific to shepherds:\\n\\n**1. Focus on Positive Reinforcement:**\\n\\n*   **Treats, Praise, and Toys:** Shepherds respond very well to positive reinforcement. Use high-value treats (small, smelly, and irresistible!), enthusiastic praise, and favorite toys as rewards for good behavior.\\n*   **Avoid Punishment:** Punishment can damage your bond and lead to fear-based aggression. Focus on rewarding the behaviors you want to see.\\n*   **Clicker Training:** Consider using a clicker. It\\'s a great way to mark the exact moment your dog performs the desired behavior, followed by a reward.\\n\\n**2. Start Early and Be Consistent:**\\n\\n*   **Basic Obedience:** Teach basic commands like \"sit,\" \"stay,\" \"down,\" \"come,\" and \"leave it.\" Start in a quiet environment and gradually introduce distractions.\\n*   **Consistency is Key:** Everyone in the household should use the same commands and training methods. This will avoid confusion for your dog.\\n*   **Short Sessions:** Keep training sessions short and fun (5-'"
      ]
     },
     "execution_count": 38,
     "metadata": {},
     "output_type": "execute_result"
    }
   ],
   "source": [
    "%%time\n",
    "chain.invoke({'pet':'dog', 'breed':'shepherd'})"
   ]
  },
  {
   "cell_type": "code",
   "execution_count": 39,
   "id": "7f74f5bc-f377-4844-be61-9df1785b0e3c",
   "metadata": {},
   "outputs": [
    {
     "name": "stdout",
     "output_type": "stream",
     "text": [
      "CPU times: total: 78.1 ms\n",
      "Wall time: 3.86 s\n"
     ]
    },
    {
     "data": {
      "text/plain": [
       "\"Congratulations on adopting a Night Fury! They are incredibly intelligent, loyal, and powerful dragons, but also require a special approach to training. Here are some training tips, keeping in mind their unique personality:\\n\\n**Building Trust and Connection (Crucial for Night Furies):**\\n\\n*   **Patience and Understanding:** This is paramount. Night Furies are naturally wary and independent. Rushing the process will only push them away. Go slow, be gentle, and respect their boundaries.\\n*   **Positive Reinforcement:** Absolutely essential. Forget punishment. Focus on rewarding desired behaviors with praise, affection (scratches under the chin are often appreciated!), and treats (more on that later).\\n*   **Non-Verbal Communication:** Pay close attention to your Night Fury's body language. Learn to read their ear positions, tail movements, and vocalizations. They are excellent communicators, but you need to listen.\\n*   **Bonding Time:** Spend quality time with your Night Fury without demanding anything in return. Simply be present, talk to them in a soothing voice, and offer gentle physical contact if they allow it. Flying together is a fantastic bonding experience.\\n*   **Consistency:** Be consistent with your commands\""
      ]
     },
     "execution_count": 39,
     "metadata": {},
     "output_type": "execute_result"
    }
   ],
   "source": [
    "%%time\n",
    "chain.invoke({'pet':'dragon', 'breed':'night fury'})"
   ]
  },
  {
   "cell_type": "markdown",
   "id": "a1a0eee2-3597-466a-9a89-03669da70e73",
   "metadata": {},
   "source": [
    "### 1. **CPU time**\n",
    "\n",
    "* The amount of time the CPU actually spent executing your code.\n",
    "* Includes user + system CPU usage.\n",
    "* If your code runs in **parallel** across multiple cores, CPU time can be **greater than wall time** (because it sums across cores).\n",
    "\n",
    "---\n",
    "\n",
    "### 2. **Wall time**\n",
    "\n",
    "* The real-world elapsed time (like looking at a stopwatch).\n",
    "* Starts when the cell begins execution, stops when it ends.\n",
    "* Includes waiting, I/O delays, and any time the process was idle.\n",
    "\n",
    "---"
   ]
  },
  {
   "cell_type": "code",
   "execution_count": null,
   "id": "ea9c8173-fea1-4019-81c6-b958dd61cb34",
   "metadata": {},
   "outputs": [],
   "source": []
  }
 ],
 "metadata": {
  "kernelspec": {
   "display_name": "Python 3 (ipykernel)",
   "language": "python",
   "name": "python3"
  },
  "language_info": {
   "codemirror_mode": {
    "name": "ipython",
    "version": 3
   },
   "file_extension": ".py",
   "mimetype": "text/x-python",
   "name": "python",
   "nbconvert_exporter": "python",
   "pygments_lexer": "ipython3",
   "version": "3.11.13"
  }
 },
 "nbformat": 4,
 "nbformat_minor": 5
}
