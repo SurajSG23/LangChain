{
 "cells": [
  {
   "cell_type": "markdown",
   "id": "8e5b1fc8-e6fe-469d-92da-508eaf7c33fc",
   "metadata": {},
   "source": [
    "## String output parser"
   ]
  },
  {
   "cell_type": "code",
   "execution_count": null,
   "id": "c3ca21d8-dd14-48ae-9717-3d481265cb84",
   "metadata": {},
   "outputs": [],
   "source": [
    "from langchain_google_genai import ChatGoogleGenerativeAI\n",
    "from langchain_core.messages import HumanMessage\n",
    "from langchain_core.output_parsers import StrOutputParser, CommaSeparatedListOutputParser\n",
    "from langchain.output_parsers import DatetimeOutputParser\n",
    "import config"
   ]
  },
  {
   "cell_type": "code",
   "execution_count": 2,
   "id": "0a3f01d1-4db2-46ca-9944-2e4f1abefdd9",
   "metadata": {},
   "outputs": [],
   "source": [
    "def AskGeminiAI(question):\n",
    "    llm = ChatGoogleGenerativeAI(\n",
    "        model=\"gemini-2.0-flash\",\n",
    "        google_api_key=config.gemini_api_key,\n",
    "        temperature=0.7,\n",
    "        max_tokens=250,\n",
    "        model_kwargs={\"seed\": 42}\n",
    "    )\n",
    "    response = llm.invoke(question)\n",
    "    return response.content"
   ]
  },
  {
   "cell_type": "code",
   "execution_count": 3,
   "id": "976fe9f9-695a-4c50-b967-bc668b767ac5",
   "metadata": {},
   "outputs": [],
   "source": [
    "message_h = HumanMessage(content = \"Can you give me an interesting fact I probably didn't know about?\")"
   ]
  },
  {
   "cell_type": "code",
   "execution_count": 4,
   "id": "0ff404ec-fcb6-4df2-b4f4-d9a65e8d98bb",
   "metadata": {},
   "outputs": [
    {
     "name": "stdout",
     "output_type": "stream",
     "text": [
      "Here's an interesting fact you probably didn't know:\n",
      "\n",
      "**The \"Smell of Rain\" (Petrichor) is partially caused by bacteria.**\n",
      "\n",
      "Specifically, when rain falls on dry soil, it releases a scent called \"petrichor.\" While plant oils and other factors contribute, a significant component comes from *Actinobacteria* living in the soil. These bacteria produce a compound called geosmin, which is released into the air when raindrops impact the ground. Geosmin is incredibly potent, and humans can detect it at extremely low concentrations, giving us that familiar and pleasant \"earthy\" smell after a rain.\n"
     ]
    }
   ],
   "source": [
    "response = AskGeminiAI([message_h])\n",
    "print(response)"
   ]
  },
  {
   "cell_type": "code",
   "execution_count": 5,
   "id": "87e090c2-ba9e-47da-8909-43906afb1d5a",
   "metadata": {},
   "outputs": [],
   "source": [
    "str_output_parser = StrOutputParser()"
   ]
  },
  {
   "cell_type": "code",
   "execution_count": 6,
   "id": "925038c0-9098-432d-8f0f-cbe42672ebfb",
   "metadata": {},
   "outputs": [
    {
     "data": {
      "text/plain": [
       "'Here\\'s an interesting fact you probably didn\\'t know:\\n\\n**The \"Smell of Rain\" (Petrichor) is partially caused by bacteria.**\\n\\nSpecifically, when rain falls on dry soil, it releases a scent called \"petrichor.\" While plant oils and other factors contribute, a significant component comes from *Actinobacteria* living in the soil. These bacteria produce a compound called geosmin, which is released into the air when raindrops impact the ground. Geosmin is incredibly potent, and humans can detect it at extremely low concentrations, giving us that familiar and pleasant \"earthy\" smell after a rain.'"
      ]
     },
     "execution_count": 6,
     "metadata": {},
     "output_type": "execute_result"
    }
   ],
   "source": [
    "response_parsed = str_output_parser.invoke(response)\n",
    "response_parsed"
   ]
  },
  {
   "cell_type": "markdown",
   "id": "82499248-cac2-4f0c-a1fa-5ef41bd8ef91",
   "metadata": {},
   "source": [
    "## Comma-Separated List Output Parser"
   ]
  },
  {
   "cell_type": "code",
   "execution_count": 12,
   "id": "2e8e6d1b-a21c-40e6-b45b-56ec9b446fbd",
   "metadata": {},
   "outputs": [],
   "source": [
    "message_h = HumanMessage(content = f'''I've recently adopted a dog. Could you suggest some dog names? \n",
    "{CommaSeparatedListOutputParser().get_format_instructions()} ''')"
   ]
  },
  {
   "cell_type": "code",
   "execution_count": 20,
   "id": "50538c89-0771-408d-91b9-81c6d8707cf4",
   "metadata": {},
   "outputs": [
    {
     "name": "stdout",
     "output_type": "stream",
     "text": [
      "Your response should be a list of comma separated values, eg: `foo, bar, baz` or `foo,bar,baz`\n"
     ]
    }
   ],
   "source": [
    "print(list_output_parser.get_format_instructions())"
   ]
  },
  {
   "cell_type": "code",
   "execution_count": 13,
   "id": "49472e1b-24e3-4349-975b-44658033a376",
   "metadata": {},
   "outputs": [
    {
     "name": "stdout",
     "output_type": "stream",
     "text": [
      "I've recently adopted a dog. Could you suggest some dog names? \n",
      "Your response should be a list of comma separated values, eg: `foo, bar, baz` or `foo,bar,baz` \n"
     ]
    }
   ],
   "source": [
    "print(message_h.content)"
   ]
  },
  {
   "cell_type": "code",
   "execution_count": 14,
   "id": "7415a766-b97e-4ede-8584-565c886782b0",
   "metadata": {},
   "outputs": [
    {
     "name": "stdout",
     "output_type": "stream",
     "text": [
      "Here are some dog name suggestions, separated by commas:\n",
      "\n",
      "Buddy, Max, Charlie, Cooper, Rocky, Tucker, Bear, Duke, Oliver, Jack, Bella, Lucy, Daisy, Luna, Sadie, Bailey, Lola, Sophie, Chloe, Stella, Gus, Finn, Leo, Milo, Hazel, Willow, Penny, Ruby, Rosie, Piper\n"
     ]
    }
   ],
   "source": [
    "response = AskGeminiAI([message_h])\n",
    "print(response)"
   ]
  },
  {
   "cell_type": "code",
   "execution_count": 15,
   "id": "514c37a7-718d-4144-9d0e-0cbdb0421eb4",
   "metadata": {},
   "outputs": [],
   "source": [
    "list_output_parser = CommaSeparatedListOutputParser()"
   ]
  },
  {
   "cell_type": "code",
   "execution_count": 16,
   "id": "2fc44f5f-a040-41c3-a480-02f61a2bd1db",
   "metadata": {},
   "outputs": [
    {
     "data": {
      "text/plain": [
       "['Here are some dog name suggestions',\n",
       " 'separated by commas:',\n",
       " 'Buddy',\n",
       " 'Max',\n",
       " 'Charlie',\n",
       " 'Cooper',\n",
       " 'Rocky',\n",
       " 'Tucker',\n",
       " 'Bear',\n",
       " 'Duke',\n",
       " 'Oliver',\n",
       " 'Jack',\n",
       " 'Bella',\n",
       " 'Lucy',\n",
       " 'Daisy',\n",
       " 'Luna',\n",
       " 'Sadie',\n",
       " 'Bailey',\n",
       " 'Lola',\n",
       " 'Sophie',\n",
       " 'Chloe',\n",
       " 'Stella',\n",
       " 'Gus',\n",
       " 'Finn',\n",
       " 'Leo',\n",
       " 'Milo',\n",
       " 'Hazel',\n",
       " 'Willow',\n",
       " 'Penny',\n",
       " 'Ruby',\n",
       " 'Rosie',\n",
       " 'Piper']"
      ]
     },
     "execution_count": 16,
     "metadata": {},
     "output_type": "execute_result"
    }
   ],
   "source": [
    "response_parsed = list_output_parser.invoke(response)\n",
    "response_parsed"
   ]
  },
  {
   "cell_type": "markdown",
   "id": "1cdd8d4a-fdeb-473c-97c8-69cc2b5a50c4",
   "metadata": {},
   "source": [
    "## Datetime output parser"
   ]
  },
  {
   "cell_type": "code",
   "execution_count": 33,
   "id": "343ddda5-f0f6-4005-93f9-37741fe5f059",
   "metadata": {},
   "outputs": [
    {
     "name": "stdout",
     "output_type": "stream",
     "text": [
      "When was the Danish poet Piet Hein born?\n",
      "Write a datetime string that matches the \n",
      "            following pattern: \"%Y-%m-%dT%H:%M:%S.%fZ\". Examples: 1175-04-22T01:55:17.601334Z, 0321-10-31T11:57:20.333237Z, 1883-03-18T21:07:23.074158Z Return ONLY this string, no other words!\n"
     ]
    }
   ],
   "source": [
    "message_h = HumanMessage(content = f'''When was the Danish poet Piet Hein born?\n",
    "{DatetimeOutputParser().get_format_instructions()} Return ONLY this string, no other words!''')\n",
    "\n",
    "print(message_h.content)"
   ]
  },
  {
   "cell_type": "code",
   "execution_count": 34,
   "id": "91b43012-377c-4a8e-8fd2-f6caee563b26",
   "metadata": {},
   "outputs": [
    {
     "name": "stdout",
     "output_type": "stream",
     "text": [
      "Write a datetime string that matches the \n",
      "            following pattern: \"%Y-%m-%dT%H:%M:%S.%fZ\". Examples: 1613-08-10T12:28:20.965508Z, 1459-04-02T06:55:17.548813Z, 1507-03-16T00:24:38.003098Z\n"
     ]
    }
   ],
   "source": [
    "print(date_output_parser.get_format_instructions())"
   ]
  },
  {
   "cell_type": "code",
   "execution_count": 35,
   "id": "38600e5f-04cf-471e-b315-149a4682ecaa",
   "metadata": {},
   "outputs": [
    {
     "name": "stdout",
     "output_type": "stream",
     "text": [
      "1905-12-16T00:00:00.000000Z\n"
     ]
    }
   ],
   "source": [
    "response = AskGeminiAI([message_h])\n",
    "print(response)"
   ]
  },
  {
   "cell_type": "code",
   "execution_count": 36,
   "id": "5e7d6de7-3eb0-41b5-9d2f-6a22e2ba3536",
   "metadata": {},
   "outputs": [],
   "source": [
    "date_output_parser = DatetimeOutputParser()"
   ]
  },
  {
   "cell_type": "code",
   "execution_count": null,
   "id": "0caa4297-065b-4a05-af27-5b75cb231584",
   "metadata": {},
   "outputs": [
    {
     "data": {
      "text/plain": [
       "datetime.datetime(1905, 12, 16, 0, 0)"
      ]
     },
     "execution_count": 37,
     "metadata": {},
     "output_type": "execute_result"
    }
   ],
   "source": [
    "response_parsed = date_output_parser.invoke(response)\n",
    "\n",
    "response_parsed"
   ]
  },
  {
   "cell_type": "code",
   "execution_count": null,
   "id": "71039c5e-c6b8-4341-b46a-74cb13c1cda8",
   "metadata": {},
   "outputs": [],
   "source": []
  }
 ],
 "metadata": {
  "kernelspec": {
   "display_name": "Python (llms_course_env)",
   "language": "python",
   "name": "llms_course_env"
  },
  "language_info": {
   "codemirror_mode": {
    "name": "ipython",
    "version": 3
   },
   "file_extension": ".py",
   "mimetype": "text/x-python",
   "name": "python",
   "nbconvert_exporter": "python",
   "pygments_lexer": "ipython3",
   "version": "3.11.13"
  }
 },
 "nbformat": 4,
 "nbformat_minor": 5
}
