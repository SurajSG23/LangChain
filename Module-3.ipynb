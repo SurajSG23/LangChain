{
 "cells": [
  {
   "cell_type": "markdown",
   "id": "8e5b1fc8-e6fe-469d-92da-508eaf7c33fc",
   "metadata": {},
   "source": [
    "## String output parser"
   ]
  },
  {
   "cell_type": "code",
   "execution_count": 1,
   "id": "c3ca21d8-dd14-48ae-9717-3d481265cb84",
   "metadata": {},
   "outputs": [
    {
     "name": "stderr",
     "output_type": "stream",
     "text": [
      "D:\\AI-ML\\LLM\\llms_course_env\\Lib\\site-packages\\transformers\\utils\\hub.py:128: FutureWarning: Using `TRANSFORMERS_CACHE` is deprecated and will be removed in v5 of Transformers. Use `HF_HOME` instead.\n",
      "  warnings.warn(\n"
     ]
    }
   ],
   "source": [
    "from langchain_google_genai import ChatGoogleGenerativeAI\n",
    "from langchain_core.messages import HumanMessage\n",
    "from langchain_core.output_parsers import StrOutputParser\n",
    "import config"
   ]
  },
  {
   "cell_type": "code",
   "execution_count": 2,
   "id": "0a3f01d1-4db2-46ca-9944-2e4f1abefdd9",
   "metadata": {},
   "outputs": [],
   "source": [
    "def AskGeminiAI(question):\n",
    "    llm = ChatGoogleGenerativeAI(\n",
    "        model=\"gemini-2.0-flash\",\n",
    "        google_api_key=config.gemini_api_key,\n",
    "        temperature=0.7,\n",
    "        max_tokens=250,\n",
    "        model_kwargs={\"seed\": 42}\n",
    "    )\n",
    "    response = llm.invoke(question)\n",
    "    return response.content"
   ]
  },
  {
   "cell_type": "code",
   "execution_count": 3,
   "id": "976fe9f9-695a-4c50-b967-bc668b767ac5",
   "metadata": {},
   "outputs": [],
   "source": [
    "message_h = HumanMessage(content = \"Can you give me an interesting fact I probably didn't know about?\")"
   ]
  },
  {
   "cell_type": "code",
   "execution_count": 4,
   "id": "0ff404ec-fcb6-4df2-b4f4-d9a65e8d98bb",
   "metadata": {},
   "outputs": [
    {
     "name": "stdout",
     "output_type": "stream",
     "text": [
      "Here's an interesting fact you probably didn't know:\n",
      "\n",
      "**The \"Smell of Rain\" (Petrichor) is partially caused by bacteria.**\n",
      "\n",
      "Specifically, when rain falls on dry soil, it releases a scent called \"petrichor.\" While plant oils and other factors contribute, a significant component comes from *Actinobacteria* living in the soil. These bacteria produce a compound called geosmin, which is released into the air when raindrops impact the ground. Geosmin is incredibly potent, and humans can detect it at extremely low concentrations, giving us that familiar and pleasant \"earthy\" smell after a rain.\n"
     ]
    }
   ],
   "source": [
    "response = AskGeminiAI([message_h])\n",
    "print(response)"
   ]
  },
  {
   "cell_type": "code",
   "execution_count": 5,
   "id": "87e090c2-ba9e-47da-8909-43906afb1d5a",
   "metadata": {},
   "outputs": [],
   "source": [
    "str_output_parser = StrOutputParser()"
   ]
  },
  {
   "cell_type": "code",
   "execution_count": 6,
   "id": "925038c0-9098-432d-8f0f-cbe42672ebfb",
   "metadata": {},
   "outputs": [
    {
     "data": {
      "text/plain": [
       "'Here\\'s an interesting fact you probably didn\\'t know:\\n\\n**The \"Smell of Rain\" (Petrichor) is partially caused by bacteria.**\\n\\nSpecifically, when rain falls on dry soil, it releases a scent called \"petrichor.\" While plant oils and other factors contribute, a significant component comes from *Actinobacteria* living in the soil. These bacteria produce a compound called geosmin, which is released into the air when raindrops impact the ground. Geosmin is incredibly potent, and humans can detect it at extremely low concentrations, giving us that familiar and pleasant \"earthy\" smell after a rain.'"
      ]
     },
     "execution_count": 6,
     "metadata": {},
     "output_type": "execute_result"
    }
   ],
   "source": [
    "response_parsed = str_output_parser.invoke(response)\n",
    "response_parsed"
   ]
  },
  {
   "cell_type": "code",
   "execution_count": null,
   "id": "d7e5b7e7-8932-4fea-9924-11e14ef6313a",
   "metadata": {},
   "outputs": [],
   "source": []
  }
 ],
 "metadata": {
  "kernelspec": {
   "display_name": "Python (llms_course_env)",
   "language": "python",
   "name": "llms_course_env"
  },
  "language_info": {
   "codemirror_mode": {
    "name": "ipython",
    "version": 3
   },
   "file_extension": ".py",
   "mimetype": "text/x-python",
   "name": "python",
   "nbconvert_exporter": "python",
   "pygments_lexer": "ipython3",
   "version": "3.11.13"
  }
 },
 "nbformat": 4,
 "nbformat_minor": 5
}
