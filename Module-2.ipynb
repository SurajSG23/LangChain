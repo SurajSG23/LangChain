{
 "cells": [
  {
   "cell_type": "code",
   "execution_count": 1,
   "id": "40a26b05-c3d5-46ed-9aaf-f0a31b76e7fb",
   "metadata": {},
   "outputs": [
    {
     "name": "stderr",
     "output_type": "stream",
     "text": [
      "D:\\AI-ML\\LLM\\llms_course_env\\Lib\\site-packages\\transformers\\utils\\hub.py:128: FutureWarning: Using `TRANSFORMERS_CACHE` is deprecated and will be removed in v5 of Transformers. Use `HF_HOME` instead.\n",
      "  warnings.warn(\n"
     ]
    }
   ],
   "source": [
    "from langchain_google_genai import ChatGoogleGenerativeAI\n",
    "import config"
   ]
  },
  {
   "cell_type": "code",
   "execution_count": 2,
   "id": "e436e152-27d8-456c-92c9-c1ce5b894c8e",
   "metadata": {},
   "outputs": [],
   "source": [
    "def AskGeminiAI(question) -> str :\n",
    "    llm = ChatGoogleGenerativeAI(\n",
    "        model=\"gemini-2.0-flash\",\n",
    "        google_api_key=config.gemini_api_key,\n",
    "        temperature=0.7,\n",
    "        max_tokens=250,\n",
    "        model_kwargs={\"seed\": 42}\n",
    "    )\n",
    "    response = llm.invoke(question)\n",
    "    return response.content\n"
   ]
  },
  {
   "cell_type": "code",
   "execution_count": 3,
   "id": "e66289df-5a3a-4048-a8ee-7d2fc2f940e0",
   "metadata": {},
   "outputs": [
    {
     "name": "stdout",
     "output_type": "stream",
     "text": [
      "Tom Cruise is a highly successful and globally recognized American actor and producer. Here's a summary of who he is:\n",
      "\n",
      "*   **Actor:** He's starred in numerous blockbuster films across various genres, including action, drama, and science fiction. Some of his most famous movies include the \"Mission: Impossible\" series, \"Top Gun,\" \"Jerry Maguire,\" \"Rain Man,\" \"A Few Good Men,\" and \"War of the Worlds.\"\n",
      "\n",
      "*   **Producer:** Cruise has also produced many of the films he's starred in, giving him significant creative control over his projects.\n",
      "\n",
      "*   **Known for:**\n",
      "    *   Performing his own stunts, often very dangerous ones.\n",
      "    *   His dedication to filmmaking and entertaining audiences.\n",
      "    *   His involvement in the Church of Scientology.\n",
      "\n",
      "*   **Career Highlights:** He's been nominated for several Academy Awards and has won multiple Golden Globe Awards. He's consistently been one of the highest-paid actors in the world.\n",
      "\n",
      "In short, Tom Cruise is a major figure in Hollywood, known for his on-screen charisma, action-packed performances, and dedication to his craft.\n"
     ]
    }
   ],
   "source": [
    "print(AskGeminiAI('''Who is Tom Cruise?'''))"
   ]
  },
  {
   "cell_type": "raw",
   "id": "07e33138-9b38-4693-91a1-dbeb2e7b9768",
   "metadata": {},
   "source": []
  }
 ],
 "metadata": {
  "kernelspec": {
   "display_name": "Python (llms_course_env)",
   "language": "python",
   "name": "llms_course_env"
  },
  "language_info": {
   "codemirror_mode": {
    "name": "ipython",
    "version": 3
   },
   "file_extension": ".py",
   "mimetype": "text/x-python",
   "name": "python",
   "nbconvert_exporter": "python",
   "pygments_lexer": "ipython3",
   "version": "3.11.13"
  }
 },
 "nbformat": 4,
 "nbformat_minor": 5
}
