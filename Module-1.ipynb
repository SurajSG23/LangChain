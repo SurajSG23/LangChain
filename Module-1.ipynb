{
 "cells": [
  {
   "cell_type": "markdown",
   "id": "f67efe04-0d27-4710-a3c0-a405cd80c46d",
   "metadata": {},
   "source": [
    "### Setting the API Key as an Environment Variable"
   ]
  },
  {
   "cell_type": "code",
   "execution_count": null,
   "id": "430ae9c4-871d-48e6-80fa-6def9d44f6dc",
   "metadata": {},
   "outputs": [],
   "source": [
    "%load_ext dotenv"
   ]
  },
  {
   "cell_type": "markdown",
   "id": "94419216",
   "metadata": {},
   "source": [
    "Use the **dotenv** command to read the key-value pair stored in the text file and set it as an environment variable. "
   ]
  },
  {
   "cell_type": "code",
   "execution_count": null,
   "id": "e813cb6e-7a62-48ae-8296-652c60272488",
   "metadata": {},
   "outputs": [],
   "source": [
    "%dotenv"
   ]
  },
  {
   "cell_type": "markdown",
   "id": "3d4f367a-9686-4814-9f3c-7e8d3b3db069",
   "metadata": {},
   "source": [
    "### Creating a Sarcastic Chatbot"
   ]
  },
  {
   "cell_type": "code",
   "execution_count": null,
   "id": "be637f60-6678-43c1-96bd-3e9999807ead",
   "metadata": {},
   "outputs": [],
   "source": [
    "%load_ext dotenv\n",
    "%dotenv"
   ]
  },
  {
   "cell_type": "code",
   "execution_count": null,
   "id": "79cbc2c5-97ff-4386-a3fd-d20ef3ed8ce0",
   "metadata": {},
   "outputs": [],
   "source": [
    "import os\n",
    "import openai\n",
    "\n",
    "openai.api_key = os.getenv('OPENAI_API_KEY')\n",
    "\n",
    "client = openai.OpenAI()"
   ]
  },
  {
   "cell_type": "code",
   "execution_count": null,
   "id": "b447d9ce-12bc-41c3-8fc6-d0a7ec3d99b8",
   "metadata": {},
   "outputs": [],
   "source": [
    "completion = client.chat.completions.create(model = 'gpt-4', \n",
    "                                            messages = [{'role':'system', \n",
    "                                                         'content':''' You are Emma, a chatbot that reluctantly \n",
    "                                                         answers questions with sarcastic responses. '''}, \n",
    "                                                        {'role':'user', \n",
    "                                                         'content':''' I've recently adopted a dog. \n",
    "                                                         Could you suggest some dog names? '''}], \n",
    "                                            max_tokens = 250, \n",
    "                                            temperature = 0, \n",
    "                                            seed = 365, \n",
    "                                            stream = True)\n",
    "print(completion.choices[0].message.content)"
   ]
  },
  {
   "cell_type": "markdown",
   "id": "8dbbc73c-138e-481f-8996-4d1dc5ddcf8e",
   "metadata": {},
   "source": [
    "The key to the first pair is ‘role,’ which can be mapped to one of the following values: ‘system,’ ‘user,’ ‘assistant,’ and ‘tool.’"
   ]
  },
  {
   "cell_type": "code",
   "execution_count": null,
   "id": "1cd132f4-75dc-4b22-aaf6-4a419a567739",
   "metadata": {},
   "outputs": [],
   "source": [
    "for i in completion:\n",
    "    print(i.choices[0].delta.content, end = \"\")"
   ]
  }
 ],
 "metadata": {
  "kernelspec": {
   "display_name": "Python 3 (Latest)",
   "language": "python",
   "name": "python3"
  },
  "language_info": {
   "codemirror_mode": {
    "name": "ipython",
    "version": 3
   },
   "file_extension": ".py",
   "mimetype": "text/x-python",
   "name": "python",
   "nbconvert_exporter": "python",
   "pygments_lexer": "ipython3",
   "version": "3.12.6"
  }
 },
 "nbformat": 4,
 "nbformat_minor": 5
}
