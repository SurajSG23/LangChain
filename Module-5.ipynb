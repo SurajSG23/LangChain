{
 "cells": [
  {
   "cell_type": "markdown",
   "id": "af500097-2b80-454f-8df1-73b06373e170",
   "metadata": {},
   "source": [
    "#  RAG - Retrieval-Augmented Generation\n",
    "\n",
    "### 1. Document Loading\n",
    "\n",
    "* Use **Document Loaders** in LangChain.\n",
    "* Examples: `PyPDFLoader`, `TextLoader`, `UnstructuredFileLoader`.\n",
    "* Purpose: Bring external data (PDFs, text files, web pages) into LangChain.\n",
    "\n",
    "---\n",
    "\n",
    "### 2. Document Splitting\n",
    "\n",
    "* Use **Text Splitters** like `CharacterTextSplitter` or `RecursiveCharacterTextSplitter`.\n",
    "* Purpose: Break large documents into **small chunks** (e.g., 500–1000 tokens).\n",
    "* Why: LLMs work better on smaller pieces of text.\n",
    "\n",
    "---\n",
    "\n",
    "### 3. Document Embedding\n",
    "\n",
    "* Use **Embeddings models** (e.g., `OpenAIEmbeddings`, `HuggingFaceEmbeddings`).\n",
    "* Each chunk → vector (list of numbers).\n",
    "* **Cosine Similarity** is used to measure how close two vectors (chunks) are.\n",
    "\n",
    "  * Example: Question vector vs stored chunk vectors → find the most similar ones.\n",
    "\n",
    "---\n",
    "\n",
    "### 4. Document Storing\n",
    "\n",
    "* Store embeddings in a **Vector Store** (like FAISS, Chroma, Pinecone).\n",
    "* Purpose: Efficient search & retrieval of similar chunks later.\n",
    "\n",
    "---\n",
    "\n",
    "### 5. Retrieval + Generation (RAG)\n",
    "\n",
    "* When user asks a question:\n",
    "\n",
    "  * Convert question → embedding.\n",
    "  * Retrieve top-k **relevant and diverse** chunks from Vector Store (using cosine similarity).\n",
    "  * Send question + retrieved context to LLM via a **RetrievalQA chain**.\n",
    "  * LLM generates the final answer.\n",
    "\n",
    "---\n",
    "\n",
    "So in LangChain terms:\n",
    "**Loader → Splitter → Embeddings → Vector Store → RetrievalQA Chain**\n",
    "\n",
    "---"
   ]
  },
  {
   "cell_type": "code",
   "execution_count": null,
   "id": "305b9db2-a4a0-4f92-8a46-4bd6fd484ea4",
   "metadata": {},
   "outputs": [],
   "source": []
  }
 ],
 "metadata": {
  "kernelspec": {
   "display_name": "Python (llms_course_env)",
   "language": "python",
   "name": "llms_course_env"
  },
  "language_info": {
   "codemirror_mode": {
    "name": "ipython",
    "version": 3
   },
   "file_extension": ".py",
   "mimetype": "text/x-python",
   "name": "python",
   "nbconvert_exporter": "python",
   "pygments_lexer": "ipython3",
   "version": "3.11.13"
  }
 },
 "nbformat": 4,
 "nbformat_minor": 5
}
