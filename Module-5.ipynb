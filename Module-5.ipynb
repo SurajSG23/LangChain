{
 "cells": [
  {
   "cell_type": "markdown",
   "id": "af500097-2b80-454f-8df1-73b06373e170",
   "metadata": {},
   "source": [
    "#  RAG - Retrieval-Augmented Generation\n",
    "\n",
    "### 1. Document Loading\n",
    "\n",
    "* Use **Document Loaders** in LangChain.\n",
    "* Examples: `PyPDFLoader`, `TextLoader`, `UnstructuredFileLoader`.\n",
    "* Purpose: Bring external data (PDFs, text files, web pages) into LangChain.\n",
    "\n",
    "---\n",
    "\n",
    "### 2. Document Splitting\n",
    "\n",
    "* Use **Text Splitters** like `CharacterTextSplitter` or `RecursiveCharacterTextSplitter`.\n",
    "* Purpose: Break large documents into **small chunks** (e.g., 500–1000 tokens).\n",
    "* Why: LLMs work better on smaller pieces of text.\n",
    "\n",
    "---\n",
    "\n",
    "### 3. Document Embedding\n",
    "\n",
    "* Use **Embeddings models** (e.g., `OpenAIEmbeddings`, `HuggingFaceEmbeddings`).\n",
    "* Each chunk → vector (list of numbers).\n",
    "* **Cosine Similarity** is used to measure how close two vectors (chunks) are.\n",
    "\n",
    "  * Example: Question vector vs stored chunk vectors → find the most similar ones.\n",
    "\n",
    "---\n",
    "\n",
    "### 4. Document Storing\n",
    "\n",
    "* Store embeddings in a **Vector Store** (like FAISS, Chroma, Pinecone).\n",
    "* Purpose: Efficient search & retrieval of similar chunks later.\n",
    "\n",
    "---\n",
    "\n",
    "### 5. Retrieval + Generation (RAG)\n",
    "\n",
    "* When user asks a question:\n",
    "\n",
    "  * Convert question → embedding.\n",
    "  * Retrieve top-k **relevant and diverse** chunks from Vector Store (using cosine similarity).\n",
    "  * Send question + retrieved context to LLM via a **RetrievalQA chain**.\n",
    "  * LLM generates the final answer.\n",
    "\n",
    "---\n",
    "\n",
    "So in LangChain terms:\n",
    "**Loader → Splitter → Embeddings → Vector Store → RetrievalQA Chain**\n",
    "\n",
    "---"
   ]
  },
  {
   "cell_type": "markdown",
   "id": "204c83a1-c4c0-4240-b80d-e5f71e17af56",
   "metadata": {},
   "source": [
    "# Indexing: Document Loading with PyPDF Loader"
   ]
  },
  {
   "cell_type": "code",
   "execution_count": 45,
   "id": "d92e4305-2f28-4577-9fca-f51fb6d26a0f",
   "metadata": {},
   "outputs": [],
   "source": [
    "from langchain_community.document_loaders import PyPDFLoader, Docx2txtLoader\n",
    "from langchain_text_splitters.character import CharacterTextSplitter\n",
    "from langchain_text_splitters.markdown import MarkdownHeaderTextSplitter\n",
    "import copy"
   ]
  },
  {
   "cell_type": "code",
   "execution_count": 6,
   "id": "6511aa98-4bd0-4ee9-8027-82b7f21358c6",
   "metadata": {},
   "outputs": [
    {
     "data": {
      "text/plain": [
       "[Document(metadata={'producer': 'Microsoft® Word for Microsoft 365', 'creator': 'Microsoft® Word for Microsoft 365', 'creationdate': '2023-11-09T10:16:34+02:00', 'author': 'Hristina  Hristova', 'moddate': '2023-11-09T10:16:34+02:00', 'source': 'D:\\\\AI-ML\\\\Langchain\\\\Files\\\\Introduction_to_Data_and_Data_Science.pdf', 'total_pages': 6, 'page': 0, 'page_label': '1'}, page_content='Analysis vs Analytics \\nAlright! So… \\nLet’s discuss the not-so-obvious differences \\nbetween the terms analysis and analytics. \\nDue to the similarity of the words, some people \\nbelieve they share the same meaning, and thus \\nuse them interchangeably. Technically, this \\nisn’t correct. There is, in fact, a distinct \\ndifference between the two. And the reason \\nfor one often being used instead of the other \\nis the lack of a transparent understanding \\nof both. \\nSo, let’s clear this up, shall we? \\nFirst, we will start with analysis. \\nConsider the following… \\nYou have a huge dataset containing data of \\nvarious types. Instead of tackling the entire \\ndataset and running the risk of becoming overwhelmed, \\nyou separate it into easier to digest chunks \\nand study them individually and examine how \\nthey relate to other parts. And that’s analysis \\nin a nutshell. \\nOne important thing to remember, however, \\nis that you perform analyses on things that \\nhave already happened in the past. Such as \\nusing an analysis to explain how a story ended \\nthe way it did or how there was a decrease \\nin sales last summer. \\nAll this means that we do analyses to explain \\nhow and/or why something happened. \\nGreat! \\nNow, this leads us nicely on to the definition \\nof analytics. \\nAs you have probably guessed, analytics generally \\nrefers to the future. Instead of explaining \\npast events it explores potential future ones. \\nAnalytics is essentially the application of \\nlogical and computational reasoning to the \\ncomponent parts obtained in an analysis. And \\nin doing this you are looking for patterns'),\n",
       " Document(metadata={'producer': 'Microsoft® Word for Microsoft 365', 'creator': 'Microsoft® Word for Microsoft 365', 'creationdate': '2023-11-09T10:16:34+02:00', 'author': 'Hristina  Hristova', 'moddate': '2023-11-09T10:16:34+02:00', 'source': 'D:\\\\AI-ML\\\\Langchain\\\\Files\\\\Introduction_to_Data_and_Data_Science.pdf', 'total_pages': 6, 'page': 1, 'page_label': '2'}, page_content=\"and exploring what you could do with them \\nin the future. \\nHere, analytics branches off into two areas: \\nqualitative analytics – this is using your \\nintuition and experience in conjunction with \\nthe analysis to plan your next business move. \\nAnd quantitative analytics – this is applying \\nformulas and algorithms to numbers you have \\ngathered from your analysis. \\nHere are a couple of examples. \\nSay, you are an owner of an online clothing \\nstore. You are ahead of the competition and \\nhave a great understanding of what your customer's \\nneeds and wants are. You’ve performed a \\nvery detailed analysis from women’s clothing \\narticles and feel sure about which fashion \\ntrends to follow. You may use this intuition \\nto decide on which styles of clothing to start \\nselling. This would be qualitative analytics. \\nBut you might not know when to introduce the \\nnew collection. In that case, relying on past \\nsales data and user experience data, you could \\npredict in which month it would be best to \\ndo that. This is an example of using quantitative \\nanalytics. \\nFantastic! \\nTo backtrack a little, you can combine these \\nareas with analyses also – you could perform \\nqualitative analysis – to explain how or \\nwhy a story ended the way it did. And you \\ncan perform quantitative analysis – working \\nwith past data to explain how sales decreased \\nlast summer. \\nPerfect! \\nNow that we have cleared up the differences \\nbetween analysis and analytics it shouldn’t \\nbe too difficult to see how terms such as \\n‘data analysis’, ‘data analytics’, \\n‘business analysis’ and ‘business analytics’ \\ncan have their unique meanings too. \\nMore of this will be explained in the next \\nvideo which aims to simplify these, as well\"),\n",
       " Document(metadata={'producer': 'Microsoft® Word for Microsoft 365', 'creator': 'Microsoft® Word for Microsoft 365', 'creationdate': '2023-11-09T10:16:34+02:00', 'author': 'Hristina  Hristova', 'moddate': '2023-11-09T10:16:34+02:00', 'source': 'D:\\\\AI-ML\\\\Langchain\\\\Files\\\\Introduction_to_Data_and_Data_Science.pdf', 'total_pages': 6, 'page': 2, 'page_label': '3'}, page_content='as many more with a fantastic diagram. So, \\nlet’s move on! \\nProgramming Languages & Software Employed in Data Science - All the Tools You \\nNeed \\nAlright! So… \\nHow are the techniques used in data, business \\nintelligence, or predictive analytics applied \\nin real life? \\nCertainly, with the help of computers. \\nYou can basically split the relevant tools \\ninto two categories—programming languages \\nand software. \\nKnowing a programming language enables you \\nto devise programs that can execute specific \\noperations. Moreover, you can reuse these \\nprograms whenever you need to execute the \\nsame action. \\nAs you can see from the infographic, R, and \\nPython are the two most popular tools across \\nall columns. Their biggest advantage is that \\nthey can manipulate data and are integrated \\nwithin multiple data and data science software \\nplatforms. They are not just suitable for \\nmathematical and statistical computations. \\nIn other words, R, and Python are adaptable. \\nThey can solve a wide variety of business \\nand data-related problems from beginning to \\nthe end. \\nOf course, R, and Python do have their limitations. \\nThey are not able to address problems specific \\nto some domains. One example is ‘relational \\ndatabase management systems’—there, SQL \\nis king. It was specifically created for that \\npurpose. SQL is at its most advantageous when \\nworking with traditional, historical data. \\nWhen preparing your BI analysis, for instance, \\nyou will surely employ it. \\nOkay. \\nWhen it comes to data science, mentioning'),\n",
       " Document(metadata={'producer': 'Microsoft® Word for Microsoft 365', 'creator': 'Microsoft® Word for Microsoft 365', 'creationdate': '2023-11-09T10:16:34+02:00', 'author': 'Hristina  Hristova', 'moddate': '2023-11-09T10:16:34+02:00', 'source': 'D:\\\\AI-ML\\\\Langchain\\\\Files\\\\Introduction_to_Data_and_Data_Science.pdf', 'total_pages': 6, 'page': 3, 'page_label': '4'}, page_content='MATLAB is inevitable. It is ideal for working \\nwith mathematical functions or matrix manipulations. \\nThat’s why it is present in all categories \\nexcept for ‘big data’. While respectable, \\nMATLAB usage is a paid service, and that’s \\none of the reasons why it is losing ground \\nto open-source languages like R and Python. \\nEither way, R, Python, and MATLAB, combined \\nwith SQL, cover most of the tools used when \\nworking with traditional data, BI, and conventional \\ndata science. \\nWhat about big data? \\nApart from R and Python, people working in \\nthis area are often proficient in other languages \\nlike Java or Scala. These two have not been \\ndeveloped specifically for doing statistical \\nanalyses, however they turn out to be very \\nuseful when combining data from multiple sources. \\nAll right! Let’s finish off with machine \\nlearning. \\nWhen it comes to machine learning, we often \\ndeal with big data. Thus, we need a lot of \\ncomputational power, and we can expect people \\nto use the languages similar to those in the \\nbig data column. Apart from R, Python, and \\nMATLAB, other, faster languages are used like \\nJava, JavaScript, C, C++, and Scala. \\nCool. \\nWhat we said may be wonderful, but that’s \\nnot all! \\nBy using one or more programming languages, \\npeople create application software or, as \\nthey are sometimes called, software solutions, \\nthat are adjusted for specific business needs. \\nTheir smaller scope does not make them less \\nuseful, in fact, just the opposite—they \\nare a lot easier to learn and be adopted by \\nothers. You have already heard of several \\nof those. \\nBecause of its ability to do relatively complex \\ncomputations and good visualizations quickly, \\nExcel is a tool applicable to more than one'),\n",
       " Document(metadata={'producer': 'Microsoft® Word for Microsoft 365', 'creator': 'Microsoft® Word for Microsoft 365', 'creationdate': '2023-11-09T10:16:34+02:00', 'author': 'Hristina  Hristova', 'moddate': '2023-11-09T10:16:34+02:00', 'source': 'D:\\\\AI-ML\\\\Langchain\\\\Files\\\\Introduction_to_Data_and_Data_Science.pdf', 'total_pages': 6, 'page': 4, 'page_label': '5'}, page_content='category—traditional data, BI, and Data \\nScience. Similarly, SPSS is a very famous \\ntool for working with traditional data and \\napplying statistical analysis. \\nAmong the many applications we have plotted, \\nwe can say there is an increasing amount of \\nsoftware designed for working with big data \\nsuch as Apache Hadoop, Apache Hbase, and Mongo \\nDB. \\nIn terms of big data, Hadoop is the name that \\nmust stick with you. Hadoop is listed as a \\nsoftware in the sense that it is a collection \\nof programs, but don’t imagine it as a nice-looking \\napplication. It’s actually a software framework \\nwhich was designed to address the complexity \\nof big data and its computational intensity. \\nMost notably, Hadoop distributes the computational \\ntasks on multiple computers which is basically \\nthe way to handle big data nowadays. \\nPower BI, SaS, Qlik, and especially Tableau \\nare top-notch examples of software designed \\nfor business intelligence visualizations. \\nIn terms of predictive analytics, EViews is \\nmostly used for working with econometric time-series \\nmodels, and Stata—for academic statistical \\nand econometric research, where techniques \\nlike regression, cluster, and factor analysis \\nare constantly applied. \\nAs a final note, remember the following. \\nShould you have the relevant business and \\ntheoretical knowledge, learning a software \\ntool is relatively easy as opposed to learning \\na programming language. More importantly, \\nit will be sufficient for your need to create \\nquick and accurate analyses. \\nHowever, if your theoretical preparation is \\nstrong enough, you will find yourself restricted \\nby software. Knowing a programming language \\nsuch as R and Python, gives you the freedom \\nto create specific, ad-hoc tools for each \\nproject you are working on. \\nGreat!'),\n",
       " Document(metadata={'producer': 'Microsoft® Word for Microsoft 365', 'creator': 'Microsoft® Word for Microsoft 365', 'creationdate': '2023-11-09T10:16:34+02:00', 'author': 'Hristina  Hristova', 'moddate': '2023-11-09T10:16:34+02:00', 'source': 'D:\\\\AI-ML\\\\Langchain\\\\Files\\\\Introduction_to_Data_and_Data_Science.pdf', 'total_pages': 6, 'page': 5, 'page_label': '6'}, page_content='We hope we gave you a good idea about the \\nlevel of applicability of the most frequently \\nused programming and software tools in the \\nfield of data science. \\nThank you for watching!')]"
      ]
     },
     "execution_count": 6,
     "metadata": {},
     "output_type": "execute_result"
    }
   ],
   "source": [
    "loader_pdf = PyPDFLoader(r\"D:\\AI-ML\\Langchain\\Files\\Introduction_to_Data_and_Data_Science.pdf\")\n",
    "\n",
    "pages_pdf = loader_pdf.load()\n",
    "\n",
    "pages_pdf"
   ]
  },
  {
   "cell_type": "code",
   "execution_count": 7,
   "id": "2829a0ed-f13e-457a-8b3c-1defe050bb00",
   "metadata": {},
   "outputs": [],
   "source": [
    "pages_pdf_cut = copy.deepcopy(pages_pdf)"
   ]
  },
  {
   "cell_type": "markdown",
   "id": "0f8a641c-5926-453a-a9bf-2aa2c7628804",
   "metadata": {},
   "source": [
    "### 1. `copy.deepcopy()`\n",
    "\n",
    "* Comes from Python’s built-in `copy` module.\n",
    "* `deepcopy()` creates a **new independent copy** of the object *and all objects inside it*.\n",
    "* This means changes in the copy will **not affect** the original.\n",
    "\n",
    "---\n",
    "\n",
    "### 2. Why use `deepcopy` here?\n",
    "\n",
    "* If you just did:\n",
    "\n",
    "  ```python\n",
    "  pages_pdf_cut = pages_pdf\n",
    "  ```\n",
    "\n",
    "  → Both variables point to the **same object** in memory. Editing one edits the other.\n",
    "\n",
    "* With `deepcopy`:\n",
    "\n",
    "  ```python\n",
    "  pages_pdf_cut = copy.deepcopy(pages_pdf)\n",
    "  ```\n",
    "\n",
    "  → `pages_pdf_cut` is a **completely separate clone**. You can modify it (cut pages, clean text, etc.) without touching `pages_pdf`.\n",
    "\n",
    "---\n",
    "\n",
    "In short:\n",
    "This line makes a **full independent duplicate** of `pages_pdf`, so you can safely work on `pages_pdf_cut` without messing up the original data.\n"
   ]
  },
  {
   "cell_type": "code",
   "execution_count": 10,
   "id": "a84327a1-aea8-489b-aa9c-04a830881ba7",
   "metadata": {},
   "outputs": [],
   "source": [
    "for i in pages_pdf_cut:\n",
    "    i.page_content = ' '.join(i.page_content.split()) # Removes \\n"
   ]
  },
  {
   "cell_type": "code",
   "execution_count": 11,
   "id": "1b790cf6-7bac-41b8-a6de-2fdd47ef55dc",
   "metadata": {},
   "outputs": [
    {
     "data": {
      "text/plain": [
       "('Analysis vs Analytics \\nAlright! So… \\nLet’s discuss the not-so-obvious differences \\nbetween the terms analysis and analytics. \\nDue to the similarity of the words, some people \\nbelieve they share the same meaning, and thus \\nuse them interchangeably. Technically, this \\nisn’t correct. There is, in fact, a distinct \\ndifference between the two. And the reason \\nfor one often being used instead of the other \\nis the lack of a transparent understanding \\nof both. \\nSo, let’s clear this up, shall we? \\nFirst, we will start with analysis. \\nConsider the following… \\nYou have a huge dataset containing data of \\nvarious types. Instead of tackling the entire \\ndataset and running the risk of becoming overwhelmed, \\nyou separate it into easier to digest chunks \\nand study them individually and examine how \\nthey relate to other parts. And that’s analysis \\nin a nutshell. \\nOne important thing to remember, however, \\nis that you perform analyses on things that \\nhave already happened in the past. Such as \\nusing an analysis to explain how a story ended \\nthe way it did or how there was a decrease \\nin sales last summer. \\nAll this means that we do analyses to explain \\nhow and/or why something happened. \\nGreat! \\nNow, this leads us nicely on to the definition \\nof analytics. \\nAs you have probably guessed, analytics generally \\nrefers to the future. Instead of explaining \\npast events it explores potential future ones. \\nAnalytics is essentially the application of \\nlogical and computational reasoning to the \\ncomponent parts obtained in an analysis. And \\nin doing this you are looking for patterns',\n",
       " 'Analysis vs Analytics Alright! So… Let’s discuss the not-so-obvious differences between the terms analysis and analytics. Due to the similarity of the words, some people believe they share the same meaning, and thus use them interchangeably. Technically, this isn’t correct. There is, in fact, a distinct difference between the two. And the reason for one often being used instead of the other is the lack of a transparent understanding of both. So, let’s clear this up, shall we? First, we will start with analysis. Consider the following… You have a huge dataset containing data of various types. Instead of tackling the entire dataset and running the risk of becoming overwhelmed, you separate it into easier to digest chunks and study them individually and examine how they relate to other parts. And that’s analysis in a nutshell. One important thing to remember, however, is that you perform analyses on things that have already happened in the past. Such as using an analysis to explain how a story ended the way it did or how there was a decrease in sales last summer. All this means that we do analyses to explain how and/or why something happened. Great! Now, this leads us nicely on to the definition of analytics. As you have probably guessed, analytics generally refers to the future. Instead of explaining past events it explores potential future ones. Analytics is essentially the application of logical and computational reasoning to the component parts obtained in an analysis. And in doing this you are looking for patterns')"
      ]
     },
     "execution_count": 11,
     "metadata": {},
     "output_type": "execute_result"
    }
   ],
   "source": [
    "pages_pdf[0].page_content, pages_pdf_cut[0].page_content"
   ]
  },
  {
   "cell_type": "markdown",
   "id": "45a9cf60-070d-46f7-a41d-0f5e334b3cd5",
   "metadata": {},
   "source": [
    "# Indexing: Document loading with Docx2txtLoader"
   ]
  },
  {
   "cell_type": "markdown",
   "id": "2ca0975a-d9c2-4837-84f4-2f874f0ebe1b",
   "metadata": {},
   "source": [
    "* PDF loader: granular, page-by-page, rich metadata.\n",
    "* DOCX loader: all-in-one chunk, minimal metadata."
   ]
  },
  {
   "cell_type": "code",
   "execution_count": 52,
   "id": "a4ee54d9-81a5-44f9-a0f4-730523c34b8d",
   "metadata": {},
   "outputs": [
    {
     "data": {
      "text/plain": [
       "[Document(metadata={'source': 'D:\\\\AI-ML\\\\Langchain\\\\Files\\\\Introduction_to_Data_and_Data_Science.docx'}, page_content=\"Analysis vs Analytics\\n\\nAlright! So…\\nLet’s discuss the not-so-obvious differences\\nbetween the terms analysis and analytics.\\nDue to the similarity of the words, some people\\nbelieve they share the same meaning, and thus\\nuse them interchangeably. Technically, this\\nisn’t correct. There is, in fact, a distinct\\ndifference between the two. And the reason\\nfor one often being used instead of the other\\nis the lack of a transparent understanding\\nof both.\\nSo, let’s clear this up, shall we?\\nFirst, we will start with analysis.\\nConsider the following…\\nYou have a huge dataset containing data of\\nvarious types. Instead of tackling the entire\\ndataset and running the risk of becoming overwhelmed,\\nyou separate it into easier to digest chunks\\nand study them individually and examine how\\nthey relate to other parts. And that’s analysis\\nin a nutshell.\\nOne important thing to remember, however,\\nis that you perform analyses on things that\\nhave already happened in the past. Such as\\nusing an analysis to explain how a story ended\\nthe way it did or how there was a decrease\\nin sales last summer.\\nAll this means that we do analyses to explain\\nhow and/or why something happened.\\nGreat!\\nNow, this leads us nicely on to the definition\\nof analytics.\\nAs you have probably guessed, analytics generally\\nrefers to the future. Instead of explaining\\npast events it explores potential future ones.\\nAnalytics is essentially the application of\\nlogical and computational reasoning to the\\ncomponent parts obtained in an analysis. And\\nin doing this you are looking for patterns\\nand exploring what you could do with them\\nin the future.\\nHere, analytics branches off into two areas:\\nqualitative analytics – this is using your\\nintuition and experience in conjunction with\\nthe analysis to plan your next business move.\\nAnd quantitative analytics – this is applying\\nformulas and algorithms to numbers you have\\ngathered from your analysis.\\nHere are a couple of examples.\\nSay, you are an owner of an online clothing\\nstore. You are ahead of the competition and\\nhave a great understanding of what your customer's\\nneeds and wants are. You’ve performed a\\nvery detailed analysis from women’s clothing\\narticles and feel sure about which fashion\\ntrends to follow. You may use this intuition\\nto decide on which styles of clothing to start\\nselling. This would be qualitative analytics.\\nBut you might not know when to introduce the\\nnew collection. In that case, relying on past\\nsales data and user experience data, you could\\npredict in which month it would be best to\\ndo that. This is an example of using quantitative\\nanalytics.\\nFantastic!\\nTo backtrack a little, you can combine these\\nareas with analyses also – you could perform\\nqualitative analysis – to explain how or\\nwhy a story ended the way it did. And you\\ncan perform quantitative analysis – working\\nwith past data to explain how sales decreased\\nlast summer.\\nPerfect!\\nNow that we have cleared up the differences\\nbetween analysis and analytics it shouldn’t\\nbe too difficult to see how terms such as\\n‘data analysis’, ‘data analytics’,\\n‘business analysis’ and ‘business analytics’\\ncan have their unique meanings too.\\nMore of this will be explained in the next\\nvideo which aims to simplify these, as well\\nas many more with a fantastic diagram. So,\\nlet’s move on!\\n\\nProgramming Languages & Software Employed in Data Science - All the Tools You Need\\n\\nAlright! So…\\nHow are the techniques used in data, business\\nintelligence, or predictive analytics applied\\nin real life?\\nCertainly, with the help of computers.\\nYou can basically split the relevant tools\\ninto two categories—programming languages\\nand software.\\nKnowing a programming language enables you\\nto devise programs that can execute specific\\noperations. Moreover, you can reuse these\\nprograms whenever you need to execute the\\nsame action.\\nAs you can see from the infographic, R, and\\nPython are the two most popular tools across\\nall columns. Their biggest advantage is that\\nthey can manipulate data and are integrated\\nwithin multiple data and data science software\\nplatforms. They are not just suitable for\\nmathematical and statistical computations.\\nIn other words, R, and Python are adaptable.\\nThey can solve a wide variety of business\\nand data-related problems from beginning to\\nthe end.\\nOf course, R, and Python do have their limitations.\\nThey are not able to address problems specific\\nto some domains. One example is ‘relational\\ndatabase management systems’—there, SQL\\nis king. It was specifically created for that\\npurpose. SQL is at its most advantageous when\\nworking with traditional, historical data.\\nWhen preparing your BI analysis, for instance,\\nyou will surely employ it.\\nOkay.\\nWhen it comes to data science, mentioning\\nMATLAB is inevitable. It is ideal for working\\nwith mathematical functions or matrix manipulations.\\nThat’s why it is present in all categories\\nexcept for ‘big data’. While respectable,\\nMATLAB usage is a paid service, and that’s\\none of the reasons why it is losing ground\\nto open-source languages like R and Python.\\nEither way, R, Python, and MATLAB, combined\\nwith SQL, cover most of the tools used when\\nworking with traditional data, BI, and conventional\\ndata science.\\nWhat about big data?\\nApart from R and Python, people working in\\nthis area are often proficient in other languages\\nlike Java or Scala. These two have not been\\ndeveloped specifically for doing statistical\\nanalyses, however they turn out to be very\\nuseful when combining data from multiple sources.\\nAll right! Let’s finish off with machine\\nlearning.\\nWhen it comes to machine learning, we often\\ndeal with big data. Thus, we need a lot of\\ncomputational power, and we can expect people\\nto use the languages similar to those in the\\nbig data column. Apart from R, Python, and\\nMATLAB, other, faster languages are used like\\nJava, JavaScript, C, C++, and Scala.\\nCool.\\nWhat we said may be wonderful, but that’s\\nnot all!\\nBy using one or more programming languages,\\npeople create application software or, as\\nthey are sometimes called, software solutions,\\nthat are adjusted for specific business needs.\\nTheir smaller scope does not make them less\\nuseful, in fact, just the opposite—they\\nare a lot easier to learn and be adopted by\\nothers. You have already heard of several\\nof those.\\nBecause of its ability to do relatively complex\\ncomputations and good visualizations quickly,\\nExcel is a tool applicable to more than one\\ncategory—traditional data, BI, and Data\\nScience. Similarly, SPSS is a very famous\\ntool for working with traditional data and\\napplying statistical analysis.\\nAmong the many applications we have plotted,\\nwe can say there is an increasing amount of\\nsoftware designed for working with big data\\nsuch as Apache Hadoop, Apache Hbase, and Mongo\\nDB.\\nIn terms of big data, Hadoop is the name that\\nmust stick with you. Hadoop is listed as a\\nsoftware in the sense that it is a collection\\nof programs, but don’t imagine it as a nice-looking\\napplication. It’s actually a software framework\\nwhich was designed to address the complexity\\nof big data and its computational intensity.\\nMost notably, Hadoop distributes the computational\\ntasks on multiple computers which is basically\\nthe way to handle big data nowadays.\\nPower BI, SaS, Qlik, and especially Tableau\\nare top-notch examples of software designed\\nfor business intelligence visualizations.\\nIn terms of predictive analytics, EViews is\\nmostly used for working with econometric time-series\\nmodels, and Stata—for academic statistical\\nand econometric research, where techniques\\nlike regression, cluster, and factor analysis\\nare constantly applied.\\nAs a final note, remember the following.\\nShould you have the relevant business and\\ntheoretical knowledge, learning a software\\ntool is relatively easy as opposed to learning\\na programming language. More importantly,\\nit will be sufficient for your need to create\\nquick and accurate analyses.\\nHowever, if your theoretical preparation is\\nstrong enough, you will find yourself restricted\\nby software. Knowing a programming language\\nsuch as R and Python, gives you the freedom\\nto create specific, ad-hoc tools for each\\nproject you are working on.\\nGreat!\\nWe hope we gave you a good idea about the\\nlevel of applicability of the most frequently\\nused programming and software tools in the\\nfield of data science.\\nThank you for watching!\")]"
      ]
     },
     "execution_count": 52,
     "metadata": {},
     "output_type": "execute_result"
    }
   ],
   "source": [
    "loader_docx = Docx2txtLoader(r\"D:\\AI-ML\\Langchain\\Files\\Introduction_to_Data_and_Data_Science.docx\")\n",
    "\n",
    "pages_docx = loader_docx.load()\n",
    "\n",
    "pages_docx"
   ]
  },
  {
   "cell_type": "markdown",
   "id": "be6709df-033f-49c4-99c2-3e997133ec47",
   "metadata": {},
   "source": [
    "# Indexing: Document splitting with character text splitter (Theory)"
   ]
  },
  {
   "cell_type": "code",
   "execution_count": 62,
   "id": "5965940d-80cb-43e3-a78d-e8739888118f",
   "metadata": {},
   "outputs": [],
   "source": [
    "loader = Docx2txtLoader(r\"D:\\AI-ML\\Langchain\\Files\\Introduction_to_Data_and_Data_Science.docx\")\n",
    "pages = loader.load()\n",
    "\n",
    "pages[0].page_content = ' '.join(pages[0].page_content.split())"
   ]
  },
  {
   "cell_type": "code",
   "execution_count": 63,
   "id": "3efd7a24-ee4d-4c0d-ab68-dc77aea08c56",
   "metadata": {},
   "outputs": [
    {
     "data": {
      "text/plain": [
       "8259"
      ]
     },
     "execution_count": 63,
     "metadata": {},
     "output_type": "execute_result"
    }
   ],
   "source": [
    "len(pages[0].page_content)"
   ]
  },
  {
   "cell_type": "code",
   "execution_count": 58,
   "id": "875c92f5-a77d-4dfc-85f7-c26fa43074f2",
   "metadata": {},
   "outputs": [],
   "source": [
    "char_splitter = CharacterTextSplitter(separator = \".\", # Split for full stops\n",
    "                                      chunk_size = 500, # Number of Characters\n",
    "                                      chunk_overlap = 50)"
   ]
  },
  {
   "cell_type": "code",
   "execution_count": 25,
   "id": "10db799b-935a-47e6-b61a-e3c08b899d19",
   "metadata": {},
   "outputs": [],
   "source": [
    "pages_char_split = char_splitter.split_documents(pages)"
   ]
  },
  {
   "cell_type": "code",
   "execution_count": 26,
   "id": "d32d15d6-4c92-499f-ad31-f37ef26af717",
   "metadata": {},
   "outputs": [
    {
     "data": {
      "text/plain": [
       "21"
      ]
     },
     "execution_count": 26,
     "metadata": {},
     "output_type": "execute_result"
    }
   ],
   "source": [
    "len(pages_char_split)"
   ]
  },
  {
   "cell_type": "code",
   "execution_count": 37,
   "id": "6b2c5b9a-fde9-4bd3-b5da-ecff52aac770",
   "metadata": {},
   "outputs": [
    {
     "data": {
      "text/plain": [
       "('Analysis vs Analytics Alright! So… Let’s discuss the not-so-obvious differences between the terms analysis and analytics. Due to the similarity of the words, some people believe they share the same meaning, and thus use them interchangeably. Technically, this isn’t correct. There is, in fact, a distinct difference between the two. And the reason for one often being used instead of the other is the lack of a transparent understanding of both',\n",
       " 'So, let’s clear this up, shall we? First, we will start with analysis. Consider the following… You have a huge dataset containing data of various types. Instead of tackling the entire dataset and running the risk of becoming overwhelmed, you separate it into easier to digest chunks and study them individually and examine how they relate to other parts. And that’s analysis in a nutshell')"
      ]
     },
     "execution_count": 37,
     "metadata": {},
     "output_type": "execute_result"
    }
   ],
   "source": [
    "pages_char_split[0].page_content, pages_char_split[1].page_content"
   ]
  },
  {
   "cell_type": "code",
   "execution_count": 36,
   "id": "d5b36795-2d88-4b92-9d2e-94ddd4036bb2",
   "metadata": {},
   "outputs": [
    {
     "data": {
      "text/plain": [
       "388"
      ]
     },
     "execution_count": 36,
     "metadata": {},
     "output_type": "execute_result"
    }
   ],
   "source": [
    "len(pages_char_split[1].page_content)"
   ]
  },
  {
   "cell_type": "code",
   "execution_count": 42,
   "id": "aa233b00-2178-4b86-a8a9-2ea7a03f27b8",
   "metadata": {},
   "outputs": [],
   "source": [
    "for content in pages_char_split:\n",
    "    content.page_content = content.page_content + \".\""
   ]
  },
  {
   "cell_type": "markdown",
   "id": "0fd40057-e556-4761-8b9d-8604bb5ced8b",
   "metadata": {},
   "source": [
    "# Document splitting with Markdown header text splitter"
   ]
  },
  {
   "cell_type": "code",
   "execution_count": 72,
   "id": "b3d7cdd5-ddf3-4037-a290-07babc1c9adb",
   "metadata": {},
   "outputs": [],
   "source": [
    "loader = Docx2txtLoader(r\"D:\\AI-ML\\Langchain\\Files\\Introduction_to_Data_and_Data_Science_2.docx\")\n",
    "pages = loader.load()"
   ]
  },
  {
   "cell_type": "code",
   "execution_count": 73,
   "id": "7b7a5139-8633-46ce-a42d-8a7b26b9baf0",
   "metadata": {},
   "outputs": [
    {
     "data": {
      "text/plain": [
       "[Document(metadata={'source': 'D:\\\\AI-ML\\\\Langchain\\\\Files\\\\Introduction_to_Data_and_Data_Science_2.docx'}, page_content=\"# Intro to Langchain\\n\\n## Analysis vs Analytics\\n\\nAlright! So…\\nLet’s discuss the not-so-obvious differences\\nbetween the terms analysis and analytics.\\nDue to the similarity of the words, some people\\nbelieve they share the same meaning, and thus\\nuse them interchangeably. Technically, this\\nisn’t correct. There is, in fact, a distinct\\ndifference between the two. And the reason\\nfor one often being used instead of the other\\nis the lack of a transparent understanding\\nof both.\\nSo, let’s clear this up, shall we?\\nFirst, we will start with analysis.\\nConsider the following…\\nYou have a huge dataset containing data of\\nvarious types. Instead of tackling the entire\\ndataset and running the risk of becoming overwhelmed,\\nyou separate it into easier to digest chunks\\nand study them individually and examine how\\nthey relate to other parts. And that’s analysis\\nin a nutshell.\\nOne important thing to remember, however,\\nis that you perform analyses on things that\\nhave already happened in the past. Such as\\nusing an analysis to explain how a story ended\\nthe way it did or how there was a decrease\\nin sales last summer.\\nAll this means that we do analyses to explain\\nhow and/or why something happened.\\nGreat!\\nNow, this leads us nicely on to the definition\\nof analytics.\\nAs you have probably guessed, analytics generally\\nrefers to the future. Instead of explaining\\npast events it explores potential future ones.\\nAnalytics is essentially the application of\\nlogical and computational reasoning to the\\ncomponent parts obtained in an analysis. And\\nin doing this you are looking for patterns\\nand exploring what you could do with them\\nin the future.\\nHere, analytics branches off into two areas:\\nqualitative analytics – this is using your\\nintuition and experience in conjunction with\\nthe analysis to plan your next business move.\\nAnd quantitative analytics – this is applying\\nformulas and algorithms to numbers you have\\ngathered from your analysis.\\nHere are a couple of examples.\\nSay, you are an owner of an online clothing\\nstore. You are ahead of the competition and\\nhave a great understanding of what your customer's\\nneeds and wants are. You’ve performed a\\nvery detailed analysis from women’s clothing\\narticles and feel sure about which fashion\\ntrends to follow. You may use this intuition\\nto decide on which styles of clothing to start\\nselling. This would be qualitative analytics.\\nBut you might not know when to introduce the\\nnew collection. In that case, relying on past\\nsales data and user experience data, you could\\npredict in which month it would be best to\\ndo that. This is an example of using quantitative\\nanalytics.\\nFantastic!\\nTo backtrack a little, you can combine these\\nareas with analyses also – you could perform\\nqualitative analysis – to explain how or\\nwhy a story ended the way it did. And you\\ncan perform quantitative analysis – working\\nwith past data to explain how sales decreased\\nlast summer.\\nPerfect!\\nNow that we have cleared up the differences\\nbetween analysis and analytics it shouldn’t\\nbe too difficult to see how terms such as\\n‘data analysis’, ‘data analytics’,\\n‘business analysis’ and ‘business analytics’\\ncan have their unique meanings too.\\nMore of this will be explained in the next\\nvideo which aims to simplify these, as well\\nas many more with a fantastic diagram. So,\\nlet’s move on!\\n\\n## Programming Languages & Software Employed in Data Science - All the Tools You Need\\n\\nAlright! So…\\nHow are the techniques used in data, business\\nintelligence, or predictive analytics applied\\nin real life?\\nCertainly, with the help of computers.\\nYou can basically split the relevant tools\\ninto two categories—programming languages\\nand software.\\nKnowing a programming language enables you\\nto devise programs that can execute specific\\noperations. Moreover, you can reuse these\\nprograms whenever you need to execute the\\nsame action.\\nAs you can see from the infographic, R, and\\nPython are the two most popular tools across\\nall columns. Their biggest advantage is that\\nthey can manipulate data and are integrated\\nwithin multiple data and data science software\\nplatforms. They are not just suitable for\\nmathematical and statistical computations.\\nIn other words, R, and Python are adaptable.\\nThey can solve a wide variety of business\\nand data-related problems from beginning to\\nthe end.\\nOf course, R, and Python do have their limitations.\\nThey are not able to address problems specific\\nto some domains. One example is ‘relational\\ndatabase management systems’—there, SQL\\nis king. It was specifically created for that\\npurpose. SQL is at its most advantageous when\\nworking with traditional, historical data.\\nWhen preparing your BI analysis, for instance,\\nyou will surely employ it.\\nOkay.\\nWhen it comes to data science, mentioning\\nMATLAB is inevitable. It is ideal for working\\nwith mathematical functions or matrix manipulations.\\nThat’s why it is present in all categories\\nexcept for ‘big data’. While respectable,\\nMATLAB usage is a paid service, and that’s\\none of the reasons why it is losing ground\\nto open-source languages like R and Python.\\nEither way, R, Python, and MATLAB, combined\\nwith SQL, cover most of the tools used when\\nworking with traditional data, BI, and conventional\\ndata science.\\nWhat about big data?\\nApart from R and Python, people working in\\nthis area are often proficient in other languages\\nlike Java or Scala. These two have not been\\ndeveloped specifically for doing statistical\\nanalyses, however they turn out to be very\\nuseful when combining data from multiple sources.\\nAll right! Let’s finish off with machine\\nlearning.\\nWhen it comes to machine learning, we often\\ndeal with big data. Thus, we need a lot of\\ncomputational power, and we can expect people\\nto use the languages similar to those in the\\nbig data column. Apart from R, Python, and\\nMATLAB, other, faster languages are used like\\nJava, JavaScript, C, C++, and Scala.\\nCool.\\nWhat we said may be wonderful, but that’s\\nnot all!\\nBy using one or more programming languages,\\npeople create application software or, as\\nthey are sometimes called, software solutions,\\nthat are adjusted for specific business needs.\\nTheir smaller scope does not make them less\\nuseful, in fact, just the opposite—they\\nare a lot easier to learn and be adopted by\\nothers. You have already heard of several\\nof those.\\nBecause of its ability to do relatively complex\\ncomputations and good visualizations quickly,\\nExcel is a tool applicable to more than one\\ncategory—traditional data, BI, and Data\\nScience. Similarly, SPSS is a very famous\\ntool for working with traditional data and\\napplying statistical analysis.\\nAmong the many applications we have plotted,\\nwe can say there is an increasing amount of\\nsoftware designed for working with big data\\nsuch as Apache Hadoop, Apache Hbase, and Mongo\\nDB.\\nIn terms of big data, Hadoop is the name that\\nmust stick with you. Hadoop is listed as a\\nsoftware in the sense that it is a collection\\nof programs, but don’t imagine it as a nice-looking\\napplication. It’s actually a software framework\\nwhich was designed to address the complexity\\nof big data and its computational intensity.\\nMost notably, Hadoop distributes the computational\\ntasks on multiple computers which is basically\\nthe way to handle big data nowadays.\\nPower BI, SaS, Qlik, and especially Tableau\\nare top-notch examples of software designed\\nfor business intelligence visualizations.\\nIn terms of predictive analytics, EViews is\\nmostly used for working with econometric time-series\\nmodels, and Stata—for academic statistical\\nand econometric research, where techniques\\nlike regression, cluster, and factor analysis\\nare constantly applied.\\nAs a final note, remember the following.\\nShould you have the relevant business and\\ntheoretical knowledge, learning a software\\ntool is relatively easy as opposed to learning\\na programming language. More importantly,\\nit will be sufficient for your need to create\\nquick and accurate analyses.\\nHowever, if your theoretical preparation is\\nstrong enough, you will find yourself restricted\\nby software. Knowing a programming language\\nsuch as R and Python, gives you the freedom\\nto create specific, ad-hoc tools for each\\nproject you are working on.\\nGreat!\\nWe hope we gave you a good idea about the\\nlevel of applicability of the most frequently\\nused programming and software tools in the\\nfield of data science.\\nThank you for watching!\")]"
      ]
     },
     "execution_count": 73,
     "metadata": {},
     "output_type": "execute_result"
    }
   ],
   "source": [
    "pages"
   ]
  },
  {
   "cell_type": "code",
   "execution_count": 74,
   "id": "a14d6b6f-1d71-4415-9850-831a697f9b86",
   "metadata": {},
   "outputs": [],
   "source": [
    "md_splitter = MarkdownHeaderTextSplitter(headers_to_split_on = [(\"#\", \"Course Title\"), \n",
    "                                                                (\"##\", \"Lecture Title\")])"
   ]
  },
  {
   "cell_type": "code",
   "execution_count": 75,
   "id": "01313905-bfae-4acd-9074-b0cf81400b59",
   "metadata": {},
   "outputs": [
    {
     "data": {
      "text/plain": [
       "[Document(metadata={'Course Title': 'Intro to Langchain', 'Lecture Title': 'Analysis vs Analytics'}, page_content=\"Alright! So…\\nLet’s discuss the not-so-obvious differences\\nbetween the terms analysis and analytics.\\nDue to the similarity of the words, some people\\nbelieve they share the same meaning, and thus\\nuse them interchangeably. Technically, this\\nisn’t correct. There is, in fact, a distinct\\ndifference between the two. And the reason\\nfor one often being used instead of the other\\nis the lack of a transparent understanding\\nof both.\\nSo, let’s clear this up, shall we?\\nFirst, we will start with analysis.\\nConsider the following…\\nYou have a huge dataset containing data of\\nvarious types. Instead of tackling the entire\\ndataset and running the risk of becoming overwhelmed,\\nyou separate it into easier to digest chunks\\nand study them individually and examine how\\nthey relate to other parts. And that’s analysis\\nin a nutshell.\\nOne important thing to remember, however,\\nis that you perform analyses on things that\\nhave already happened in the past. Such as\\nusing an analysis to explain how a story ended\\nthe way it did or how there was a decrease\\nin sales last summer.\\nAll this means that we do analyses to explain\\nhow and/or why something happened.\\nGreat!\\nNow, this leads us nicely on to the definition\\nof analytics.\\nAs you have probably guessed, analytics generally\\nrefers to the future. Instead of explaining\\npast events it explores potential future ones.\\nAnalytics is essentially the application of\\nlogical and computational reasoning to the\\ncomponent parts obtained in an analysis. And\\nin doing this you are looking for patterns\\nand exploring what you could do with them\\nin the future.\\nHere, analytics branches off into two areas:\\nqualitative analytics – this is using your\\nintuition and experience in conjunction with\\nthe analysis to plan your next business move.\\nAnd quantitative analytics – this is applying\\nformulas and algorithms to numbers you have\\ngathered from your analysis.\\nHere are a couple of examples.\\nSay, you are an owner of an online clothing\\nstore. You are ahead of the competition and\\nhave a great understanding of what your customer's\\nneeds and wants are. You’ve performed a\\nvery detailed analysis from women’s clothing\\narticles and feel sure about which fashion\\ntrends to follow. You may use this intuition\\nto decide on which styles of clothing to start\\nselling. This would be qualitative analytics.\\nBut you might not know when to introduce the\\nnew collection. In that case, relying on past\\nsales data and user experience data, you could\\npredict in which month it would be best to\\ndo that. This is an example of using quantitative\\nanalytics.\\nFantastic!\\nTo backtrack a little, you can combine these\\nareas with analyses also – you could perform\\nqualitative analysis – to explain how or\\nwhy a story ended the way it did. And you\\ncan perform quantitative analysis – working\\nwith past data to explain how sales decreased\\nlast summer.\\nPerfect!\\nNow that we have cleared up the differences\\nbetween analysis and analytics it shouldn’t\\nbe too difficult to see how terms such as\\n‘data analysis’, ‘data analytics’,\\n‘business analysis’ and ‘business analytics’\\ncan have their unique meanings too.\\nMore of this will be explained in the next\\nvideo which aims to simplify these, as well\\nas many more with a fantastic diagram. So,\\nlet’s move on!\"),\n",
       " Document(metadata={'Course Title': 'Intro to Langchain', 'Lecture Title': 'Programming Languages & Software Employed in Data Science - All the Tools You Need'}, page_content='Alright! So…\\nHow are the techniques used in data, business\\nintelligence, or predictive analytics applied\\nin real life?\\nCertainly, with the help of computers.\\nYou can basically split the relevant tools\\ninto two categories—programming languages\\nand software.\\nKnowing a programming language enables you\\nto devise programs that can execute specific\\noperations. Moreover, you can reuse these\\nprograms whenever you need to execute the\\nsame action.\\nAs you can see from the infographic, R, and\\nPython are the two most popular tools across\\nall columns. Their biggest advantage is that\\nthey can manipulate data and are integrated\\nwithin multiple data and data science software\\nplatforms. They are not just suitable for\\nmathematical and statistical computations.\\nIn other words, R, and Python are adaptable.\\nThey can solve a wide variety of business\\nand data-related problems from beginning to\\nthe end.\\nOf course, R, and Python do have their limitations.\\nThey are not able to address problems specific\\nto some domains. One example is ‘relational\\ndatabase management systems’—there, SQL\\nis king. It was specifically created for that\\npurpose. SQL is at its most advantageous when\\nworking with traditional, historical data.\\nWhen preparing your BI analysis, for instance,\\nyou will surely employ it.\\nOkay.\\nWhen it comes to data science, mentioning\\nMATLAB is inevitable. It is ideal for working\\nwith mathematical functions or matrix manipulations.\\nThat’s why it is present in all categories\\nexcept for ‘big data’. While respectable,\\nMATLAB usage is a paid service, and that’s\\none of the reasons why it is losing ground\\nto open-source languages like R and Python.\\nEither way, R, Python, and MATLAB, combined\\nwith SQL, cover most of the tools used when\\nworking with traditional data, BI, and conventional\\ndata science.\\nWhat about big data?\\nApart from R and Python, people working in\\nthis area are often proficient in other languages\\nlike Java or Scala. These two have not been\\ndeveloped specifically for doing statistical\\nanalyses, however they turn out to be very\\nuseful when combining data from multiple sources.\\nAll right! Let’s finish off with machine\\nlearning.\\nWhen it comes to machine learning, we often\\ndeal with big data. Thus, we need a lot of\\ncomputational power, and we can expect people\\nto use the languages similar to those in the\\nbig data column. Apart from R, Python, and\\nMATLAB, other, faster languages are used like\\nJava, JavaScript, C, C++, and Scala.\\nCool.\\nWhat we said may be wonderful, but that’s\\nnot all!\\nBy using one or more programming languages,\\npeople create application software or, as\\nthey are sometimes called, software solutions,\\nthat are adjusted for specific business needs.\\nTheir smaller scope does not make them less\\nuseful, in fact, just the opposite—they\\nare a lot easier to learn and be adopted by\\nothers. You have already heard of several\\nof those.\\nBecause of its ability to do relatively complex\\ncomputations and good visualizations quickly,\\nExcel is a tool applicable to more than one\\ncategory—traditional data, BI, and Data\\nScience. Similarly, SPSS is a very famous\\ntool for working with traditional data and\\napplying statistical analysis.\\nAmong the many applications we have plotted,\\nwe can say there is an increasing amount of\\nsoftware designed for working with big data\\nsuch as Apache Hadoop, Apache Hbase, and Mongo\\nDB.\\nIn terms of big data, Hadoop is the name that\\nmust stick with you. Hadoop is listed as a\\nsoftware in the sense that it is a collection\\nof programs, but don’t imagine it as a nice-looking\\napplication. It’s actually a software framework\\nwhich was designed to address the complexity\\nof big data and its computational intensity.\\nMost notably, Hadoop distributes the computational\\ntasks on multiple computers which is basically\\nthe way to handle big data nowadays.\\nPower BI, SaS, Qlik, and especially Tableau\\nare top-notch examples of software designed\\nfor business intelligence visualizations.\\nIn terms of predictive analytics, EViews is\\nmostly used for working with econometric time-series\\nmodels, and Stata—for academic statistical\\nand econometric research, where techniques\\nlike regression, cluster, and factor analysis\\nare constantly applied.\\nAs a final note, remember the following.\\nShould you have the relevant business and\\ntheoretical knowledge, learning a software\\ntool is relatively easy as opposed to learning\\na programming language. More importantly,\\nit will be sufficient for your need to create\\nquick and accurate analyses.\\nHowever, if your theoretical preparation is\\nstrong enough, you will find yourself restricted\\nby software. Knowing a programming language\\nsuch as R and Python, gives you the freedom\\nto create specific, ad-hoc tools for each\\nproject you are working on.\\nGreat!\\nWe hope we gave you a good idea about the\\nlevel of applicability of the most frequently\\nused programming and software tools in the\\nfield of data science.\\nThank you for watching!')]"
      ]
     },
     "execution_count": 75,
     "metadata": {},
     "output_type": "execute_result"
    }
   ],
   "source": [
    "pages_md_split = md_splitter.split_text(pages[0].page_content)\n",
    "\n",
    "pages_md_split"
   ]
  },
  {
   "cell_type": "code",
   "execution_count": 51,
   "id": "65635ac8-3794-44fa-82d0-d7dcb73ab3d5",
   "metadata": {},
   "outputs": [
    {
     "data": {
      "text/plain": [
       "\"# Intro to Langchain ## Analysis vs Analytics Alright! So… Let’s discuss the not-so-obvious differences between the terms analysis and analytics. Due to the similarity of the words, some people believe they share the same meaning, and thus use them interchangeably. Technically, this isn’t correct. There is, in fact, a distinct difference between the two. And the reason for one often being used instead of the other is the lack of a transparent understanding of both. So, let’s clear this up, shall we? First, we will start with analysis. Consider the following… You have a huge dataset containing data of various types. Instead of tackling the entire dataset and running the risk of becoming overwhelmed, you separate it into easier to digest chunks and study them individually and examine how they relate to other parts. And that’s analysis in a nutshell. One important thing to remember, however, is that you perform analyses on things that have already happened in the past. Such as using an analysis to explain how a story ended the way it did or how there was a decrease in sales last summer. All this means that we do analyses to explain how and/or why something happened. Great! Now, this leads us nicely on to the definition of analytics. As you have probably guessed, analytics generally refers to the future. Instead of explaining past events it explores potential future ones. Analytics is essentially the application of logical and computational reasoning to the component parts obtained in an analysis. And in doing this you are looking for patterns and exploring what you could do with them in the future. Here, analytics branches off into two areas: qualitative analytics – this is using your intuition and experience in conjunction with the analysis to plan your next business move. And quantitative analytics – this is applying formulas and algorithms to numbers you have gathered from your analysis. Here are a couple of examples. Say, you are an owner of an online clothing store. You are ahead of the competition and have a great understanding of what your customer's needs and wants are. You’ve performed a very detailed analysis from women’s clothing articles and feel sure about which fashion trends to follow. You may use this intuition to decide on which styles of clothing to start selling. This would be qualitative analytics. But you might not know when to introduce the new collection. In that case, relying on past sales data and user experience data, you could predict in which month it would be best to do that. This is an example of using quantitative analytics. Fantastic! To backtrack a little, you can combine these areas with analyses also – you could perform qualitative analysis – to explain how or why a story ended the way it did. And you can perform quantitative analysis – working with past data to explain how sales decreased last summer. Perfect! Now that we have cleared up the differences between analysis and analytics it shouldn’t be too difficult to see how terms such as ‘data analysis’, ‘data analytics’, ‘business analysis’ and ‘business analytics’ can have their unique meanings too. More of this will be explained in the next video which aims to simplify these, as well as many more with a fantastic diagram. So, let’s move on! ## Programming Languages & Software Employed in Data Science - All the Tools You Need Alright! So… How are the techniques used in data, business intelligence, or predictive analytics applied in real life? Certainly, with the help of computers. You can basically split the relevant tools into two categories—programming languages and software. Knowing a programming language enables you to devise programs that can execute specific operations. Moreover, you can reuse these programs whenever you need to execute the same action. As you can see from the infographic, R, and Python are the two most popular tools across all columns. Their biggest advantage is that they can manipulate data and are integrated within multiple data and data science software platforms. They are not just suitable for mathematical and statistical computations. In other words, R, and Python are adaptable. They can solve a wide variety of business and data-related problems from beginning to the end. Of course, R, and Python do have their limitations. They are not able to address problems specific to some domains. One example is ‘relational database management systems’—there, SQL is king. It was specifically created for that purpose. SQL is at its most advantageous when working with traditional, historical data. When preparing your BI analysis, for instance, you will surely employ it. Okay. When it comes to data science, mentioning MATLAB is inevitable. It is ideal for working with mathematical functions or matrix manipulations. That’s why it is present in all categories except for ‘big data’. While respectable, MATLAB usage is a paid service, and that’s one of the reasons why it is losing ground to open-source languages like R and Python. Either way, R, Python, and MATLAB, combined with SQL, cover most of the tools used when working with traditional data, BI, and conventional data science. What about big data? Apart from R and Python, people working in this area are often proficient in other languages like Java or Scala. These two have not been developed specifically for doing statistical analyses, however they turn out to be very useful when combining data from multiple sources. All right! Let’s finish off with machine learning. When it comes to machine learning, we often deal with big data. Thus, we need a lot of computational power, and we can expect people to use the languages similar to those in the big data column. Apart from R, Python, and MATLAB, other, faster languages are used like Java, JavaScript, C, C++, and Scala. Cool. What we said may be wonderful, but that’s not all! By using one or more programming languages, people create application software or, as they are sometimes called, software solutions, that are adjusted for specific business needs. Their smaller scope does not make them less useful, in fact, just the opposite—they are a lot easier to learn and be adopted by others. You have already heard of several of those. Because of its ability to do relatively complex computations and good visualizations quickly, Excel is a tool applicable to more than one category—traditional data, BI, and Data Science. Similarly, SPSS is a very famous tool for working with traditional data and applying statistical analysis. Among the many applications we have plotted, we can say there is an increasing amount of software designed for working with big data such as Apache Hadoop, Apache Hbase, and Mongo DB. In terms of big data, Hadoop is the name that must stick with you. Hadoop is listed as a software in the sense that it is a collection of programs, but don’t imagine it as a nice-looking application. It’s actually a software framework which was designed to address the complexity of big data and its computational intensity. Most notably, Hadoop distributes the computational tasks on multiple computers which is basically the way to handle big data nowadays. Power BI, SaS, Qlik, and especially Tableau are top-notch examples of software designed for business intelligence visualizations. In terms of predictive analytics, EViews is mostly used for working with econometric time-series models, and Stata—for academic statistical and econometric research, where techniques like regression, cluster, and factor analysis are constantly applied. As a final note, remember the following. Should you have the relevant business and theoretical knowledge, learning a software tool is relatively easy as opposed to learning a programming language. More importantly, it will be sufficient for your need to create quick and accurate analyses. However, if your theoretical preparation is strong enough, you will find yourself restricted by software. Knowing a programming language such as R and Python, gives you the freedom to create specific, ad-hoc tools for each project you are working on. Great! We hope we gave you a good idea about the level of applicability of the most frequently used programming and software tools in the field of data science. Thank you for watching!\""
      ]
     },
     "execution_count": 51,
     "metadata": {},
     "output_type": "execute_result"
    }
   ],
   "source": [
    "pages[0].page_content"
   ]
  },
  {
   "cell_type": "code",
   "execution_count": null,
   "id": "f95baa77-98bb-451e-87c2-75a60c9d1042",
   "metadata": {},
   "outputs": [],
   "source": []
  }
 ],
 "metadata": {
  "kernelspec": {
   "display_name": "Python (llms_course_env)",
   "language": "python",
   "name": "llms_course_env"
  },
  "language_info": {
   "codemirror_mode": {
    "name": "ipython",
    "version": 3
   },
   "file_extension": ".py",
   "mimetype": "text/x-python",
   "name": "python",
   "nbconvert_exporter": "python",
   "pygments_lexer": "ipython3",
   "version": "3.11.13"
  }
 },
 "nbformat": 4,
 "nbformat_minor": 5
}
