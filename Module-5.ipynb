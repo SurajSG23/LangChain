{
 "cells": [
  {
   "cell_type": "markdown",
   "id": "af500097-2b80-454f-8df1-73b06373e170",
   "metadata": {},
   "source": [
    "#  RAG - Retrieval-Augmented Generation\n",
    "\n",
    "### 1. Document Loading\n",
    "\n",
    "* Use **Document Loaders** in LangChain.\n",
    "* Examples: `PyPDFLoader`, `TextLoader`, `UnstructuredFileLoader`.\n",
    "* Purpose: Bring external data (PDFs, text files, web pages) into LangChain.\n",
    "\n",
    "---\n",
    "\n",
    "### 2. Document Splitting\n",
    "\n",
    "* Use **Text Splitters** like `CharacterTextSplitter` or `RecursiveCharacterTextSplitter`.\n",
    "* Purpose: Break large documents into **small chunks** (e.g., 500–1000 tokens).\n",
    "* Why: LLMs work better on smaller pieces of text.\n",
    "\n",
    "---\n",
    "\n",
    "### 3. Document Embedding\n",
    "\n",
    "* Use **Embeddings models** (e.g., `OpenAIEmbeddings`, `HuggingFaceEmbeddings`).\n",
    "* Each chunk → vector (list of numbers).\n",
    "* **Cosine Similarity** is used to measure how close two vectors (chunks) are.\n",
    "\n",
    "  * Example: Question vector vs stored chunk vectors → find the most similar ones.\n",
    "\n",
    "---\n",
    "\n",
    "### 4. Document Storing\n",
    "\n",
    "* Store embeddings in a **Vector Store** (like FAISS, Chroma, Pinecone).\n",
    "* Purpose: Efficient search & retrieval of similar chunks later.\n",
    "\n",
    "---\n",
    "\n",
    "### 5. Retrieval + Generation (RAG)\n",
    "\n",
    "* When user asks a question:\n",
    "\n",
    "  * Convert question → embedding.\n",
    "  * Retrieve top-k **relevant and diverse** chunks from Vector Store (using cosine similarity).\n",
    "  * Send question + retrieved context to LLM via a **RetrievalQA chain**.\n",
    "  * LLM generates the final answer.\n",
    "\n",
    "---\n",
    "\n",
    "So in LangChain terms:\n",
    "**Loader → Splitter → Embeddings → Vector Store → RetrievalQA Chain**\n",
    "\n",
    "---"
   ]
  },
  {
   "cell_type": "markdown",
   "id": "204c83a1-c4c0-4240-b80d-e5f71e17af56",
   "metadata": {},
   "source": [
    "# Indexing: Document Loading with PyPDF Loader"
   ]
  },
  {
   "cell_type": "code",
   "execution_count": 4,
   "id": "d92e4305-2f28-4577-9fca-f51fb6d26a0f",
   "metadata": {},
   "outputs": [],
   "source": [
    "from langchain_community.document_loaders import PyPDFLoader\n",
    "import copy"
   ]
  },
  {
   "cell_type": "code",
   "execution_count": 6,
   "id": "6511aa98-4bd0-4ee9-8027-82b7f21358c6",
   "metadata": {},
   "outputs": [
    {
     "data": {
      "text/plain": [
       "[Document(metadata={'producer': 'Microsoft® Word for Microsoft 365', 'creator': 'Microsoft® Word for Microsoft 365', 'creationdate': '2023-11-09T10:16:34+02:00', 'author': 'Hristina  Hristova', 'moddate': '2023-11-09T10:16:34+02:00', 'source': 'D:\\\\AI-ML\\\\Langchain\\\\Files\\\\Introduction_to_Data_and_Data_Science.pdf', 'total_pages': 6, 'page': 0, 'page_label': '1'}, page_content='Analysis vs Analytics \\nAlright! So… \\nLet’s discuss the not-so-obvious differences \\nbetween the terms analysis and analytics. \\nDue to the similarity of the words, some people \\nbelieve they share the same meaning, and thus \\nuse them interchangeably. Technically, this \\nisn’t correct. There is, in fact, a distinct \\ndifference between the two. And the reason \\nfor one often being used instead of the other \\nis the lack of a transparent understanding \\nof both. \\nSo, let’s clear this up, shall we? \\nFirst, we will start with analysis. \\nConsider the following… \\nYou have a huge dataset containing data of \\nvarious types. Instead of tackling the entire \\ndataset and running the risk of becoming overwhelmed, \\nyou separate it into easier to digest chunks \\nand study them individually and examine how \\nthey relate to other parts. And that’s analysis \\nin a nutshell. \\nOne important thing to remember, however, \\nis that you perform analyses on things that \\nhave already happened in the past. Such as \\nusing an analysis to explain how a story ended \\nthe way it did or how there was a decrease \\nin sales last summer. \\nAll this means that we do analyses to explain \\nhow and/or why something happened. \\nGreat! \\nNow, this leads us nicely on to the definition \\nof analytics. \\nAs you have probably guessed, analytics generally \\nrefers to the future. Instead of explaining \\npast events it explores potential future ones. \\nAnalytics is essentially the application of \\nlogical and computational reasoning to the \\ncomponent parts obtained in an analysis. And \\nin doing this you are looking for patterns'),\n",
       " Document(metadata={'producer': 'Microsoft® Word for Microsoft 365', 'creator': 'Microsoft® Word for Microsoft 365', 'creationdate': '2023-11-09T10:16:34+02:00', 'author': 'Hristina  Hristova', 'moddate': '2023-11-09T10:16:34+02:00', 'source': 'D:\\\\AI-ML\\\\Langchain\\\\Files\\\\Introduction_to_Data_and_Data_Science.pdf', 'total_pages': 6, 'page': 1, 'page_label': '2'}, page_content=\"and exploring what you could do with them \\nin the future. \\nHere, analytics branches off into two areas: \\nqualitative analytics – this is using your \\nintuition and experience in conjunction with \\nthe analysis to plan your next business move. \\nAnd quantitative analytics – this is applying \\nformulas and algorithms to numbers you have \\ngathered from your analysis. \\nHere are a couple of examples. \\nSay, you are an owner of an online clothing \\nstore. You are ahead of the competition and \\nhave a great understanding of what your customer's \\nneeds and wants are. You’ve performed a \\nvery detailed analysis from women’s clothing \\narticles and feel sure about which fashion \\ntrends to follow. You may use this intuition \\nto decide on which styles of clothing to start \\nselling. This would be qualitative analytics. \\nBut you might not know when to introduce the \\nnew collection. In that case, relying on past \\nsales data and user experience data, you could \\npredict in which month it would be best to \\ndo that. This is an example of using quantitative \\nanalytics. \\nFantastic! \\nTo backtrack a little, you can combine these \\nareas with analyses also – you could perform \\nqualitative analysis – to explain how or \\nwhy a story ended the way it did. And you \\ncan perform quantitative analysis – working \\nwith past data to explain how sales decreased \\nlast summer. \\nPerfect! \\nNow that we have cleared up the differences \\nbetween analysis and analytics it shouldn’t \\nbe too difficult to see how terms such as \\n‘data analysis’, ‘data analytics’, \\n‘business analysis’ and ‘business analytics’ \\ncan have their unique meanings too. \\nMore of this will be explained in the next \\nvideo which aims to simplify these, as well\"),\n",
       " Document(metadata={'producer': 'Microsoft® Word for Microsoft 365', 'creator': 'Microsoft® Word for Microsoft 365', 'creationdate': '2023-11-09T10:16:34+02:00', 'author': 'Hristina  Hristova', 'moddate': '2023-11-09T10:16:34+02:00', 'source': 'D:\\\\AI-ML\\\\Langchain\\\\Files\\\\Introduction_to_Data_and_Data_Science.pdf', 'total_pages': 6, 'page': 2, 'page_label': '3'}, page_content='as many more with a fantastic diagram. So, \\nlet’s move on! \\nProgramming Languages & Software Employed in Data Science - All the Tools You \\nNeed \\nAlright! So… \\nHow are the techniques used in data, business \\nintelligence, or predictive analytics applied \\nin real life? \\nCertainly, with the help of computers. \\nYou can basically split the relevant tools \\ninto two categories—programming languages \\nand software. \\nKnowing a programming language enables you \\nto devise programs that can execute specific \\noperations. Moreover, you can reuse these \\nprograms whenever you need to execute the \\nsame action. \\nAs you can see from the infographic, R, and \\nPython are the two most popular tools across \\nall columns. Their biggest advantage is that \\nthey can manipulate data and are integrated \\nwithin multiple data and data science software \\nplatforms. They are not just suitable for \\nmathematical and statistical computations. \\nIn other words, R, and Python are adaptable. \\nThey can solve a wide variety of business \\nand data-related problems from beginning to \\nthe end. \\nOf course, R, and Python do have their limitations. \\nThey are not able to address problems specific \\nto some domains. One example is ‘relational \\ndatabase management systems’—there, SQL \\nis king. It was specifically created for that \\npurpose. SQL is at its most advantageous when \\nworking with traditional, historical data. \\nWhen preparing your BI analysis, for instance, \\nyou will surely employ it. \\nOkay. \\nWhen it comes to data science, mentioning'),\n",
       " Document(metadata={'producer': 'Microsoft® Word for Microsoft 365', 'creator': 'Microsoft® Word for Microsoft 365', 'creationdate': '2023-11-09T10:16:34+02:00', 'author': 'Hristina  Hristova', 'moddate': '2023-11-09T10:16:34+02:00', 'source': 'D:\\\\AI-ML\\\\Langchain\\\\Files\\\\Introduction_to_Data_and_Data_Science.pdf', 'total_pages': 6, 'page': 3, 'page_label': '4'}, page_content='MATLAB is inevitable. It is ideal for working \\nwith mathematical functions or matrix manipulations. \\nThat’s why it is present in all categories \\nexcept for ‘big data’. While respectable, \\nMATLAB usage is a paid service, and that’s \\none of the reasons why it is losing ground \\nto open-source languages like R and Python. \\nEither way, R, Python, and MATLAB, combined \\nwith SQL, cover most of the tools used when \\nworking with traditional data, BI, and conventional \\ndata science. \\nWhat about big data? \\nApart from R and Python, people working in \\nthis area are often proficient in other languages \\nlike Java or Scala. These two have not been \\ndeveloped specifically for doing statistical \\nanalyses, however they turn out to be very \\nuseful when combining data from multiple sources. \\nAll right! Let’s finish off with machine \\nlearning. \\nWhen it comes to machine learning, we often \\ndeal with big data. Thus, we need a lot of \\ncomputational power, and we can expect people \\nto use the languages similar to those in the \\nbig data column. Apart from R, Python, and \\nMATLAB, other, faster languages are used like \\nJava, JavaScript, C, C++, and Scala. \\nCool. \\nWhat we said may be wonderful, but that’s \\nnot all! \\nBy using one or more programming languages, \\npeople create application software or, as \\nthey are sometimes called, software solutions, \\nthat are adjusted for specific business needs. \\nTheir smaller scope does not make them less \\nuseful, in fact, just the opposite—they \\nare a lot easier to learn and be adopted by \\nothers. You have already heard of several \\nof those. \\nBecause of its ability to do relatively complex \\ncomputations and good visualizations quickly, \\nExcel is a tool applicable to more than one'),\n",
       " Document(metadata={'producer': 'Microsoft® Word for Microsoft 365', 'creator': 'Microsoft® Word for Microsoft 365', 'creationdate': '2023-11-09T10:16:34+02:00', 'author': 'Hristina  Hristova', 'moddate': '2023-11-09T10:16:34+02:00', 'source': 'D:\\\\AI-ML\\\\Langchain\\\\Files\\\\Introduction_to_Data_and_Data_Science.pdf', 'total_pages': 6, 'page': 4, 'page_label': '5'}, page_content='category—traditional data, BI, and Data \\nScience. Similarly, SPSS is a very famous \\ntool for working with traditional data and \\napplying statistical analysis. \\nAmong the many applications we have plotted, \\nwe can say there is an increasing amount of \\nsoftware designed for working with big data \\nsuch as Apache Hadoop, Apache Hbase, and Mongo \\nDB. \\nIn terms of big data, Hadoop is the name that \\nmust stick with you. Hadoop is listed as a \\nsoftware in the sense that it is a collection \\nof programs, but don’t imagine it as a nice-looking \\napplication. It’s actually a software framework \\nwhich was designed to address the complexity \\nof big data and its computational intensity. \\nMost notably, Hadoop distributes the computational \\ntasks on multiple computers which is basically \\nthe way to handle big data nowadays. \\nPower BI, SaS, Qlik, and especially Tableau \\nare top-notch examples of software designed \\nfor business intelligence visualizations. \\nIn terms of predictive analytics, EViews is \\nmostly used for working with econometric time-series \\nmodels, and Stata—for academic statistical \\nand econometric research, where techniques \\nlike regression, cluster, and factor analysis \\nare constantly applied. \\nAs a final note, remember the following. \\nShould you have the relevant business and \\ntheoretical knowledge, learning a software \\ntool is relatively easy as opposed to learning \\na programming language. More importantly, \\nit will be sufficient for your need to create \\nquick and accurate analyses. \\nHowever, if your theoretical preparation is \\nstrong enough, you will find yourself restricted \\nby software. Knowing a programming language \\nsuch as R and Python, gives you the freedom \\nto create specific, ad-hoc tools for each \\nproject you are working on. \\nGreat!'),\n",
       " Document(metadata={'producer': 'Microsoft® Word for Microsoft 365', 'creator': 'Microsoft® Word for Microsoft 365', 'creationdate': '2023-11-09T10:16:34+02:00', 'author': 'Hristina  Hristova', 'moddate': '2023-11-09T10:16:34+02:00', 'source': 'D:\\\\AI-ML\\\\Langchain\\\\Files\\\\Introduction_to_Data_and_Data_Science.pdf', 'total_pages': 6, 'page': 5, 'page_label': '6'}, page_content='We hope we gave you a good idea about the \\nlevel of applicability of the most frequently \\nused programming and software tools in the \\nfield of data science. \\nThank you for watching!')]"
      ]
     },
     "execution_count": 6,
     "metadata": {},
     "output_type": "execute_result"
    }
   ],
   "source": [
    "loader_pdf = PyPDFLoader(r\"D:\\AI-ML\\Langchain\\Files\\Introduction_to_Data_and_Data_Science.pdf\")\n",
    "\n",
    "pages_pdf = loader_pdf.load()\n",
    "\n",
    "pages_pdf"
   ]
  },
  {
   "cell_type": "code",
   "execution_count": 7,
   "id": "2829a0ed-f13e-457a-8b3c-1defe050bb00",
   "metadata": {},
   "outputs": [],
   "source": [
    "pages_pdf_cut = copy.deepcopy(pages_pdf)"
   ]
  },
  {
   "cell_type": "markdown",
   "id": "0f8a641c-5926-453a-a9bf-2aa2c7628804",
   "metadata": {},
   "source": [
    "### 1. `copy.deepcopy()`\n",
    "\n",
    "* Comes from Python’s built-in `copy` module.\n",
    "* `deepcopy()` creates a **new independent copy** of the object *and all objects inside it*.\n",
    "* This means changes in the copy will **not affect** the original.\n",
    "\n",
    "---\n",
    "\n",
    "### 2. Why use `deepcopy` here?\n",
    "\n",
    "* If you just did:\n",
    "\n",
    "  ```python\n",
    "  pages_pdf_cut = pages_pdf\n",
    "  ```\n",
    "\n",
    "  → Both variables point to the **same object** in memory. Editing one edits the other.\n",
    "\n",
    "* With `deepcopy`:\n",
    "\n",
    "  ```python\n",
    "  pages_pdf_cut = copy.deepcopy(pages_pdf)\n",
    "  ```\n",
    "\n",
    "  → `pages_pdf_cut` is a **completely separate clone**. You can modify it (cut pages, clean text, etc.) without touching `pages_pdf`.\n",
    "\n",
    "---\n",
    "\n",
    "In short:\n",
    "This line makes a **full independent duplicate** of `pages_pdf`, so you can safely work on `pages_pdf_cut` without messing up the original data.\n"
   ]
  },
  {
   "cell_type": "code",
   "execution_count": 10,
   "id": "a84327a1-aea8-489b-aa9c-04a830881ba7",
   "metadata": {},
   "outputs": [],
   "source": [
    "for i in pages_pdf_cut:\n",
    "    i.page_content = ' '.join(i.page_content.split()) # Removes \\n"
   ]
  },
  {
   "cell_type": "code",
   "execution_count": 11,
   "id": "1b790cf6-7bac-41b8-a6de-2fdd47ef55dc",
   "metadata": {},
   "outputs": [
    {
     "data": {
      "text/plain": [
       "('Analysis vs Analytics \\nAlright! So… \\nLet’s discuss the not-so-obvious differences \\nbetween the terms analysis and analytics. \\nDue to the similarity of the words, some people \\nbelieve they share the same meaning, and thus \\nuse them interchangeably. Technically, this \\nisn’t correct. There is, in fact, a distinct \\ndifference between the two. And the reason \\nfor one often being used instead of the other \\nis the lack of a transparent understanding \\nof both. \\nSo, let’s clear this up, shall we? \\nFirst, we will start with analysis. \\nConsider the following… \\nYou have a huge dataset containing data of \\nvarious types. Instead of tackling the entire \\ndataset and running the risk of becoming overwhelmed, \\nyou separate it into easier to digest chunks \\nand study them individually and examine how \\nthey relate to other parts. And that’s analysis \\nin a nutshell. \\nOne important thing to remember, however, \\nis that you perform analyses on things that \\nhave already happened in the past. Such as \\nusing an analysis to explain how a story ended \\nthe way it did or how there was a decrease \\nin sales last summer. \\nAll this means that we do analyses to explain \\nhow and/or why something happened. \\nGreat! \\nNow, this leads us nicely on to the definition \\nof analytics. \\nAs you have probably guessed, analytics generally \\nrefers to the future. Instead of explaining \\npast events it explores potential future ones. \\nAnalytics is essentially the application of \\nlogical and computational reasoning to the \\ncomponent parts obtained in an analysis. And \\nin doing this you are looking for patterns',\n",
       " 'Analysis vs Analytics Alright! So… Let’s discuss the not-so-obvious differences between the terms analysis and analytics. Due to the similarity of the words, some people believe they share the same meaning, and thus use them interchangeably. Technically, this isn’t correct. There is, in fact, a distinct difference between the two. And the reason for one often being used instead of the other is the lack of a transparent understanding of both. So, let’s clear this up, shall we? First, we will start with analysis. Consider the following… You have a huge dataset containing data of various types. Instead of tackling the entire dataset and running the risk of becoming overwhelmed, you separate it into easier to digest chunks and study them individually and examine how they relate to other parts. And that’s analysis in a nutshell. One important thing to remember, however, is that you perform analyses on things that have already happened in the past. Such as using an analysis to explain how a story ended the way it did or how there was a decrease in sales last summer. All this means that we do analyses to explain how and/or why something happened. Great! Now, this leads us nicely on to the definition of analytics. As you have probably guessed, analytics generally refers to the future. Instead of explaining past events it explores potential future ones. Analytics is essentially the application of logical and computational reasoning to the component parts obtained in an analysis. And in doing this you are looking for patterns')"
      ]
     },
     "execution_count": 11,
     "metadata": {},
     "output_type": "execute_result"
    }
   ],
   "source": [
    "pages_pdf[0].page_content, pages_pdf_cut[0].page_content"
   ]
  },
  {
   "cell_type": "code",
   "execution_count": null,
   "id": "298b0cac-9452-48f5-8d1d-939b67f8be65",
   "metadata": {},
   "outputs": [],
   "source": []
  }
 ],
 "metadata": {
  "kernelspec": {
   "display_name": "Python (llms_course_env)",
   "language": "python",
   "name": "llms_course_env"
  },
  "language_info": {
   "codemirror_mode": {
    "name": "ipython",
    "version": 3
   },
   "file_extension": ".py",
   "mimetype": "text/x-python",
   "name": "python",
   "nbconvert_exporter": "python",
   "pygments_lexer": "ipython3",
   "version": "3.11.13"
  }
 },
 "nbformat": 4,
 "nbformat_minor": 5
}
