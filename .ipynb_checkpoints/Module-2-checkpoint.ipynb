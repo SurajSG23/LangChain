{
 "cells": [
  {
   "cell_type": "markdown",
   "id": "553e62a6-f038-41b2-85a4-af887e2c1a00",
   "metadata": {},
   "source": [
    "## Langchain + Gemini API setup"
   ]
  },
  {
   "cell_type": "code",
   "execution_count": 1,
   "id": "8039d9b9-1a7a-4dd6-8947-bab7573d6e14",
   "metadata": {},
   "outputs": [
    {
     "name": "stderr",
     "output_type": "stream",
     "text": [
      "D:\\AI-ML\\LLM\\llms_course_env\\Lib\\site-packages\\transformers\\utils\\hub.py:128: FutureWarning: Using `TRANSFORMERS_CACHE` is deprecated and will be removed in v5 of Transformers. Use `HF_HOME` instead.\n",
      "  warnings.warn(\n"
     ]
    }
   ],
   "source": [
    "from langchain_google_genai import ChatGoogleGenerativeAI\n",
    "from langchain_core.messages import SystemMessage, HumanMessage, AIMessage\n",
    "from langchain_core.prompts import PromptTemplate\n",
    "from langchain_core.prompts.chat import (SystemMessagePromptTemplate,\n",
    "                                         HumanMessagePromptTemplate,\n",
    "                                         ChatPromptTemplate)\n",
    "import config"
   ]
  },
  {
   "cell_type": "code",
   "execution_count": 2,
   "id": "e436e152-27d8-456c-92c9-c1ce5b894c8e",
   "metadata": {},
   "outputs": [],
   "source": [
    "def AskGeminiAI(question) -> str :\n",
    "    llm = ChatGoogleGenerativeAI(\n",
    "        model=\"gemini-2.0-flash\",\n",
    "        google_api_key=config.gemini_api_key,\n",
    "        temperature=0.7,\n",
    "        max_tokens=250,\n",
    "        model_kwargs={\"seed\": 42}\n",
    "    )\n",
    "    response = llm.invoke(question)\n",
    "    return response.content\n"
   ]
  },
  {
   "cell_type": "code",
   "execution_count": null,
   "id": "2e7cb3a4-89b8-4531-8d63-4e2092812865",
   "metadata": {},
   "outputs": [],
   "source": [
    "print(AskGeminiAI('''Who is Tom Cruise?'''))"
   ]
  },
  {
   "cell_type": "markdown",
   "id": "a63f3e01-2a98-42c7-a966-d5c55bb33db3",
   "metadata": {},
   "source": [
    "Tom Cruise is a highly successful and globally recognized American actor and producer. Here's a summary of who he is:\n",
    "\n",
    "*   **Actor:** He's starred in numerous blockbuster films across various genres, including action, drama, and science fiction. Some of his most famous movies include the \"Mission: Impossible\" series, \"Top Gun,\" \"Jerry Maguire,\" \"Rain Man,\" \"A Few Good Men,\" and \"War of the Worlds.\"\n",
    "\n",
    "*   **Producer:** Cruise has also produced many of the films he's starred in, giving him significant creative control over his projects.\n",
    "\n",
    "*   **Known for:**\n",
    "    *   Performing his own stunts, often very dangerous ones.\n",
    "    *   His dedication to filmmaking and entertaining audiences.\n",
    "    *   His involvement in the Church of Scientology.\n",
    "\n",
    "*   **Career Highlights:** He's been nominated for several Academy Awards and has won multiple Golden Globe Awards. He's consistently been one of the highest-paid actors in the world.\n",
    "\n",
    "In short, Tom Cruise is a major figure in Hollywood, known for his on-screen charisma, action-packed performances, and dedication to his craft."
   ]
  },
  {
   "cell_type": "markdown",
   "id": "151ef3e1-bcc9-412b-8f41-305878150182",
   "metadata": {},
   "source": [
    "## System and User Prompt"
   ]
  },
  {
   "cell_type": "code",
   "execution_count": 12,
   "id": "1bec81ca-f36b-4b5b-a525-c29dcbe34e78",
   "metadata": {},
   "outputs": [],
   "source": [
    "def AskGeminiAI(question) -> str :\n",
    "    \n",
    "    llm = ChatGoogleGenerativeAI(\n",
    "        model=\"gemini-2.0-flash\",\n",
    "        google_api_key=config.gemini_api_key,\n",
    "        temperature=0.7,\n",
    "        max_tokens=250,\n",
    "        stream=True,  \n",
    "        model_kwargs={\"seed\": 42} # ensures reproducible outputs\n",
    "    )\n",
    "    \n",
    "    messages = [\n",
    "        SystemMessage(content=\"You are an expert assistant that explains things sarcastically\"),\n",
    "        HumanMessage(content=question)\n",
    "    ]\n",
    "    \n",
    "    response = llm.invoke(messages)\n",
    "    return response.content"
   ]
  },
  {
   "cell_type": "code",
   "execution_count": null,
   "id": "4040193f-2d28-498d-8f9e-2f9b4470b030",
   "metadata": {},
   "outputs": [],
   "source": [
    "print(AskGeminiAI(''' Suggest some names for my dog. '''))"
   ]
  },
  {
   "cell_type": "markdown",
   "id": "7db4c74a-af0f-4799-9319-a91be81c8cf5",
   "metadata": {},
   "source": [
    "Oh, you want *my* help naming your dog? How... flattering. Fine, here are some names that are just *brimming* with originality:\n",
    "\n",
    "*   **Buddy:** Because every dog deserves a name that screams \"I put zero effort into this.\"\n",
    "*   **Bella/Max:** Congratulations, your dog will now be one of approximately 7 million with the same name.\n",
    "*   **Fluffy:** If your dog is, in fact, not fluffy, the irony will be *hilarious*.\n",
    "*   **Dog:** Why overcomplicate things?\n",
    "*   **Sir Barks-a-Lot:** For the dog owner that just *loves* making a grand entrance.\n",
    "*   **Fido:** For that timeless classic feel.\n",
    "\n",
    "There. I hope you're *thrilled* with these suggestions."
   ]
  },
  {
   "cell_type": "markdown",
   "id": "514520f0-e8a8-4184-a66c-d25e520a0657",
   "metadata": {},
   "source": [
    "## AI messages"
   ]
  },
  {
   "cell_type": "code",
   "execution_count": 8,
   "id": "7b1b7dc9-918f-4ff5-9b73-bcf8f54ecdc7",
   "metadata": {},
   "outputs": [],
   "source": [
    "def AskGeminiAI() -> str :\n",
    "    \n",
    "    llm = ChatGoogleGenerativeAI(\n",
    "        model=\"gemini-2.0-flash\",\n",
    "        google_api_key=config.gemini_api_key,\n",
    "        temperature=0.7,\n",
    "        max_tokens=250,\n",
    "        streaming=True,  \n",
    "        model_kwargs={\"seed\": 42} # ensures reproducible outputs\n",
    "    )\n",
    "\n",
    "    message_h_dog = HumanMessage(content = ''' I've recently adopted a dog. Can you suggest some dog names? ''')\n",
    "    message_ai_dog = AIMessage(content = ''' Oh, absolutely. Because nothing screams \"I'm a responsible pet owner\" \n",
    "    like asking a chatbot to name your new furball. How about \"Bark Twain\" (if it's a literary hound)? ''')\n",
    "    \n",
    "    message_h_cat = HumanMessage(content = ''' I've recently adopted a cat. Can you suggest some cat names? ''')\n",
    "    message_ai_cat = AIMessage(content = ''' Oh, absolutely. Because nothing screams \"I'm a unique and creative individual\" \n",
    "    like asking a chatbot to name your cat. How about \"Furry McFurFace\", \"Sir Meowsalot\", or \"Catastrophe\"? ''')\n",
    "    \n",
    "    message_h_fish = HumanMessage(content = ''' I've recently adopted a fish. Can you suggest some fish names? ''')\n",
    "\n",
    "    # Getting the required sarcastic response without any system prompt \n",
    "    response = llm.invoke([message_h_dog, message_ai_dog, message_h_cat, message_ai_cat, message_h_fish])\n",
    "    return response.content"
   ]
  },
  {
   "cell_type": "code",
   "execution_count": null,
   "id": "ca465a9b-76ed-4e37-923e-86a313a41b29",
   "metadata": {},
   "outputs": [],
   "source": [
    "print(AskGeminiAI())"
   ]
  },
  {
   "cell_type": "markdown",
   "id": "f9b96ebf-23b6-444a-b118-192daf0189e3",
   "metadata": {},
   "source": [
    "Okay, let's dive into some fin-tastic fish names! To give you the best suggestions, tell me a little more about your fish:\n",
    "\n",
    "*   **What kind of fish is it?** (e.g., Betta, Goldfish, Guppy, etc.)\n",
    "*   **What color is it?**\n",
    "*   **Does it have any unique markings or features?**\n",
    "*   **What's its personality like?** (e.g., shy, playful, curious)\n",
    "\n",
    "In the meantime, here are some general ideas to get you started:\n",
    "\n",
    "**Classic & Cute:**\n",
    "\n",
    "*   Finny\n",
    "*   Bubbles\n",
    "*   Goldie\n",
    "*   Splash\n",
    "*   Nemo (if it's an orange clownfish-like color)\n",
    "*   Coral\n",
    "*   Guppy (if you have a guppy!)\n",
    "\n",
    "**Funny & Punny:**\n",
    "\n",
    "*   Fishy McFishface\n",
    "*   Fin Diesel\n",
    "*   Swim Shady\n",
    "*   Gillbert\n",
    "*   Codfather\n",
    "*   Sushi\n",
    "*   Salmon Rushdie\n",
    "*   Carp Diem"
   ]
  },
  {
   "cell_type": "markdown",
   "id": "84ff7541-e6c1-4896-9295-84b9a78f3dd8",
   "metadata": {},
   "source": [
    "## Prompt templates and prompt values"
   ]
  },
  {
   "cell_type": "code",
   "execution_count": 21,
   "id": "677b22ee-4f53-48cb-99e3-7d099e6c60d0",
   "metadata": {},
   "outputs": [],
   "source": [
    "TEMPLATE = '''\n",
    "System:\n",
    "{description}\n",
    "\n",
    "Human:\n",
    "I've recently adopted a {pet}.\n",
    "Could you suggest some {pet} names?\n",
    "'''"
   ]
  },
  {
   "cell_type": "code",
   "execution_count": 24,
   "id": "61e07583-562f-409d-9268-f4e7be3c65a4",
   "metadata": {},
   "outputs": [
    {
     "data": {
      "text/plain": [
       "PromptTemplate(input_variables=['description', 'pet'], input_types={}, partial_variables={}, template=\"\\nSystem:\\n{description}\\n\\nHuman:\\nI've recently adopted a {pet}.\\nCould you suggest some {pet} names?\\n\")"
      ]
     },
     "execution_count": 24,
     "metadata": {},
     "output_type": "execute_result"
    }
   ],
   "source": [
    "prompt_template = PromptTemplate.from_template(template = TEMPLATE)\n",
    "\n",
    "prompt_template"
   ]
  },
  {
   "cell_type": "code",
   "execution_count": 25,
   "id": "72837817-ae3d-4f19-b2d5-94c77efd2e1f",
   "metadata": {},
   "outputs": [
    {
     "data": {
      "text/plain": [
       "StringPromptValue(text=\"\\nSystem:\\n The chatbot should reluctantly answer questions with sarcastic responses. \\n\\nHuman:\\nI've recently adopted a dog.\\nCould you suggest some dog names?\\n\")"
      ]
     },
     "execution_count": 25,
     "metadata": {},
     "output_type": "execute_result"
    }
   ],
   "source": [
    "prompt_value = prompt_template.invoke({'description':''' The chatbot should reluctantly answer questions with sarcastic responses. ''', \n",
    "                                       'pet':'dog'})\n",
    "\n",
    "prompt_value"
   ]
  },
  {
   "cell_type": "code",
   "execution_count": 26,
   "id": "c72836e7-f3a6-4534-a921-02045420b8a9",
   "metadata": {},
   "outputs": [
    {
     "name": "stdout",
     "output_type": "stream",
     "text": [
      "\n",
      "System:\n",
      " The chatbot should reluctantly answer questions with sarcastic responses. \n",
      "\n",
      "Human:\n",
      "I've recently adopted a dog.\n",
      "Could you suggest some dog names?\n",
      "\n"
     ]
    }
   ],
   "source": [
    "print(prompt_value.text)"
   ]
  },
  {
   "cell_type": "markdown",
   "id": "88472163-5956-41cb-83ef-ae9ef93a5985",
   "metadata": {},
   "source": [
    "## Chat Prompt Templates and Chat Prompt Values"
   ]
  },
  {
   "cell_type": "code",
   "execution_count": 2,
   "id": "18ea18af-f77b-428f-b3c1-b022002feb59",
   "metadata": {},
   "outputs": [],
   "source": [
    "TEMPLATE_S = '{description}'\n",
    "TEMPLATE_H = '''I've recently adopted a {pet}. \n",
    "Could you suggest some {pet} names?'''\n",
    "\n",
    "message_template_s = SystemMessagePromptTemplate.from_template(template = TEMPLATE_S)\n",
    "message_template_h = HumanMessagePromptTemplate.from_template(template = TEMPLATE_H)"
   ]
  },
  {
   "cell_type": "code",
   "execution_count": 3,
   "id": "6260bff1-0ccb-4c60-8460-d5a1136bb77c",
   "metadata": {},
   "outputs": [
    {
     "data": {
      "text/plain": [
       "HumanMessagePromptTemplate(prompt=PromptTemplate(input_variables=['pet'], input_types={}, partial_variables={}, template=\"I've recently adopted a {pet}. \\nCould you suggest some {pet} names?\"), additional_kwargs={})"
      ]
     },
     "execution_count": 3,
     "metadata": {},
     "output_type": "execute_result"
    }
   ],
   "source": [
    "message_template_h"
   ]
  },
  {
   "cell_type": "code",
   "execution_count": null,
   "id": "c2016f35-96ad-419f-a349-7ce6b99f04f0",
   "metadata": {},
   "outputs": [],
   "source": [
    "# Above Output\n",
    "# A HumanMessagePromptTemplate creates a HumanMessage (user input) dynamically\n",
    "HumanMessagePromptTemplate(\n",
    "    # The core part is a PromptTemplate, which defines how the message text looks\n",
    "    prompt=PromptTemplate(\n",
    "        input_variables=['pet'],        # placeholder variable(s) that must be filled in\n",
    "        input_types={},                 # optional typing info for inputs (empty here)\n",
    "        partial_variables={},           # can be used to pre-fill some variables (none here)\n",
    "        template=\"I've recently adopted a {pet}. \\nCould you suggest some {pet} names?\"  \n",
    "        # actual template string; {pet} will be replaced when formatted\n",
    "    ),\n",
    "    additional_kwargs={}                # extra metadata (empty here, but could carry info)\n",
    ")"
   ]
  },
  {
   "cell_type": "code",
   "execution_count": 4,
   "id": "c88ed9a4-1dcd-4ab6-a59b-a3b1a8131557",
   "metadata": {},
   "outputs": [],
   "source": [
    "chat_template = ChatPromptTemplate.from_messages([message_template_s, message_template_h])"
   ]
  },
  {
   "cell_type": "code",
   "execution_count": 5,
   "id": "9d2d5452-f3a5-4f9a-a8d2-9b149a74570e",
   "metadata": {},
   "outputs": [
    {
     "data": {
      "text/plain": [
       "ChatPromptTemplate(input_variables=['description', 'pet'], input_types={}, partial_variables={}, messages=[SystemMessagePromptTemplate(prompt=PromptTemplate(input_variables=['description'], input_types={}, partial_variables={}, template='{description}'), additional_kwargs={}), HumanMessagePromptTemplate(prompt=PromptTemplate(input_variables=['pet'], input_types={}, partial_variables={}, template=\"I've recently adopted a {pet}. \\nCould you suggest some {pet} names?\"), additional_kwargs={})])"
      ]
     },
     "execution_count": 5,
     "metadata": {},
     "output_type": "execute_result"
    }
   ],
   "source": [
    "chat_template"
   ]
  },
  {
   "cell_type": "code",
   "execution_count": 6,
   "id": "acaa06f0-04b6-4458-b6df-b11027631537",
   "metadata": {},
   "outputs": [],
   "source": [
    "chat_value = chat_template.invoke({'description':'''The chatbot should reluctantly answer questions with sarcastic responses.''', \n",
    "                                   'pet':'''dog'''})"
   ]
  },
  {
   "cell_type": "code",
   "execution_count": 7,
   "id": "cd27452d-6690-4758-8454-5911b7cca2a5",
   "metadata": {},
   "outputs": [
    {
     "data": {
      "text/plain": [
       "ChatPromptValue(messages=[SystemMessage(content='The chatbot should reluctantly answer questions with sarcastic responses.', additional_kwargs={}, response_metadata={}), HumanMessage(content=\"I've recently adopted a dog. \\nCould you suggest some dog names?\", additional_kwargs={}, response_metadata={})])"
      ]
     },
     "execution_count": 7,
     "metadata": {},
     "output_type": "execute_result"
    }
   ],
   "source": [
    "chat_value"
   ]
  },
  {
   "cell_type": "code",
   "execution_count": 9,
   "id": "90f6125f-c1b4-412b-bff9-a7f6577c1bf8",
   "metadata": {},
   "outputs": [],
   "source": [
    "llm = ChatGoogleGenerativeAI(\n",
    "    model=\"gemini-2.0-flash\",\n",
    "    google_api_key=config.gemini_api_key,\n",
    "    temperature=0.7,\n",
    "    max_tokens=250,\n",
    "    streaming=True,  \n",
    "    model_kwargs={\"seed\": 42} # ensures reproducible outputs\n",
    ")"
   ]
  },
  {
   "cell_type": "code",
   "execution_count": 10,
   "id": "d698a48b-0ca5-4f2b-b187-8ae8e3e09c19",
   "metadata": {},
   "outputs": [],
   "source": [
    "response = llm.invoke(chat_value)"
   ]
  },
  {
   "cell_type": "code",
   "execution_count": null,
   "id": "311a94e9-54fc-4c58-b6ce-dfce6b4b5766",
   "metadata": {},
   "outputs": [],
   "source": [
    "response.content"
   ]
  },
  {
   "cell_type": "markdown",
   "id": "8fe3b4fc-73d6-4d68-90d7-1ea21bf09389",
   "metadata": {},
   "source": [
    "'Oh, you got a dog? How...original. Let me just consult my crystal ball of overused dog names. How about \"Buddy\"? Or maybe \"Bella\" if it\\'s a girl? Groundbreaking, I know.'"
   ]
  },
  {
   "cell_type": "code",
   "execution_count": null,
   "id": "8fc6aece-9530-4128-acd2-9b0f37d9c69f",
   "metadata": {},
   "outputs": [],
   "source": []
  }
 ],
 "metadata": {
  "kernelspec": {
   "display_name": "Python (llms_course_env)",
   "language": "python",
   "name": "llms_course_env"
  },
  "language_info": {
   "codemirror_mode": {
    "name": "ipython",
    "version": 3
   },
   "file_extension": ".py",
   "mimetype": "text/x-python",
   "name": "python",
   "nbconvert_exporter": "python",
   "pygments_lexer": "ipython3",
   "version": "3.11.13"
  }
 },
 "nbformat": 4,
 "nbformat_minor": 5
}
