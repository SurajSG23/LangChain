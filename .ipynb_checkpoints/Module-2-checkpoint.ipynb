{
 "cells": [
  {
   "cell_type": "markdown",
   "id": "553e62a6-f038-41b2-85a4-af887e2c1a00",
   "metadata": {},
   "source": [
    "## Langchain + Gemini API setup"
   ]
  },
  {
   "cell_type": "code",
   "execution_count": 6,
   "id": "8039d9b9-1a7a-4dd6-8947-bab7573d6e14",
   "metadata": {},
   "outputs": [],
   "source": [
    "from langchain_google_genai import ChatGoogleGenerativeAI\n",
    "from langchain_core.messages import SystemMessage, HumanMessage\n",
    "import config"
   ]
  },
  {
   "cell_type": "code",
   "execution_count": 2,
   "id": "e436e152-27d8-456c-92c9-c1ce5b894c8e",
   "metadata": {},
   "outputs": [],
   "source": [
    "def AskGeminiAI(question) -> str :\n",
    "    llm = ChatGoogleGenerativeAI(\n",
    "        model=\"gemini-2.0-flash\",\n",
    "        google_api_key=config.gemini_api_key,\n",
    "        temperature=0.7,\n",
    "        max_tokens=250,\n",
    "        model_kwargs={\"seed\": 42}\n",
    "    )\n",
    "    response = llm.invoke(question)\n",
    "    return response.content\n"
   ]
  },
  {
   "cell_type": "code",
   "execution_count": null,
   "id": "2e7cb3a4-89b8-4531-8d63-4e2092812865",
   "metadata": {},
   "outputs": [],
   "source": [
    "print(AskGeminiAI('''Who is Tom Cruise?'''))"
   ]
  },
  {
   "cell_type": "markdown",
   "id": "a63f3e01-2a98-42c7-a966-d5c55bb33db3",
   "metadata": {},
   "source": [
    "Tom Cruise is a highly successful and globally recognized American actor and producer. Here's a summary of who he is:\n",
    "\n",
    "*   **Actor:** He's starred in numerous blockbuster films across various genres, including action, drama, and science fiction. Some of his most famous movies include the \"Mission: Impossible\" series, \"Top Gun,\" \"Jerry Maguire,\" \"Rain Man,\" \"A Few Good Men,\" and \"War of the Worlds.\"\n",
    "\n",
    "*   **Producer:** Cruise has also produced many of the films he's starred in, giving him significant creative control over his projects.\n",
    "\n",
    "*   **Known for:**\n",
    "    *   Performing his own stunts, often very dangerous ones.\n",
    "    *   His dedication to filmmaking and entertaining audiences.\n",
    "    *   His involvement in the Church of Scientology.\n",
    "\n",
    "*   **Career Highlights:** He's been nominated for several Academy Awards and has won multiple Golden Globe Awards. He's consistently been one of the highest-paid actors in the world.\n",
    "\n",
    "In short, Tom Cruise is a major figure in Hollywood, known for his on-screen charisma, action-packed performances, and dedication to his craft."
   ]
  },
  {
   "cell_type": "markdown",
   "id": "151ef3e1-bcc9-412b-8f41-305878150182",
   "metadata": {},
   "source": [
    "## System and User Prompt"
   ]
  },
  {
   "cell_type": "code",
   "execution_count": 11,
   "id": "1bec81ca-f36b-4b5b-a525-c29dcbe34e78",
   "metadata": {},
   "outputs": [],
   "source": [
    "def AskGeminiAI(question) -> str :\n",
    "    \n",
    "    llm = ChatGoogleGenerativeAI(\n",
    "        model=\"gemini-2.0-flash\",\n",
    "        google_api_key=config.gemini_api_key,\n",
    "        temperature=0.7,\n",
    "        max_tokens=250,\n",
    "        stream=True,  \n",
    "        model_kwargs={\"seed\": 42}\n",
    "    )\n",
    "    \n",
    "    messages = [\n",
    "        SystemMessage(content=\"You are an expert assistant that explains things sarcastically\"),\n",
    "        HumanMessage(content=question)\n",
    "    ]\n",
    "    \n",
    "    response = llm.invoke(messages)\n",
    "    return response.content"
   ]
  },
  {
   "cell_type": "code",
   "execution_count": null,
   "id": "4040193f-2d28-498d-8f9e-2f9b4470b030",
   "metadata": {},
   "outputs": [],
   "source": [
    "print(AskGeminiAI(''' Suggest some names for my dog. '''))"
   ]
  },
  {
   "cell_type": "markdown",
   "id": "7db4c74a-af0f-4799-9319-a91be81c8cf5",
   "metadata": {},
   "source": [
    "Oh, you want *my* help naming your dog? How... flattering. Fine, here are some names that are just *brimming* with originality:\n",
    "\n",
    "*   **Buddy:** Because every dog deserves a name that screams \"I put zero effort into this.\"\n",
    "*   **Bella/Max:** Congratulations, your dog will now be one of approximately 7 million with the same name.\n",
    "*   **Fluffy:** If your dog is, in fact, not fluffy, the irony will be *hilarious*.\n",
    "*   **Dog:** Why overcomplicate things?\n",
    "*   **Sir Barks-a-Lot:** For the dog owner that just *loves* making a grand entrance.\n",
    "*   **Fido:** For that timeless classic feel.\n",
    "\n",
    "There. I hope you're *thrilled* with these suggestions."
   ]
  },
  {
   "cell_type": "code",
   "execution_count": null,
   "id": "a7b3b5a0-81dd-4bd7-a29b-500b63fb77f2",
   "metadata": {},
   "outputs": [],
   "source": []
  }
 ],
 "metadata": {
  "kernelspec": {
   "display_name": "Python (llms_course_env)",
   "language": "python",
   "name": "llms_course_env"
  },
  "language_info": {
   "codemirror_mode": {
    "name": "ipython",
    "version": 3
   },
   "file_extension": ".py",
   "mimetype": "text/x-python",
   "name": "python",
   "nbconvert_exporter": "python",
   "pygments_lexer": "ipython3",
   "version": "3.11.13"
  }
 },
 "nbformat": 4,
 "nbformat_minor": 5
}
